{
  "nbformat": 4,
  "nbformat_minor": 0,
  "metadata": {
    "colab": {
      "provenance": [],
      "authorship_tag": "ABX9TyOoRDcCdm/CwmvngeCSMLPK",
      "include_colab_link": true
    },
    "kernelspec": {
      "name": "python3",
      "display_name": "Python 3"
    },
    "language_info": {
      "name": "python"
    }
  },
  "cells": [
    {
      "cell_type": "markdown",
      "metadata": {
        "id": "view-in-github",
        "colab_type": "text"
      },
      "source": [
        "<a href=\"https://colab.research.google.com/github/Viny2030/Libro_Algoritmos_contra_fraude_corrupcion/blob/main/fraudet.ipynb\" target=\"_parent\"><img src=\"https://colab.research.google.com/assets/colab-badge.svg\" alt=\"Open In Colab\"/></a>"
      ]
    },
    {
      "cell_type": "code",
      "execution_count": null,
      "metadata": {
        "colab": {
          "base_uri": "https://localhost:8080/"
        },
        "id": "RU4TxLHBTs_4",
        "outputId": "04ff0380-0141-4fe0-e3fb-6f2456cae64d"
      },
      "outputs": [
        {
          "output_type": "stream",
          "name": "stdout",
          "text": [
            "        fecha beneficiario  monto\n",
            "2  2023-10-28    Empresa A   1500\n",
            "4  2023-10-30    Empresa A   1200\n"
          ]
        }
      ],
      "source": [
        "import pandas as pd\n",
        "\n",
        "def detectar_corrupcion(transacciones, umbral_monto, umbral_frecuencia):\n",
        "    \"\"\"\n",
        "    Detecta posibles transacciones sospechosas de corrupción.\n",
        "\n",
        "    Args:\n",
        "        transacciones (pd.DataFrame): DataFrame con datos de transacciones.\n",
        "        umbral_monto (float): Monto máximo permitido para transacciones sospechosas.\n",
        "        umbral_frecuencia (int): Frecuencia máxima permitida de transacciones sospechosas.\n",
        "\n",
        "    Returns:\n",
        "        pd.DataFrame: DataFrame con transacciones sospechosas.\n",
        "    \"\"\"\n",
        "\n",
        "    # 1. Filtra transacciones por monto\n",
        "    transacciones_sospechosas_monto = transacciones[transacciones['monto'] > umbral_monto]\n",
        "\n",
        "    # 2. Agrupa transacciones por beneficiario y cuenta la frecuencia\n",
        "    frecuencia_transacciones = transacciones_sospechosas_monto.groupby('beneficiario').size()\n",
        "\n",
        "    # 3. Filtra beneficiarios con alta frecuencia de transacciones\n",
        "    beneficiarios_sospechosos = frecuencia_transacciones[frecuencia_transacciones > umbral_frecuencia].index\n",
        "\n",
        "    # 4. Filtra transacciones sospechosas por beneficiario\n",
        "    transacciones_sospechosas_frecuencia = transacciones_sospechosas_monto[transacciones_sospechosas_monto['beneficiario'].isin(beneficiarios_sospechosos)]\n",
        "\n",
        "    # 5. Combina resultados\n",
        "    transacciones_sospechosas = pd.concat([transacciones_sospechosas_monto, transacciones_sospechosas_frecuencia]).drop_duplicates()\n",
        "\n",
        "    return transacciones_sospechosas\n",
        "\n",
        "# Ejemplo de uso\n",
        "datos = {\n",
        "    'fecha': ['2023-10-26', '2023-10-27', '2023-10-28', '2023-10-29', '2023-10-30', '2023-10-31'],\n",
        "    'beneficiario': ['Empresa A', 'Empresa B', 'Empresa A', 'Empresa C', 'Empresa A', 'Empresa D'],\n",
        "    'monto': [1000, 500, 1500, 200, 1200, 800]\n",
        "}\n",
        "\n",
        "transacciones = pd.DataFrame(datos)\n",
        "\n",
        "umbral_monto = 1000\n",
        "umbral_frecuencia = 2\n",
        "\n",
        "transacciones_sospechosas = detectar_corrupcion(transacciones, umbral_monto, umbral_frecuencia)\n",
        "\n",
        "print(transacciones_sospechosas)"
      ]
    },
    {
      "cell_type": "markdown",
      "source": [
        "Explicación:\n",
        "\n",
        "Filtro por monto: Identifica transacciones que superan un monto predefinido, ya que podrían indicar pagos irregulares.\n",
        "Frecuencia de transacciones: Cuenta cuántas veces se repiten las transacciones para cada beneficiario.\n",
        "Filtro por frecuencia: Selecciona beneficiarios que reciben transacciones con una frecuencia inusualmente alta.\n",
        "Combinación de resultados: Une las transacciones sospechosas por monto y por frecuencia para obtener una lista completa.\n",
        "Consideraciones importantes:\n",
        "\n",
        "Este algoritmo es solo un punto de partida. Un sistema real debería incluir análisis de datos más sofisticados, como:\n",
        "Análisis de redes para detectar relaciones ocultas entre beneficiarios.\n",
        "Uso de machine learning para identificar patrones complejos de corrupción.\n",
        "Integración con otras fuentes de datos (registros públicos, etc.).\n",
        "Los umbrales (monto y frecuencia) deben ajustarse según el contexto y los datos disponibles.\n",
        "Es importante tener en cuenta que una transacción marcada como sospechosa, no implica que sea corrupta, simplemente es una alerta para ser revisada por un auditor.\n",
        "\n",
        "\n",
        "\n",
        "\n",
        "\n"
      ],
      "metadata": {
        "id": "Jl6z6hlnT3RG"
      }
    },
    {
      "cell_type": "code",
      "source": [
        "import pandas as pd\n",
        "import numpy as np\n",
        "\n",
        "def detectar_fraude_empleados(registros_acceso, registros_gastos, umbral_accesos, umbral_gastos):\n",
        "    \"\"\"\n",
        "    Detecta posibles fraudes de empleados analizando registros de acceso y gastos.\n",
        "\n",
        "    Args:\n",
        "        registros_acceso (pd.DataFrame): DataFrame con registros de acceso de empleados.\n",
        "        registros_gastos (pd.DataFrame): DataFrame con registros de gastos de empleados.\n",
        "        umbral_accesos (int): Número máximo de accesos sospechosos permitidos.\n",
        "        umbral_gastos (float): Monto máximo de gastos sospechosos permitidos.\n",
        "\n",
        "    Returns:\n",
        "        pd.DataFrame: DataFrame con empleados sospechosos de fraude.\n",
        "    \"\"\"\n",
        "\n",
        "    # 1. Analiza registros de acceso\n",
        "    accesos_inusuales = registros_acceso.groupby('empleado').size()\n",
        "    empleados_accesos_sospechosos = accesos_inusuales[accesos_inusuales > umbral_accesos].index\n",
        "\n",
        "    # 2. Analiza registros de gastos\n",
        "    gastos_inusuales = registros_gastos.groupby('empleado')['monto'].sum()\n",
        "    empleados_gastos_sospechosos = gastos_inusuales[gastos_inusuales > umbral_gastos].index\n",
        "\n",
        "    # 3. Combina resultados\n",
        "    empleados_sospechosos = np.union1d(empleados_accesos_sospechosos, empleados_gastos_sospechosos)\n",
        "\n",
        "    # 4. Crea DataFrame con información de empleados sospechosos\n",
        "    datos_sospechosos = {\n",
        "        'empleado': empleados_sospechosos,\n",
        "        'accesos_inusuales': [accesos_inusuales.get(e, 0) for e in empleados_sospechosos],\n",
        "        'gastos_inusuales': [gastos_inusuales.get(e, 0) for e in empleados_sospechosos]\n",
        "    }\n",
        "    df_sospechosos = pd.DataFrame(datos_sospechosos)\n",
        "\n",
        "    return df_sospechosos\n",
        "\n",
        "# Ejemplo de uso\n",
        "registros_acceso = pd.DataFrame({\n",
        "    'empleado': ['Juan', 'María', 'Juan', 'Pedro', 'María', 'Juan'],\n",
        "    'fecha': ['2023-10-26', '2023-10-27', '2023-10-28', '2023-10-29', '2023-10-30', '2023-10-31']\n",
        "})\n",
        "\n",
        "registros_gastos = pd.DataFrame({\n",
        "    'empleado': ['Juan', 'María', 'Pedro', 'Ana'],\n",
        "    'monto': [500, 1200, 800, 200]\n",
        "})\n",
        "\n",
        "umbral_accesos = 3\n",
        "umbral_gastos = 1000\n",
        "\n",
        "empleados_sospechosos = detectar_fraude_empleados(registros_acceso, registros_gastos, umbral_accesos, umbral_gastos)\n",
        "\n",
        "print(empleados_sospechosos)"
      ],
      "metadata": {
        "colab": {
          "base_uri": "https://localhost:8080/"
        },
        "id": "IV9Py_B9T6Qn",
        "outputId": "ea787a42-7110-4a81-b6c6-da1fd01cbc44"
      },
      "execution_count": null,
      "outputs": [
        {
          "output_type": "stream",
          "name": "stdout",
          "text": [
            "  empleado  accesos_inusuales  gastos_inusuales\n",
            "0    María                  2              1200\n"
          ]
        }
      ]
    },
    {
      "cell_type": "markdown",
      "source": [
        "Explicación:\n",
        "\n",
        "Análisis de registros de acceso: Cuenta el número de accesos por empleado y detecta aquellos con una frecuencia inusualmente alta.\n",
        "Análisis de registros de gastos: Suma los gastos por empleado y detecta aquellos con montos inusualmente altos.\n",
        "Combinación de resultados: Identifica a los empleados que aparecen en ambas listas de sospechosos.\n",
        "Creación de DataFrame: Crea un DataFrame con la información de los empleados sospechosos, incluyendo el número de accesos y gastos inusuales.\n",
        "Consideraciones importantes:\n",
        "\n",
        "Este algoritmo es solo un punto de partida. Un sistema real debería incluir análisis de datos más sofisticados, como:\n",
        "Análisis de patrones de acceso (horas, ubicaciones, etc.).\n",
        "Análisis de tipos de gastos (proveedores, categorías, etc.).\n",
        "Uso de machine learning para identificar patrones complejos de fraude.\n",
        "Integración con otras fuentes de datos (registros de nómina, etc.).\n",
        "Los umbrales (accesos y gastos) deben ajustarse según el contexto y los datos disponibles.\n",
        "Es importante tener en cuenta que un empleado marcado como sospechoso, no implica que sea culpable de fraude, simplemente es una alerta para ser revisada por un auditor."
      ],
      "metadata": {
        "id": "w5S_sNccT-Uo"
      }
    },
    {
      "cell_type": "code",
      "source": [
        "\n",
        "\n",
        "import pandas as pd\n",
        "import numpy as np\n",
        "\n",
        "def detectar_fraude_directorio(registros_financieros, registros_reuniones, umbral_gastos, umbral_reuniones):\n",
        "    \"\"\"\n",
        "    Detecta posibles fraudes de directorio analizando registros financieros y reuniones.\n",
        "\n",
        "    Args:\n",
        "        registros_financieros (pd.DataFrame): DataFrame con registros de gastos del directorio.\n",
        "        registros_reuniones (pd.DataFrame): DataFrame con registros de asistencia a reuniones.\n",
        "        umbral_gastos (float): Monto máximo de gastos sospechosos permitidos.\n",
        "        umbral_reuniones (int): Número mínimo de reuniones a las que se debe asistir.\n",
        "\n",
        "    Returns:\n",
        "        pd.DataFrame: DataFrame con miembros del directorio sospechosos de fraude.\n",
        "    \"\"\"\n",
        "\n",
        "    # 1. Analiza registros financieros\n",
        "    gastos_inusuales = registros_financieros.groupby('miembro_directorio')['monto'].sum()\n",
        "    miembros_gastos_sospechosos = gastos_inusuales[gastos_inusuales > umbral_gastos].index\n",
        "\n",
        "    # 2. Analiza registros de reuniones\n",
        "    asistencia_reuniones = registros_reuniones.groupby('miembro_directorio').size()\n",
        "    miembros_asistencia_sospechosos = asistencia_reuniones[asistencia_reuniones < umbral_reuniones].index\n",
        "\n",
        "    # 3. Combina resultados\n",
        "    miembros_sospechosos = np.union1d(miembros_gastos_sospechosos, miembros_asistencia_sospechosos)\n",
        "\n",
        "    # 4. Crea DataFrame con información de miembros sospechosos\n",
        "    datos_sospechosos = {\n",
        "        'miembro_directorio': miembros_sospechosos,\n",
        "        'gastos_inusuales': [gastos_inusuales.get(m, 0) for m in miembros_sospechosos],\n",
        "        'asistencia_reuniones': [asistencia_reuniones.get(m, 0) for m in miembros_sospechosos]\n",
        "    }\n",
        "    df_sospechosos = pd.DataFrame(datos_sospechosos)\n",
        "\n",
        "    return df_sospechosos\n",
        "\n",
        "# Ejemplo de uso\n",
        "registros_financieros = pd.DataFrame({\n",
        "    'miembro_directorio': ['Ana', 'Carlos', 'Ana', 'David'],\n",
        "    'monto': [1500, 800, 1200, 200]\n",
        "})\n",
        "\n",
        "registros_reuniones = pd.DataFrame({\n",
        "    'miembro_directorio': ['Ana', 'Carlos', 'David'],\n",
        "    'fecha': ['2023-10-26', '2023-10-27', '2023-10-28']\n",
        "})\n",
        "\n",
        "umbral_gastos = 1000\n",
        "umbral_reuniones = 2\n",
        "\n",
        "miembros_sospechosos = detectar_fraude_directorio(registros_financieros, registros_reuniones, umbral_gastos, umbral_reuniones)\n",
        "\n",
        "print(miembros_sospechosos)"
      ],
      "metadata": {
        "colab": {
          "base_uri": "https://localhost:8080/"
        },
        "id": "xxEpMebzUF27",
        "outputId": "6280b220-85b1-4661-9bb4-7e543c7ccc7c"
      },
      "execution_count": null,
      "outputs": [
        {
          "output_type": "stream",
          "name": "stdout",
          "text": [
            "  miembro_directorio  gastos_inusuales  asistencia_reuniones\n",
            "0                Ana              2700                     1\n",
            "1             Carlos               800                     1\n",
            "2              David               200                     1\n"
          ]
        }
      ]
    },
    {
      "cell_type": "markdown",
      "source": [
        "Explicación:\n",
        "\n",
        "Análisis de registros financieros: Suma los gastos por miembro del directorio y detecta aquellos con montos inusualmente altos.\n",
        "Análisis de registros de reuniones: Cuenta el número de reuniones a las que asistió cada miembro y detecta aquellos con baja asistencia.\n",
        "Combinación de resultados: Identifica a los miembros que aparecen en ambas listas de sospechosos.\n",
        "Creación de DataFrame: Crea un DataFrame con la información de los miembros sospechosos, incluyendo los gastos inusuales y la asistencia a reuniones.\n",
        "Consideraciones importantes:\n",
        "\n",
        "Este algoritmo es un punto de partida. Un sistema real debería incluir análisis de datos más sofisticados, como:\n",
        "Análisis de patrones de gastos (tipos de gastos, proveedores, etc.).\n",
        "Análisis de justificación de gastos.\n",
        "Análisis de conflictos de interés.\n",
        "Uso de machine learning para identificar patrones complejos de fraude.\n",
        "Integración con otras fuentes de datos (registros de transacciones de la empresa, etc.).\n",
        "Los umbrales (gastos y reuniones) deben ajustarse según el contexto y los datos disponibles.\n",
        "Es importante tener en cuenta que un miembro marcado como sospechoso, no implica que sea culpable de fraude, simplemente es una alerta para ser revisada por un auditor."
      ],
      "metadata": {
        "id": "z6vauZ9uULNV"
      }
    },
    {
      "cell_type": "code",
      "source": [
        "\n",
        "\n",
        "import pandas as pd\n",
        "import numpy as np\n",
        "\n",
        "def detectar_fraude_compras(registros_compras, umbral_monto, umbral_frecuencia, umbral_proveedores):\n",
        "    \"\"\"\n",
        "    Detecta posibles fraudes en compras analizando registros de compras.\n",
        "\n",
        "    Args:\n",
        "        registros_compras (pd.DataFrame): DataFrame con registros de compras.\n",
        "        umbral_monto (float): Monto máximo de compras sospechosas permitidas.\n",
        "        umbral_frecuencia (int): Frecuencia máxima de compras sospechosas permitidas.\n",
        "        umbral_proveedores (int): Número máximo de proveedores sospechosos permitidos.\n",
        "\n",
        "    Returns:\n",
        "        pd.DataFrame: DataFrame con compras sospechosas de fraude.\n",
        "    \"\"\"\n",
        "\n",
        "    # 1. Analiza compras por monto\n",
        "    compras_montos_sospechosas = registros_compras[registros_compras['monto'] > umbral_monto]\n",
        "\n",
        "    # 2. Analiza frecuencia de compras por empleado\n",
        "    frecuencia_compras = registros_compras.groupby('empleado').size()\n",
        "    empleados_frecuencia_sospechosos = frecuencia_compras[frecuencia_compras > umbral_frecuencia].index\n",
        "\n",
        "    # 3. Analiza número de proveedores por empleado\n",
        "    proveedores_compras = registros_compras.groupby('empleado')['proveedor'].nunique()\n",
        "    empleados_proveedores_sospechosos = proveedores_compras[proveedores_compras > umbral_proveedores].index\n",
        "\n",
        "    # 4. Combina resultados\n",
        "    empleados_sospechosos = np.union1d(empleados_frecuencia_sospechosos, empleados_proveedores_sospechosos)\n",
        "    compras_sospechosas = registros_compras[registros_compras['empleado'].isin(empleados_sospechosos)]\n",
        "\n",
        "    # 5. Combina compras sospechosas por monto y por empleado\n",
        "    compras_sospechosas = pd.concat([compras_montos_sospechosas, compras_sospechosas]).drop_duplicates()\n",
        "\n",
        "    return compras_sospechosas\n",
        "\n",
        "# Ejemplo de uso\n",
        "registros_compras = pd.DataFrame({\n",
        "    'empleado': ['Ana', 'Carlos', 'Ana', 'David', 'Ana', 'Carlos'],\n",
        "    'proveedor': ['Proveedor A', 'Proveedor B', 'Proveedor C', 'Proveedor A', 'Proveedor D', 'Proveedor E'],\n",
        "    'monto': [1500, 800, 1200, 200, 1000, 500]\n",
        "})\n",
        "\n",
        "umbral_monto = 1000\n",
        "umbral_frecuencia = 2\n",
        "umbral_proveedores = 3\n",
        "\n",
        "compras_sospechosas = detectar_fraude_compras(registros_compras, umbral_monto, umbral_frecuencia, umbral_proveedores)\n",
        "\n",
        "print(compras_sospechosas)"
      ],
      "metadata": {
        "colab": {
          "base_uri": "https://localhost:8080/"
        },
        "id": "LAXW-pZlUSRI",
        "outputId": "6e86eb9f-8b32-4263-e671-fd14d5c2f967"
      },
      "execution_count": null,
      "outputs": [
        {
          "output_type": "stream",
          "name": "stdout",
          "text": [
            "  empleado    proveedor  monto\n",
            "0      Ana  Proveedor A   1500\n",
            "2      Ana  Proveedor C   1200\n",
            "4      Ana  Proveedor D   1000\n"
          ]
        }
      ]
    },
    {
      "cell_type": "markdown",
      "source": [
        "Explicación:\n",
        "\n",
        "Análisis de compras por monto: Detecta compras que superan un monto predefinido.\n",
        "Análisis de frecuencia de compras: Cuenta el número de compras por empleado y detecta aquellos con alta frecuencia.\n",
        "Análisis de número de proveedores: Cuenta el número de proveedores utilizados por cada empleado y detecta aquellos con muchos proveedores.\n",
        "Combinación de resultados: Identifica a los empleados que aparecen en las listas de sospechosos por frecuencia y proveedores.\n",
        "Combinación de compras sospechosas: Une las compras sospechosas por monto y por empleado para obtener una lista completa.\n",
        "Consideraciones importantes:\n",
        "\n",
        "Este algoritmo es un punto de partida. Un sistema real debería incluir análisis de datos más sofisticados, como:\n",
        "Análisis de patrones de compras (tipos de productos, horarios, etc.).\n",
        "Análisis de justificación de compras.\n",
        "Análisis de relaciones entre empleados y proveedores.\n",
        "Uso de machine learning para identificar patrones complejos de fraude.\n",
        "Integración con otras fuentes de datos (registros de inventario, etc.).\n",
        "Los umbrales (monto, frecuencia y proveedores) deben ajustarse según el contexto y los datos disponibles.\n",
        "Es importante tener en cuenta que una compra marcada como sospechosa, no implica que sea fraudulenta, simplemente es una alerta para ser revisada por un auditor."
      ],
      "metadata": {
        "id": "KwN9t8JoUX5_"
      }
    },
    {
      "cell_type": "code",
      "source": [
        "import pandas as pd\n",
        "\n",
        "def comparar_precios_compra(registros_precios):\n",
        "    \"\"\"\n",
        "    Compara precios de compra entre proveedores y selecciona la mejor opción.\n",
        "\n",
        "    Args:\n",
        "        registros_precios (pd.DataFrame): DataFrame con registros de precios de compra.\n",
        "\n",
        "    Returns:\n",
        "        pd.DataFrame: DataFrame con la mejor opción de compra para cada producto.\n",
        "    \"\"\"\n",
        "\n",
        "    # 1. Agrupa los precios por producto y proveedor\n",
        "    precios_agrupados = registros_precios.groupby(['producto', 'proveedor'])['precio'].min().reset_index()\n",
        "\n",
        "    # 2. Encuentra el precio mínimo para cada producto\n",
        "    mejor_opcion = precios_agrupados.loc[precios_agrupados.groupby('producto')['precio'].idxmin()]\n",
        "\n",
        "    return mejor_opcion\n",
        "\n",
        "# Ejemplo de uso\n",
        "registros_precios = pd.DataFrame({\n",
        "    'producto': ['Producto A', 'Producto B', 'Producto A', 'Producto C', 'Producto B'],\n",
        "    'proveedor': ['Proveedor 1', 'Proveedor 2', 'Proveedor 3', 'Proveedor 1', 'Proveedor 3'],\n",
        "    'precio': [100, 150, 90, 200, 140]\n",
        "})\n",
        "\n",
        "mejor_opcion_compra = comparar_precios_compra(registros_precios)\n",
        "\n",
        "print(mejor_opcion_compra)"
      ],
      "metadata": {
        "colab": {
          "base_uri": "https://localhost:8080/"
        },
        "id": "g-DXJ65oUehR",
        "outputId": "a8f0a9ed-95a6-458b-96d7-1adf78893491"
      },
      "execution_count": null,
      "outputs": [
        {
          "output_type": "stream",
          "name": "stdout",
          "text": [
            "     producto    proveedor  precio\n",
            "1  Producto A  Proveedor 3      90\n",
            "3  Producto B  Proveedor 3     140\n",
            "4  Producto C  Proveedor 1     200\n"
          ]
        }
      ]
    },
    {
      "cell_type": "markdown",
      "source": [
        "Explicación:\n",
        "\n",
        "Agrupación de precios: Agrupa los registros de precios por producto y proveedor, y selecciona el precio mínimo para cada combinación.\n",
        "Precio mínimo por producto: Encuentra el proveedor con el precio mínimo para cada producto.\n",
        "DataFrame con mejor opción: Crea un DataFrame con la mejor opción de compra para cada producto, incluyendo el producto, el proveedor y el precio.\n",
        "Consideraciones importantes:\n",
        "\n",
        "Este código asume que tienes un DataFrame con los registros de precios de compra, incluyendo las columnas 'producto', 'proveedor' y 'precio'.\n",
        "Puedes adaptar este código para incluir otros criterios de selección, como la calidad del proveedor, el tiempo de entrega, etc.\n",
        "Si tienes grandes volúmenes de datos, puedes utilizar bibliotecas como Dask o Spark para paralelizar el procesamiento y mejorar el rendimiento.\n",
        "Es importante mantener actualizados los registros de precios para garantizar que la comparación sea precisa."
      ],
      "metadata": {
        "id": "QWz4RNemUm5D"
      }
    },
    {
      "cell_type": "code",
      "source": [
        "import pandas as pd\n",
        "\n",
        "def comparar_precios_externos(registros_precios_internos, registros_precios_externos):\n",
        "    \"\"\"\n",
        "    Compara precios de compra con una lista de precios externa y resalta las diferencias.\n",
        "\n",
        "    Args:\n",
        "        registros_precios_internos (pd.DataFrame): DataFrame con registros de precios de compra internos.\n",
        "        registros_precios_externos (pd.DataFrame): DataFrame con registros de precios de compra externos.\n",
        "\n",
        "    Returns:\n",
        "        pd.DataFrame: DataFrame con las diferencias de precios.\n",
        "    \"\"\"\n",
        "\n",
        "    # 1. Combina los DataFrames por producto\n",
        "    precios_combinados = pd.merge(registros_precios_internos, registros_precios_externos, on='producto', suffixes=('_interno', '_externo'))\n",
        "\n",
        "    # 2. Calcula la diferencia de precios\n",
        "    precios_combinados['diferencia_precio'] = precios_combinados['precio_interno'] - precios_combinados['precio_externo']\n",
        "\n",
        "    # 3. Filtra las diferencias de precios\n",
        "    diferencias_precios = precios_combinados[precios_combinados['diferencia_precio'] != 0]\n",
        "\n",
        "    return diferencias_precios\n",
        "\n",
        "# Ejemplo de uso\n",
        "registros_precios_internos = pd.DataFrame({\n",
        "    'producto': ['Producto A', 'Producto B', 'Producto C'],\n",
        "    'precio_interno': [100, 150, 200]\n",
        "})\n",
        "\n",
        "registros_precios_externos = pd.DataFrame({\n",
        "    'producto': ['Producto A', 'Producto B', 'Producto C'],\n",
        "    'precio_externo': [90, 160, 200]\n",
        "})\n",
        "\n",
        "diferencias_precios = comparar_precios_externos(registros_precios_internos, registros_precios_externos)\n",
        "\n",
        "print(diferencias_precios)\n"
      ],
      "metadata": {
        "colab": {
          "base_uri": "https://localhost:8080/"
        },
        "id": "1nkyrbCLUu4G",
        "outputId": "819f6cea-a8c5-4ed7-cb87-4ec884339a56"
      },
      "execution_count": null,
      "outputs": [
        {
          "output_type": "stream",
          "name": "stdout",
          "text": [
            "     producto  precio_interno  precio_externo  diferencia_precio\n",
            "0  Producto A             100              90                 10\n",
            "1  Producto B             150             160                -10\n"
          ]
        }
      ]
    },
    {
      "cell_type": "markdown",
      "source": [
        "Explicación:\n",
        "\n",
        "Combinación de DataFrames: Combina los DataFrames de precios internos y externos utilizando la columna 'producto' como clave.\n",
        "Cálculo de diferencia de precios: Calcula la diferencia entre los precios internos y externos para cada producto.\n",
        "Filtrado de diferencias: Filtra las filas donde la diferencia de precios es distinta de cero.\n",
        "DataFrame con diferencias: Crea un DataFrame con las diferencias de precios, incluyendo el producto, los precios internos y externos, y la diferencia.\n",
        "Consideraciones importantes:\n",
        "\n",
        "Este código asume que tienes dos DataFrames con registros de precios, uno interno y otro externo, y que ambos tienen una columna llamada 'producto' que se utiliza para combinar los DataFrames.\n",
        "Puedes adaptar este código para incluir otros criterios de comparación, como la calidad del producto, el tiempo de entrega, etc.\n",
        "Si tienes grandes volúmenes de datos, puedes utilizar bibliotecas como Dask o Spark para paralelizar el procesamiento y mejorar el rendimiento.\n",
        "Es importante mantener actualizadas las listas de precios internas y externas para garantizar que la comparación sea precisa"
      ],
      "metadata": {
        "id": "e1EUZCZDU2HW"
      }
    },
    {
      "cell_type": "code",
      "source": [
        "import pandas as pd\n",
        "import numpy as np\n",
        "\n",
        "def detectar_fraude_creditos(registros_creditos, umbral_monto, umbral_plazo, umbral_ingresos):\n",
        "    \"\"\"\n",
        "    Detecta posibles fraudes de créditos analizando registros de créditos.\n",
        "\n",
        "    Args:\n",
        "        registros_creditos (pd.DataFrame): DataFrame con registros de créditos.\n",
        "        umbral_monto (float): Monto máximo de créditos sospechosos permitidos.\n",
        "        umbral_plazo (int): Plazo máximo de créditos sospechosos permitidos.\n",
        "        umbral_ingresos (float): Ingresos mínimos requeridos para créditos sospechosos.\n",
        "\n",
        "    Returns:\n",
        "        pd.DataFrame: DataFrame con créditos sospechosos de fraude.\n",
        "    \"\"\"\n",
        "\n",
        "    # 1. Analiza créditos por monto\n",
        "    creditos_montos_sospechosos = registros_creditos[registros_creditos['monto'] > umbral_monto]\n",
        "\n",
        "    # 2. Analiza créditos por plazo\n",
        "    creditos_plazos_sospechosos = registros_creditos[registros_creditos['plazo'] > umbral_plazo]\n",
        "\n",
        "    # 3. Analiza créditos por ingresos del solicitante\n",
        "    creditos_ingresos_sospechosos = registros_creditos[registros_creditos['ingresos'] < umbral_ingresos]\n",
        "\n",
        "    # 4. Combina resultados\n",
        "    creditos_sospechosos = pd.concat([creditos_montos_sospechosos, creditos_plazos_sospechosos, creditos_ingresos_sospechosos]).drop_duplicates()\n",
        "\n",
        "    return creditos_sospechosos\n",
        "\n",
        "# Ejemplo de uso\n",
        "registros_creditos = pd.DataFrame({\n",
        "    'cliente': ['Ana', 'Carlos', 'Ana', 'David', 'Ana', 'Carlos'],\n",
        "    'monto': [1500, 800, 1200, 200, 1000, 500],\n",
        "    'plazo': [12, 6, 18, 3, 24, 10],\n",
        "    'ingresos': [2000, 1500, 1800, 1000, 2500, 1200]\n",
        "})\n",
        "\n",
        "umbral_monto = 1000\n",
        "umbral_plazo = 18\n",
        "umbral_ingresos = 1500\n",
        "\n",
        "creditos_sospechosos = detectar_fraude_creditos(registros_creditos, umbral_monto, umbral_plazo, umbral_ingresos)\n",
        "\n",
        "print(creditos_sospechosos)"
      ],
      "metadata": {
        "colab": {
          "base_uri": "https://localhost:8080/"
        },
        "id": "tBvSO-WnVAVl",
        "outputId": "e1fec634-2ac1-4d08-c3a7-0a5dbd8bcc36"
      },
      "execution_count": null,
      "outputs": [
        {
          "output_type": "stream",
          "name": "stdout",
          "text": [
            "  cliente  monto  plazo  ingresos\n",
            "0     Ana   1500     12      2000\n",
            "2     Ana   1200     18      1800\n",
            "4     Ana   1000     24      2500\n",
            "3   David    200      3      1000\n",
            "5  Carlos    500     10      1200\n"
          ]
        }
      ]
    },
    {
      "cell_type": "markdown",
      "source": [
        "Explicación:\n",
        "\n",
        "Análisis de créditos por monto: Detecta créditos que superan un monto predefinido.\n",
        "Análisis de créditos por plazo: Detecta créditos que tienen un plazo inusualmente largo.\n",
        "Análisis de créditos por ingresos: Detecta créditos otorgados a solicitantes con ingresos insuficientes.\n",
        "Combinación de resultados: Combina los créditos sospechosos por monto, plazo e ingresos para obtener una lista completa.\n",
        "Consideraciones importantes:\n",
        "\n",
        "Este algoritmo es un punto de partida. Un sistema real debería incluir análisis de datos más sofisticados, como:\n",
        "Análisis de patrones de comportamiento de los solicitantes.\n",
        "Análisis de la información crediticia de los solicitantes.\n",
        "Uso de machine learning para identificar patrones complejos de fraude.\n",
        "Integración con otras fuentes de datos (registros de transacciones, etc.).\n",
        "Los umbrales (monto, plazo e ingresos) deben ajustarse según el contexto y los datos disponibles.\n",
        "Es importante tener en cuenta que un crédito marcado como sospechoso, no implica que sea fraudulento, simplemente es una alerta para ser revisada por un analista de crédito.\n",
        "Recomendaciones adicionales:\n",
        "\n",
        "Implementa un sistema de gestión de riesgos de crédito que incluya políticas y procedimientos claros para la evaluación y aprobación de créditos.\n",
        "Capacita a tu personal en la detección de fraudes de crédito.\n",
        "Realiza auditorías periódicas de tus procesos de crédito.\n",
        "Mantente actualizado sobre las últimas tendencias en fraudes de crédito.\n",
        "\n",
        "\n",
        "\n",
        "\n",
        "\n"
      ],
      "metadata": {
        "id": "LprwrokfVFix"
      }
    },
    {
      "cell_type": "code",
      "source": [
        "import pandas as pd\n",
        "from sklearn.ensemble import IsolationForest\n",
        "\n",
        "def detectar_anomalias_compras(registros_compras, umbral_anomalia):\n",
        "    \"\"\"\n",
        "    Detecta anomalías en compras utilizando Isolation Forest.\n",
        "\n",
        "    Args:\n",
        "        registros_compras (pd.DataFrame): DataFrame con registros de compras.\n",
        "        umbral_anomalia (float): Umbral para considerar una compra como anomalía.\n",
        "\n",
        "    Returns:\n",
        "        pd.DataFrame: DataFrame con compras sospechosas de fraude.\n",
        "    \"\"\"\n",
        "\n",
        "    # 1. Selecciona las columnas relevantes para el análisis\n",
        "    columnas_analisis = ['monto', 'cantidad', 'precio_unitario']\n",
        "    datos_analisis = registros_compras[columnas_analisis]\n",
        "\n",
        "    # 2. Entrena el modelo Isolation Forest\n",
        "    modelo = IsolationForest(contamination=umbral_anomalia)\n",
        "    modelo.fit(datos_analisis)\n",
        "\n",
        "    # 3. Predice las anomalías\n",
        "    anomalias = modelo.predict(datos_analisis)\n",
        "\n",
        "    # 4. Agrega las predicciones al DataFrame original\n",
        "    registros_compras['anomalia'] = anomalias\n",
        "\n",
        "    # 5. Filtra las compras sospechosas\n",
        "    compras_sospechosas = registros_compras[registros_compras['anomalia'] == -1]\n",
        "\n",
        "    return compras_sospechosas\n",
        "\n",
        "# Ejemplo de uso\n",
        "registros_compras = pd.DataFrame({\n",
        "    'monto': [100, 200, 150, 1000, 120, 180],\n",
        "    'cantidad': [10, 20, 15, 5, 12, 18],\n",
        "    'precio_unitario': [10, 10, 10, 200, 10, 10]\n",
        "})\n",
        "\n",
        "umbral_anomalia = 0.1\n",
        "\n",
        "compras_sospechosas = detectar_anomalias_compras(registros_compras, umbral_anomalia)\n",
        "\n",
        "print(compras_sospechosas)"
      ],
      "metadata": {
        "colab": {
          "base_uri": "https://localhost:8080/"
        },
        "id": "fhHg4_hLVUNy",
        "outputId": "e4a179e5-2e71-4037-cf52-337471100375"
      },
      "execution_count": null,
      "outputs": [
        {
          "output_type": "stream",
          "name": "stdout",
          "text": [
            "   monto  cantidad  precio_unitario  anomalia\n",
            "3   1000         5              200        -1\n"
          ]
        }
      ]
    },
    {
      "cell_type": "markdown",
      "source": [
        "##creditos"
      ],
      "metadata": {
        "id": "FiqRvkRdVYYh"
      }
    },
    {
      "cell_type": "code",
      "source": [
        "import pandas as pd\n",
        "from sklearn.model_selection import train_test_split\n",
        "from sklearn.linear_model import LogisticRegression\n",
        "\n",
        "def detectar_fraude_creditos(registros_creditos, umbral_prediccion):\n",
        "    \"\"\"\n",
        "    Detecta fraude en créditos utilizando regresión logística.\n",
        "\n",
        "    Args:\n",
        "        registros_creditos (pd.DataFrame): DataFrame con registros de créditos.\n",
        "        umbral_prediccion (float): Umbral para considerar un crédito como fraudulento.\n",
        "\n",
        "    Returns:\n",
        "        pd.DataFrame: DataFrame con créditos sospechosos de fraude.\n",
        "    \"\"\"\n",
        "\n",
        "    # 1. Selecciona las columnas relevantes para el análisis\n",
        "    columnas_analisis = ['monto', 'plazo', 'ingresos']\n",
        "    datos_analisis = registros_creditos[columnas_analisis]\n",
        "\n",
        "    # 2. Divide los datos en entrenamiento y prueba\n",
        "    X_train, X_test, y_train, y_test = train_test_split(datos_analisis, registros_creditos['fraude'], test_size=0.2)\n",
        "\n",
        "    # 3. Entrena el modelo de regresión logística\n",
        "    modelo = LogisticRegression()\n",
        "    modelo.fit(X_train, y_train)\n",
        "\n",
        "    # 4. Predice la probabilidad de fraude\n",
        "    probabilidades_fraude = modelo.predict_proba(X_test)[:, 1]\n",
        "\n",
        "    # 5. Agrega las predicciones al DataFrame de prueba\n",
        "    X_test['probabilidad_fraude'] = probabilidades_fraude\n",
        "\n",
        "    # 6. Filtra los créditos sospechosos\n",
        "    creditos_sospechosos = X_test[X_test['probabilidad_fraude'] > umbral_prediccion]\n",
        "\n",
        "    return creditos_sospechosos\n",
        "\n",
        "# Ejemplo de uso\n",
        "registros_creditos = pd.DataFrame({\n",
        "    'monto': [1000, 2000, 1500, 5000, 1200, 1800],\n",
        "    'plazo': [12, 24, 18, 6, 12, 24],\n",
        "    'ingresos': [2000, 3000, 2500, 1000, 2000, 3000],\n",
        "    'fraude': [0, 0, 0, 1, 0, 0]\n",
        "})\n",
        "\n",
        "umbral_prediccion = 0.8\n",
        "\n",
        "creditos_sospechosos = detectar_fraude_creditos(registros_creditos, umbral_prediccion)\n",
        "\n",
        "print(creditos_sospechosos)"
      ],
      "metadata": {
        "colab": {
          "base_uri": "https://localhost:8080/"
        },
        "id": "pCLWqXHVVZxc",
        "outputId": "e950da4f-65b5-4e65-e08f-769a26dbb2e7"
      },
      "execution_count": null,
      "outputs": [
        {
          "output_type": "stream",
          "name": "stdout",
          "text": [
            "Empty DataFrame\n",
            "Columns: [monto, plazo, ingresos, probabilidad_fraude]\n",
            "Index: []\n"
          ]
        }
      ]
    },
    {
      "cell_type": "code",
      "source": [
        "import pandas as pd\n",
        "\n",
        "def comparar_precios_externos(registros_precios_internos, registros_precios_externos):\n",
        "    \"\"\"\n",
        "    Compara precios de compra con una lista de precios externa y resalta las diferencias.\n",
        "\n",
        "    Args:\n",
        "        registros_precios_internos (pd.DataFrame): DataFrame con registros de precios de compra internos.\n",
        "        registros_precios_externos (pd.DataFrame): DataFrame con registros de precios de compra externos.\n",
        "\n",
        "    Returns:\n",
        "        pd.DataFrame: DataFrame con las diferencias de precios.\n",
        "    \"\"\"\n",
        "\n",
        "    # 1. Combina los DataFrames por producto\n",
        "    precios_combinados = pd.merge(registros_precios_internos, registros_precios_externos, on='producto', suffixes=('_interno', '_externo'))\n",
        "\n",
        "    # 2. Calcula la diferencia de precios\n",
        "    precios_combinados['diferencia_precio'] = precios_combinados['precio_interno'] - precios_combinados['precio_externo']\n",
        "\n",
        "    # 3. Filtra las diferencias de precios\n",
        "    diferencias_precios = precios_combinados[precios_combinados['diferencia_precio'] != 0]\n",
        "\n",
        "    return diferencias_precios\n",
        "\n",
        "# Ejemplo de uso\n",
        "registros_precios_internos = pd.DataFrame({\n",
        "    'producto': ['Producto A', 'Producto B', 'Producto C'],\n",
        "    'precio_interno': [100, 150, 200]\n",
        "})\n",
        "\n",
        "registros_precios_externos = pd.DataFrame({\n",
        "    'producto': ['Producto A', 'Producto B', 'Producto C'],\n",
        "    'precio_externo': [90, 160, 200]\n",
        "})\n",
        "\n",
        "diferencias_precios = comparar_precios_externos(registros_precios_internos, registros_precios_externos)\n",
        "\n",
        "print(diferencias_precios)"
      ],
      "metadata": {
        "colab": {
          "base_uri": "https://localhost:8080/"
        },
        "id": "EPQOQWY3Vdi0",
        "outputId": "ac07260c-f841-41a1-d536-7913dd836ba5"
      },
      "execution_count": null,
      "outputs": [
        {
          "output_type": "stream",
          "name": "stdout",
          "text": [
            "     producto  precio_interno  precio_externo  diferencia_precio\n",
            "0  Producto A             100              90                 10\n",
            "1  Producto B             150             160                -10\n"
          ]
        }
      ]
    },
    {
      "cell_type": "markdown",
      "source": [
        "Consideraciones importantes:\n",
        "\n",
        "Estos son solo ejemplos básicos. Puedes adaptarlos y mejorarlos según tus necesidades y los datos disponibles.\n",
        "Es fundamental contar con datos de calidad y actualizados para obtener resultados precisos.\n",
        "La implementación de estos algoritmos debe ir acompañada de controles internos y una cultura de ética en la empresa.\n",
        "Si tienes grandes volúmenes de datos, considera utilizar herramientas de procesamiento de datos más potentes como Spark o Dask."
      ],
      "metadata": {
        "id": "0iGHfLUWVg6v"
      }
    },
    {
      "cell_type": "markdown",
      "source": [
        "## deteccion de anomalias de ofertas"
      ],
      "metadata": {
        "id": "EVbm3fbqVy5u"
      }
    },
    {
      "cell_type": "code",
      "source": [
        "import pandas as pd\n",
        "from sklearn.ensemble import IsolationForest\n",
        "\n",
        "def detectar_anomalias_ofertas(registros_ofertas, umbral_anomalia):\n",
        "    \"\"\"\n",
        "    Detecta anomalías en ofertas utilizando Isolation Forest.\n",
        "\n",
        "    Args:\n",
        "        registros_ofertas (pd.DataFrame): DataFrame con registros de ofertas.\n",
        "        umbral_anomalia (float): Umbral para considerar una oferta como anomalía.\n",
        "\n",
        "    Returns:\n",
        "        pd.DataFrame: DataFrame con ofertas sospechosas de fraude.\n",
        "    \"\"\"\n",
        "\n",
        "    # 1. Selecciona las columnas relevantes para el análisis\n",
        "    columnas_analisis = ['monto', 'plazo', 'calificacion_postor']\n",
        "    datos_analisis = registros_ofertas[columnas_analisis]\n",
        "\n",
        "    # 2. Entrena el modelo Isolation Forest\n",
        "    modelo = IsolationForest(contamination=umbral_anomalia)\n",
        "    modelo.fit(datos_analisis)\n",
        "\n",
        "    # 3. Predice las anomalías\n",
        "    anomalias = modelo.predict(datos_analisis)\n",
        "\n",
        "    # 4. Agrega las predicciones al DataFrame original\n",
        "    registros_ofertas['anomalia'] = anomalias\n",
        "\n",
        "    # 5. Filtra las ofertas sospechosas\n",
        "    ofertas_sospechosas = registros_ofertas[registros_ofertas['anomalia'] == -1]\n",
        "\n",
        "    return ofertas_sospechosas\n",
        "\n",
        "# Ejemplo de uso\n",
        "registros_ofertas = pd.DataFrame({\n",
        "    'monto': [1000, 2000, 1500, 10000, 1200, 1800],\n",
        "    'plazo': [12, 24, 18, 6, 12, 24],\n",
        "    'calificacion_postor': [8, 9, 7, 3, 8, 9]\n",
        "})\n",
        "\n",
        "umbral_anomalia = 0.1\n",
        "\n",
        "ofertas_sospechosas = detectar_anomalias_ofertas(registros_ofertas, umbral_anomalia)\n",
        "\n",
        "print(ofertas_sospechosas)"
      ],
      "metadata": {
        "colab": {
          "base_uri": "https://localhost:8080/"
        },
        "id": "fT2czG9JVx1K",
        "outputId": "db1b4388-e00a-4ab2-f3da-2cfc400b849c"
      },
      "execution_count": null,
      "outputs": [
        {
          "output_type": "stream",
          "name": "stdout",
          "text": [
            "   monto  plazo  calificacion_postor  anomalia\n",
            "3  10000      6                    3        -1\n"
          ]
        }
      ]
    },
    {
      "cell_type": "markdown",
      "source": [
        "2. Detección de colusión entre postores:"
      ],
      "metadata": {
        "id": "jBqDaiWdV7hh"
      }
    },
    {
      "cell_type": "code",
      "source": [
        "\n",
        "\n",
        "import pandas as pd\n",
        "import networkx as nx\n",
        "\n",
        "def detectar_colusion_postores(registros_ofertas, umbral_similitud):\n",
        "    \"\"\"\n",
        "    Detecta colusión entre postores analizando la similitud de sus ofertas.\n",
        "\n",
        "    Args:\n",
        "        registros_ofertas (pd.DataFrame): DataFrame con registros de ofertas.\n",
        "        umbral_similitud (float): Umbral para considerar dos ofertas como similares.\n",
        "\n",
        "    Returns:\n",
        "        list: Lista de pares de postores sospechosos de colusión.\n",
        "    \"\"\"\n",
        "\n",
        "    # 1. Crea un grafo de postores\n",
        "    grafo = nx.Graph()\n",
        "\n",
        "    # 2. Compara las ofertas de todos los pares de postores\n",
        "    postores = registros_ofertas['postor'].unique()\n",
        "    for i in range(len(postores)):\n",
        "        for j in range(i + 1, len(postores)):\n",
        "            postor1 = postores[i]\n",
        "            postor2 = postores[j]\n",
        "            ofertas_postor1 = registros_ofertas[registros_ofertas['postor'] == postor1]['monto'].tolist()\n",
        "            ofertas_postor2 = registros_ofertas[registros_ofertas['postor'] == postor2]['monto'].tolist()\n",
        "            similitud = calcular_similitud(ofertas_postor1, ofertas_postor2)\n",
        "            if similitud > umbral_similitud:\n",
        "                grafo.add_edge(postor1, postor2)\n",
        "\n",
        "    # 3. Encuentra los componentes conectados del grafo\n",
        "    componentes_conectados = list(nx.connected_components(grafo))\n",
        "\n",
        "    # 4. Filtra los componentes con más de un postor\n",
        "    postores_sospechosos = [componente for componente in componentes_conectados if len(componente) > 1]\n",
        "\n",
        "    return postores_sospechosos\n",
        "\n",
        "def calcular_similitud(ofertas1, ofertas2):\n",
        "    \"\"\"\n",
        "    Calcula la similitud entre dos listas de ofertas.\n",
        "\n",
        "    Args:\n",
        "        ofertas1 (list): Lista de ofertas del primer postor.\n",
        "        ofertas2 (list): Lista de ofertas del segundo postor.\n",
        "\n",
        "    Returns:\n",
        "        float: Similitud entre las ofertas.\n",
        "    \"\"\"\n",
        "\n",
        "    # Implementa tu propia lógica para calcular la similitud\n",
        "    # Por ejemplo, puedes utilizar la distancia euclidiana o la correlación de Pearson\n",
        "    # En este ejemplo, se utiliza una implementación simplificada\n",
        "    if len(ofertas1) != len(ofertas2):\n",
        "        return 0\n",
        "    similitud = 0\n",
        "    for i in range(len(ofertas1)):\n",
        "        similitud += abs(ofertas1[i] - ofertas2[i])\n",
        "    similitud = 1 / (1 + similitud)\n",
        "    return similitud\n",
        "\n",
        "# Ejemplo de uso\n",
        "registros_ofertas = pd.DataFrame({\n",
        "    'postor': ['A', 'B', 'C', 'D', 'E', 'F'],\n",
        "    'monto': [1000, 2000, 1500, 1000, 2000, 1500]\n",
        "})\n",
        "\n",
        "umbral_similitud = 0.8\n",
        "\n",
        "postores_sospechosos = detectar_colusion_postores(registros_ofertas, umbral_similitud)\n",
        "\n",
        "print(postores_sospechosos)"
      ],
      "metadata": {
        "colab": {
          "base_uri": "https://localhost:8080/"
        },
        "id": "LOcvix61V_3l",
        "outputId": "b0719fac-acc1-4113-fdc3-3faa4044d784"
      },
      "execution_count": null,
      "outputs": [
        {
          "output_type": "stream",
          "name": "stdout",
          "text": [
            "[{'D', 'A'}, {'E', 'B'}, {'F', 'C'}]\n"
          ]
        }
      ]
    },
    {
      "cell_type": "markdown",
      "source": [
        "# **3. Comparación de precios con lista externa:**\n",
        "\n",
        "(El código para comparar precios con una lista externa es el mismo que se proporcionó en la respuesta anterior.)\n",
        "\n",
        "Consideraciones importantes:\n",
        "\n",
        "Estos son solo ejemplos básicos. Puedes adaptarlos y mejorarlos según tus necesidades y los datos disponibles.\n",
        "Es fundamental contar con datos de calidad y actualizados para obtener resultados precisos.\n",
        "La implementación de estos algoritmos debe ir acompañada de controles internos y una cultura de ética en la empresa.\n",
        "Si tienes grandes volúmenes de datos, considera utilizar herramientas de procesamiento de datos más potentes como Spark o Dask."
      ],
      "metadata": {
        "id": "tAU0yQkcWJ-2"
      }
    },
    {
      "cell_type": "markdown",
      "source": [
        "## caja"
      ],
      "metadata": {
        "id": "0df4L9F8Wye0"
      }
    },
    {
      "cell_type": "code",
      "source": [
        "\n",
        "import pandas as pd\n",
        "from sklearn.ensemble import IsolationForest\n",
        "\n",
        "def detectar_anomalias_caja(registros_caja, umbral_anomalia):\n",
        "    \"\"\"\n",
        "    Detecta anomalías en transacciones de caja utilizando Isolation Forest.\n",
        "\n",
        "    Args:\n",
        "        registros_caja (pd.DataFrame): DataFrame con registros de transacciones de caja.\n",
        "        umbral_anomalia (float): Umbral para considerar una transacción como anomalía.\n",
        "\n",
        "    Returns:\n",
        "        pd.DataFrame: DataFrame con transacciones sospechosas de fraude.\n",
        "    \"\"\"\n",
        "\n",
        "    # 1. Selecciona las columnas relevantes para el análisis\n",
        "    columnas_analisis = ['monto', 'hora', 'tipo_transaccion']\n",
        "    datos_analisis = registros_caja[columnas_analisis]\n",
        "\n",
        "    # 2. Convierte la columna 'hora' a valores numéricos\n",
        "    datos_analisis['hora'] = pd.to_datetime(datos_analisis['hora']).dt.hour\n",
        "\n",
        "    # 3. Codifica la columna 'tipo_transaccion' a valores numéricos\n",
        "    datos_analisis['tipo_transaccion'] = pd.Categorical(datos_analisis['tipo_transaccion']).codes\n",
        "\n",
        "    # 4. Entrena el modelo Isolation Forest\n",
        "    modelo = IsolationForest(contamination=umbral_anomalia)\n",
        "    modelo.fit(datos_analisis)\n",
        "\n",
        "    # 5. Predice las anomalías\n",
        "    anomalias = modelo.predict(datos_analisis)\n",
        "\n",
        "    # 6. Agrega las predicciones al DataFrame original\n",
        "    registros_caja['anomalia'] = anomalias\n",
        "\n",
        "    # 7. Filtra las transacciones sospechosas\n",
        "    transacciones_sospechosas = registros_caja[registros_caja['anomalia'] == -1]\n",
        "\n",
        "    return transacciones_sospechosas\n",
        "\n",
        "# Ejemplo de uso\n",
        "registros_caja = pd.DataFrame({\n",
        "    'monto': [100, 200, 150, 1000, 120, 180],\n",
        "    'hora': ['09:00', '10:00', '11:00', '18:00', '12:00', '13:00'],\n",
        "    'tipo_transaccion': ['deposito', 'retiro', 'deposito', 'retiro', 'deposito', 'retiro']\n",
        "})\n",
        "\n",
        "umbral_anomalia = 0.1\n",
        "\n",
        "transacciones_sospechosas = detectar_anomalias_caja(registros_caja, umbral_anomalia)\n",
        "\n",
        "print(transacciones_sospechosas)"
      ],
      "metadata": {
        "colab": {
          "base_uri": "https://localhost:8080/"
        },
        "id": "oz0lbSYJWvwz",
        "outputId": "ba44040d-e65a-4ff9-dfcc-35393b1d50b4"
      },
      "execution_count": null,
      "outputs": [
        {
          "output_type": "stream",
          "name": "stderr",
          "text": [
            "<ipython-input-13-4f10fbdc33c2>:21: UserWarning: Could not infer format, so each element will be parsed individually, falling back to `dateutil`. To ensure parsing is consistent and as-expected, please specify a format.\n",
            "  datos_analisis['hora'] = pd.to_datetime(datos_analisis['hora']).dt.hour\n"
          ]
        },
        {
          "output_type": "stream",
          "name": "stdout",
          "text": [
            "   monto   hora tipo_transaccion  anomalia\n",
            "3   1000  18:00           retiro        -1\n"
          ]
        }
      ]
    },
    {
      "cell_type": "markdown",
      "source": [
        "## Deteccion de patrones sospechosos"
      ],
      "metadata": {
        "id": "foP0heD6W1cQ"
      }
    },
    {
      "cell_type": "code",
      "source": [
        "import pandas as pd\n",
        "\n",
        "def detectar_patrones_sospechosos(registros_caja):\n",
        "    \"\"\"\n",
        "    Detecta patrones sospechosos en transacciones de caja.\n",
        "\n",
        "    Args:\n",
        "        registros_caja (pd.DataFrame): DataFrame con registros de transacciones de caja.\n",
        "\n",
        "    Returns:\n",
        "        pd.DataFrame: DataFrame con transacciones sospechosas de fraude.\n",
        "    \"\"\"\n",
        "\n",
        "    # 1. Busca transacciones con montos inusualmente altos o bajos\n",
        "    transacciones_montos_inusuales = registros_caja[(registros_caja['monto'] > 1000) | (registros_caja['monto'] < 10)]\n",
        "\n",
        "    # 2. Busca transacciones fuera de horario\n",
        "    transacciones_fuera_horario = registros_caja[pd.to_datetime(registros_caja['hora']).dt.hour.isin([0, 1, 2, 3, 4, 5, 6, 22, 23])]\n",
        "\n",
        "    # 3. Busca transacciones frecuentes con ciertos proveedores o clientes\n",
        "    proveedores_clientes_frecuentes = registros_caja['proveedor_cliente'].value_counts()\n",
        "    proveedores_clientes_sospechosos = proveedores_clientes_frecuentes[proveedores_clientes_frecuentes > 10].index\n",
        "    transacciones_proveedores_clientes_sospechosos = registros_caja[registros_caja['proveedor_cliente'].isin(proveedores_clientes_sospechosos)]\n",
        "\n",
        "    # 4. Combina los resultados\n",
        "    transacciones_sospechosas = pd.concat([transacciones_montos_inusuales, transacciones_fuera_horario, transacciones_proveedores_clientes_sospechosos]).drop_duplicates()\n",
        "\n",
        "    return transacciones_sospechosas\n",
        "\n",
        "# Ejemplo de uso\n",
        "registros_caja = pd.DataFrame({\n",
        "    'monto': [100, 200, 150, 1000, 120, 180, 5000, 5],\n",
        "    'hora': ['09:00', '10:00', '11:00', '18:00', '12:00', '13:00', '02:00', '23:00'],\n",
        "    'proveedor_cliente': ['A', 'B', 'A', 'C', 'A', 'B', 'D', 'E']\n",
        "})\n",
        "\n",
        "transacciones_sospechosas = detectar_patrones_sospechosos(registros_caja)\n",
        "\n",
        "print(transacciones_sospechosas)"
      ],
      "metadata": {
        "colab": {
          "base_uri": "https://localhost:8080/"
        },
        "id": "8PyVz6WSW6YZ",
        "outputId": "c9ac2c98-11ec-47d5-b682-3df494377bdf"
      },
      "execution_count": null,
      "outputs": [
        {
          "output_type": "stream",
          "name": "stdout",
          "text": [
            "   monto   hora proveedor_cliente\n",
            "6   5000  02:00                 D\n",
            "7      5  23:00                 E\n"
          ]
        },
        {
          "output_type": "stream",
          "name": "stderr",
          "text": [
            "<ipython-input-14-878023de8e49>:18: UserWarning: Could not infer format, so each element will be parsed individually, falling back to `dateutil`. To ensure parsing is consistent and as-expected, please specify a format.\n",
            "  transacciones_fuera_horario = registros_caja[pd.to_datetime(registros_caja['hora']).dt.hour.isin([0, 1, 2, 3, 4, 5, 6, 22, 23])]\n"
          ]
        }
      ]
    },
    {
      "cell_type": "markdown",
      "source": [
        "# **Consideraciones importantes:**\n",
        "\n",
        "Estos son solo ejemplos básicos. Puedes adaptarlos y mejorarlos según tus necesidades y los datos disponibles.\n",
        "Es fundamental contar con datos de calidad y actualizados para obtener resultados precisos.\n",
        "La implementación de estos algoritmos debe ir acompañada de controles internos y una cultura de ética en la empresa.\n",
        "Si tienes grandes volúmenes de datos, considera utilizar herramientas de procesamiento de datos más potentes como Spark o Dask."
      ],
      "metadata": {
        "id": "ybv-RLdTXB_e"
      }
    },
    {
      "cell_type": "code",
      "source": [
        "import pandas as pd\n",
        "from sklearn.ensemble import IsolationForest\n",
        "\n",
        "def detectar_anomalias_compras_internacionales(registros_compras, umbral_anomalia):\n",
        "    \"\"\"\n",
        "    Detecta anomalías en compras internacionales utilizando Isolation Forest.\n",
        "\n",
        "    Args:\n",
        "        registros_compras (pd.DataFrame): DataFrame con registros de compras internacionales.\n",
        "        umbral_anomalia (float): Umbral para considerar una compra como anomalía.\n",
        "\n",
        "    Returns:\n",
        "        pd.DataFrame: DataFrame con compras sospechosas de fraude.\n",
        "    \"\"\"\n",
        "\n",
        "    # 1. Selecciona las columnas relevantes para el análisis\n",
        "    columnas_analisis = ['monto', 'cantidad', 'precio_unitario', 'pais_proveedor']\n",
        "    datos_analisis = registros_compras[columnas_analisis]\n",
        "\n",
        "    # 2. Codifica la columna 'pais_proveedor' a valores numéricos\n",
        "    datos_analisis['pais_proveedor'] = pd.Categorical(datos_analisis['pais_proveedor']).codes\n",
        "\n",
        "    # 3. Entrena el modelo Isolation Forest\n",
        "    modelo = IsolationForest(contamination=umbral_anomalia)\n",
        "    modelo.fit(datos_analisis)\n",
        "\n",
        "    # 4. Predice las anomalías\n",
        "    anomalias = modelo.predict(datos_analisis)\n",
        "\n",
        "    # 5. Agrega las predicciones al DataFrame original\n",
        "    registros_compras['anomalia'] = anomalias\n",
        "\n",
        "    # 6. Filtra las compras sospechosas\n",
        "    compras_sospechosas = registros_compras[registros_compras['anomalia'] == -1]\n",
        "\n",
        "    return compras_sospechosas\n",
        "\n",
        "# Ejemplo de uso\n",
        "registros_compras = pd.DataFrame({\n",
        "    'monto': [100, 200, 150, 1000, 120, 180],\n",
        "    'cantidad': [10, 20, 15, 5, 12, 18],\n",
        "    'precio_unitario': [10, 10, 10, 200, 10, 10],\n",
        "    'pais_proveedor': ['China', 'EEUU', 'China', 'Alemania', 'China', 'EEUU']\n",
        "})\n",
        "\n",
        "umbral_anomalia = 0.1\n",
        "\n",
        "compras_sospechosas = detectar_anomalias_compras_internacionales(registros_compras, umbral_anomalia)\n",
        "\n",
        "print(compras_sospechosas)"
      ],
      "metadata": {
        "colab": {
          "base_uri": "https://localhost:8080/"
        },
        "id": "qJczJb_PXddL",
        "outputId": "6efea76e-4159-4187-9ef4-f66bd4786fbb"
      },
      "execution_count": null,
      "outputs": [
        {
          "output_type": "stream",
          "name": "stdout",
          "text": [
            "   monto  cantidad  precio_unitario pais_proveedor  anomalia\n",
            "3   1000         5              200       Alemania        -1\n"
          ]
        }
      ]
    },
    {
      "cell_type": "markdown",
      "source": [
        "2. Comparación de precios con lista externa internacional:"
      ],
      "metadata": {
        "id": "O17oRjB4Xhp2"
      }
    },
    {
      "cell_type": "code",
      "source": [
        "import pandas as pd\n",
        "\n",
        "def comparar_precios_externos_internacional(registros_precios_internos, registros_precios_externos):\n",
        "    \"\"\"\n",
        "    Compara precios de compra internacionales con una lista de precios externa y resalta las diferencias.\n",
        "\n",
        "    Args:\n",
        "        registros_precios_internos (pd.DataFrame): DataFrame con registros de precios de compra internos.\n",
        "        registros_precios_externos (pd.DataFrame): DataFrame con registros de precios de compra externos.\n",
        "\n",
        "    Returns:\n",
        "        pd.DataFrame: DataFrame con las diferencias de precios.\n",
        "    \"\"\"\n",
        "\n",
        "    # 1. Combina los DataFrames por producto y pais\n",
        "    precios_combinados = pd.merge(registros_precios_internos, registros_precios_externos, on=['producto', 'pais'], suffixes=('_interno', '_externo'))\n",
        "\n",
        "    # 2. Calcula la diferencia de precios\n",
        "    precios_combinados['diferencia_precio'] = precios_combinados['precio_interno'] - precios_combinados['precio_externo']\n",
        "\n",
        "    # 3. Filtra las diferencias de precios\n",
        "    diferencias_precios = precios_combinados[precios_combinados['diferencia_precio'] != 0]\n",
        "\n",
        "    return diferencias_precios\n",
        "\n",
        "# Ejemplo de uso\n",
        "registros_precios_internos = pd.DataFrame({\n",
        "    'producto': ['Producto A', 'Producto B', 'Producto C'],\n",
        "    'pais': ['China', 'EEUU', 'Alemania'],\n",
        "    'precio_interno': [100, 150, 200]\n",
        "})\n",
        "\n",
        "registros_precios_externos = pd.DataFrame({\n",
        "    'producto': ['Producto A', 'Producto B', 'Producto C'],\n",
        "    'pais': ['China', 'EEUU', 'Alemania'],\n",
        "    'precio_externo': [90, 160, 200]\n",
        "})\n",
        "\n",
        "diferencias_precios = comparar_precios_externos_internacional(registros_precios_internos, registros_precios_externos)\n",
        "\n",
        "print(diferencias_precios)"
      ],
      "metadata": {
        "colab": {
          "base_uri": "https://localhost:8080/"
        },
        "id": "EyY_OjaBXlFo",
        "outputId": "cd695b7f-f045-48e9-a341-c5100119dd51"
      },
      "execution_count": null,
      "outputs": [
        {
          "output_type": "stream",
          "name": "stdout",
          "text": [
            "     producto   pais  precio_interno  precio_externo  diferencia_precio\n",
            "0  Producto A  China             100              90                 10\n",
            "1  Producto B   EEUU             150             160                -10\n"
          ]
        }
      ]
    },
    {
      "cell_type": "markdown",
      "source": [
        "3. Detección de transacciones con proveedores en paraísos fiscales:"
      ],
      "metadata": {
        "id": "BXzjOuLRXoaO"
      }
    },
    {
      "cell_type": "code",
      "source": [
        "import pandas as pd\n",
        "\n",
        "def detectar_transacciones_paraisos_fiscales(registros_compras, lista_paraisos_fiscales):\n",
        "    \"\"\"\n",
        "    Detecta transacciones con proveedores en paraísos fiscales.\n",
        "\n",
        "    Args:\n",
        "        registros_compras (pd.DataFrame): DataFrame con registros de compras internacionales.\n",
        "        lista_paraisos_fiscales (list): Lista de países considerados paraísos fiscales.\n",
        "\n",
        "    Returns:\n",
        "        pd.DataFrame: DataFrame con transacciones sospechosas de fraude.\n",
        "    \"\"\"\n",
        "\n",
        "    # 1. Filtra las transacciones con proveedores en paraísos fiscales\n",
        "    transacciones_paraisos = registros_compras[registros_compras['pais_proveedor'].isin(lista_paraisos_fiscales)]\n",
        "\n",
        "    return transacciones_paraisos\n",
        "\n",
        "# Ejemplo de uso\n",
        "registros_compras = pd.DataFrame({\n",
        "    'monto': [100, 200, 150, 1000, 120, 180],\n",
        "    'pais_proveedor': ['China', 'Panamá', 'China', 'Islas Caimán', 'China', 'EEUU']\n",
        "})\n",
        "\n",
        "lista_paraisos_fiscales = ['Panamá', 'Islas Caimán', 'Suiza']\n",
        "\n",
        "transacciones_paraisos = detectar_transacciones_paraisos_fiscales(registros_compras, lista_paraisos_fiscales)\n",
        "\n",
        "print(transacciones_paraisos)"
      ],
      "metadata": {
        "colab": {
          "base_uri": "https://localhost:8080/"
        },
        "id": "CSMV8BlXXq8d",
        "outputId": "da65f855-f86d-435b-db4a-e944bdb6bf96"
      },
      "execution_count": null,
      "outputs": [
        {
          "output_type": "stream",
          "name": "stdout",
          "text": [
            "   monto pais_proveedor\n",
            "1    200         Panamá\n",
            "3   1000   Islas Caimán\n"
          ]
        }
      ]
    },
    {
      "cell_type": "markdown",
      "source": [
        "Consideraciones importantes:\n",
        "\n",
        "Estos son solo ejemplos básicos. Puedes adaptarlos y mejorarlos según tus necesidades y los datos disponibles.\n",
        "Es fundamental contar con datos de calidad y actualizados para obtener resultados precisos.\n",
        "La implementación de estos algoritmos debe ir acompañada de controles internos y una cultura de ética en la empresa.\n",
        "Si tienes grandes volúmenes de datos, considera utilizar herramientas de procesamiento de datos más potentes como Spark o Dask."
      ],
      "metadata": {
        "id": "GekZW3MSXwW2"
      }
    },
    {
      "cell_type": "markdown",
      "source": [
        "Activo: Representa los bienes y derechos que posee la empresa. Se clasifica en:\n",
        "Activo corriente: Bienes y derechos que se espera convertir en efectivo en un plazo inferior a un año (efectivo, cuentas por cobrar, inventarios, etc.). **texto en negrita**\n",
        "**Activo no corriente: Bienes y derechos que se espera convertir en efectivo en un plazo superior a un año (propiedades, planta y equipo, inversiones a largo plazo, etc.).**\n",
        "Pasivo: Representa las obligaciones o deudas que tiene la empresa con terceros. Se clasifica en:\n",
        "Pasivo corriente: Obligaciones que vencen en un plazo inferior a un año (cuentas por pagar, préstamos a corto plazo, etc.).\n",
        "Pasivo no corriente: Obligaciones que vencen en un plazo superior a un año (préstamos a largo plazo, bonos emitidos, etc.).\n",
        "Patrimonio neto: Representa la diferencia entre el activo y el pasivo. Es la parte del activo que pertenece a los propietarios de la empresa. Incluye el capital social, las reservas y las utilidades retenidas.\n",
        "En resumen:\n",
        "\n",
        "El activo muestra lo que la empresa posee.\n",
        "El pasivo muestra lo que la empresa debe.\n",
        "El patrimonio neto muestra lo que pertenece a los dueños."
      ],
      "metadata": {
        "id": "h1nQo144xDEC"
      }
    },
    {
      "cell_type": "markdown",
      "source": [
        "##caja"
      ],
      "metadata": {
        "id": "WUmGcDn9xkJs"
      }
    },
    {
      "cell_type": "code",
      "source": [
        "import sqlite3\n",
        "import datetime\n",
        "\n",
        "def registrar_gasto(fecha, descripcion, monto, comprobante, responsable):\n",
        "    conn = sqlite3.connect('caja_chica.db')\n",
        "    cursor = conn.cursor()\n",
        "\n",
        "    # Create the table if it doesn't exist\n",
        "    cursor.execute('''\n",
        "        CREATE TABLE IF NOT EXISTS gastos (\n",
        "            id INTEGER PRIMARY KEY AUTOINCREMENT,\n",
        "            fecha DATE,\n",
        "            descripcion TEXT,\n",
        "            monto REAL,\n",
        "            comprobante TEXT,\n",
        "            responsable TEXT\n",
        "        )\n",
        "    ''')\n",
        "\n",
        "    cursor.execute('''\n",
        "        INSERT INTO gastos (fecha, descripcion, monto, comprobante, responsable)\n",
        "        VALUES (?, ?, ?, ?, ?)\n",
        "    ''', (fecha, descripcion, monto, comprobante, responsable))\n",
        "    conn.commit()\n",
        "    conn.close()\n",
        "\n",
        "# Ejemplo de uso:\n",
        "fecha_actual = datetime.date.today()\n",
        "registrar_gasto(fecha_actual, 'Compra de suministros', 50.00, 'factura123.pdf', 'Juan Pérez')"
      ],
      "metadata": {
        "id": "0M1uueIex8Dg"
      },
      "execution_count": null,
      "outputs": []
    },
    {
      "cell_type": "code",
      "source": [
        "# This code appears to be SQL, not Python.\n",
        "# Please ensure you are running this in a SQL environment.\n",
        "\n",
        "# CREATE TABLE gastos (\n",
        "#         id INTEGER PRIMARY KEY AUTOINCREMENT,\n",
        "#         fecha DATE,\n",
        "#         descripcion TEXT,\n",
        "#         monto REAL,\n",
        "#         comprobante TEXT,\n",
        "#         responsable TEXT\n",
        "#     );\n",
        "        descripcion TEXT,\n",
        "        monto REAL,\n",
        "        comprobante TEXT,\n",
        "        responsable TEXT\n",
        "    )"
      ],
      "metadata": {
        "colab": {
          "base_uri": "https://localhost:8080/",
          "height": 106
        },
        "id": "tLzguxg2yFZo",
        "outputId": "7dde0d64-11f0-490c-fc15-9484f1c40a43"
      },
      "execution_count": null,
      "outputs": [
        {
          "output_type": "error",
          "ename": "IndentationError",
          "evalue": "unindent does not match any outer indentation level (<tokenize>, line 16)",
          "traceback": [
            "\u001b[0;36m  File \u001b[0;32m\"<tokenize>\"\u001b[0;36m, line \u001b[0;32m16\u001b[0m\n\u001b[0;31m    )\u001b[0m\n\u001b[0m    ^\u001b[0m\n\u001b[0;31mIndentationError\u001b[0m\u001b[0;31m:\u001b[0m unindent does not match any outer indentation level\n"
          ]
        }
      ]
    },
    {
      "cell_type": "markdown",
      "source": [
        "2. Arqueos y conciliaciones (Python):\n",
        "\n",
        "Puedes crear funciones en Python para realizar arqueos de caja y comparar el saldo en efectivo con el saldo registrado en la base de datos."
      ],
      "metadata": {
        "id": "bChJ4IvpyXsu"
      }
    },
    {
      "cell_type": "code",
      "source": [
        "def realizar_arqueo(saldo_efectivo):\n",
        "        conn = sqlite3.connect('caja_chica.db')\n",
        "        cursor = conn.cursor()\n",
        "        cursor.execute('SELECT SUM(monto) FROM gastos')\n",
        "        saldo_gastos = cursor.fetchone()[0] or 0 #maneja el caso de que no haya gastos\n",
        "        conn.close()\n",
        "\n",
        "        diferencia = saldo_efectivo - saldo_gastos\n",
        "        if diferencia == 0:\n",
        "            print('Arqueo correcto.')\n",
        "        else:\n",
        "            print(f'Diferencia: {diferencia}')\n",
        "        return diferencia\n",
        "\n",
        "    # Ejemplo de uso:\n",
        "saldo_efectivo_actual = 100.00 # ejemplo de saldo fisico.\n",
        "realizar_arqueo(saldo_efectivo_actual)"
      ],
      "metadata": {
        "id": "uVYP2eC3yQGT"
      },
      "execution_count": null,
      "outputs": []
    },
    {
      "cell_type": "markdown",
      "source": [
        "## creditos"
      ],
      "metadata": {
        "id": "1MpIPJ6yyBRL"
      }
    },
    {
      "cell_type": "code",
      "source": [
        "import numpy as np\n",
        "import pandas as pd\n",
        "from sklearn.ensemble import IsolationForest\n",
        "\n",
        "# Crear datos de ejemplo (reemplaza esto con tus datos reales)\n",
        "data = {\n",
        "    'ingresos': [50000, 60000, 70000, 80000, 10000, 90000, 100000],\n",
        "    'puntaje_crediticio': [700, 750, 800, 850, 500, 900, 950],\n",
        "    'monto_credito': [10000, 12000, 15000, 18000, 50000, 20000, 22000]\n",
        "}\n",
        "\n",
        "df = pd.DataFrame(data)\n",
        "df"
      ],
      "metadata": {
        "id": "07ft-rGcysR1"
      },
      "execution_count": null,
      "outputs": []
    },
    {
      "cell_type": "markdown",
      "source": [
        "2. Entrenamiento del modelo de detección de anomalías (Isolation Forest):"
      ],
      "metadata": {
        "id": "rNv1BkcwyyJm"
      }
    },
    {
      "cell_type": "code",
      "source": [
        "# Entrenar el modelo Isolation Forest\n",
        "model = IsolationForest(contamination=0.1)  # Contamination: proporción estimada de anomalías\n",
        "model.fit(df)\n",
        "\n",
        "# Predecir anomalías\n",
        "anomalies = model.predict(df)\n",
        "\n",
        "# Agregar la columna de anomalías al DataFrame\n",
        "df['anomalia'] = anomalies\n",
        "\n",
        "# Imprimir el DataFrame con las anomalías detectadas\n",
        "print(df)"
      ],
      "metadata": {
        "id": "mtyoIS5qy0TJ"
      },
      "execution_count": null,
      "outputs": []
    },
    {
      "cell_type": "markdown",
      "source": [
        "3. Interpretación de resultados:\n",
        "\n",
        "En la columna \"anomalia\", los valores -1 indican anomalías (posibles fraudes) y los valores 1 indican valores normales.\n",
        "Explicación:\n",
        "\n",
        "Este código utiliza el algoritmo Isolation Forest, que es eficaz para detectar anomalías en datos multidimensionales.\n",
        "El parámetro \"contamination\" controla la proporción esperada de anomalías en los datos.\n",
        "El modelo \"aprende\" los patrones normales en los datos y luego identifica los puntos de datos que se desvían significativamente de esos patrones.\n",
        "Consideraciones importantes:\n",
        "\n",
        "Este es un ejemplo simplificado. En un sistema de detección de fraude real, necesitarías:\n",
        "Una gran cantidad de datos históricos de solicitudes de crédito, incluyendo casos de fraude conocidos.\n",
        "Preprocesamiento de datos más sofisticado, incluyendo la codificación de variables categóricas y la normalización de variables numéricas.\n",
        "Evaluación rigurosa del modelo utilizando métricas como precisión, recuperación y F1-score.\n",
        "Integración con sistemas de verificación de identidad y validación de documentos.\n",
        "Monitoreo continuo del rendimiento del modelo y reentrenamiento periódico para adaptarlo a las nuevas tendencias de fraude.\n",
        "Es importante comprender que el aprendizaje automático es una herramienta, y la detección de fraude requiere una combinación de experiencia humana y análisis de datos."
      ],
      "metadata": {
        "id": "9YdYJnFCy4HO"
      }
    },
    {
      "cell_type": "code",
      "source": [
        "import numpy as np\n",
        "import pandas as pd\n",
        "from sklearn.ensemble import IsolationForest\n",
        "\n",
        "# Crear datos de ejemplo (reemplaza esto con tus datos reales)\n",
        "data = {\n",
        "    'dias_retraso_promedio': [1, 2, 3, 4, 30, 5, 6],\n",
        "    'monto_pago_promedio': [100, 120, 150, 180, 500, 200, 220],\n",
        "    'numero_disputas': [0, 0, 0, 1, 5, 0, 0]\n",
        "}\n",
        "\n",
        "df = pd.DataFrame(data)\n",
        "df"
      ],
      "metadata": {
        "id": "uCFpOywrzD2i"
      },
      "execution_count": null,
      "outputs": []
    },
    {
      "cell_type": "markdown",
      "source": [
        "2. Entrenamiento del modelo de detección de anomalías (Isolation Forest):"
      ],
      "metadata": {
        "id": "hDn0TzMYzIlN"
      }
    },
    {
      "cell_type": "code",
      "source": [
        "# Entrenar el modelo Isolation Forest\n",
        "model = IsolationForest(contamination=0.1)  # Contamination: proporción estimada de anomalías\n",
        "model.fit(df)\n",
        "\n",
        "# Predecir anomalías\n",
        "anomalies = model.predict(df)\n",
        "\n",
        "# Agregar la columna de anomalías al DataFrame\n",
        "df['anomalia'] = anomalies\n",
        "\n",
        "# Imprimir el DataFrame con las anomalías detectadas\n",
        "print(df)"
      ],
      "metadata": {
        "id": "BaYNvTiIzVEL"
      },
      "execution_count": null,
      "outputs": []
    },
    {
      "cell_type": "markdown",
      "source": [
        "\n",
        "\n",
        "Este código utiliza el algoritmo Isolation Forest, que es eficaz para detectar anomalías en datos multidimensionales.\n",
        "El parámetro \"contamination\" controla la proporción esperada de anomalías en los datos.\n",
        "El modelo \"aprende\" los patrones normales en los datos y luego identifica los puntos de datos que se desvían significativamente de esos patrones.\n",
        "Consideraciones importantes:\n",
        "\n",
        "Este es un ejemplo simplificado. En un sistema de detección de fraude real, necesitarías:\n",
        "Una gran cantidad de datos históricos de clientes y cobranzas, incluyendo casos de fraude conocidos.\n",
        "Preprocesamiento de datos más sofisticado, incluyendo la codificación de variables categóricas y la normalización de variables numéricas.\n",
        "Evaluación rigurosa del modelo utilizando métricas como precisión, recuperación y F1-score.\n",
        "Integración con sistemas de verificación de identidad y validación de pagos.\n",
        "Monitoreo continuo del rendimiento del modelo y reentrenamiento periódico para adaptarlo a las nuevas tendencias de fraude.\n",
        "Es importante comprender que el aprendizaje automático es una herramienta, y la detección de fraude requiere una combinación de experiencia humana y análisis de datos."
      ],
      "metadata": {
        "id": "wig6Sst_zZuP"
      }
    },
    {
      "cell_type": "markdown",
      "source": [
        "###bienes de cambio"
      ],
      "metadata": {
        "id": "25iQ61Przky2"
      }
    },
    {
      "cell_type": "markdown",
      "source": [
        "1. Cálculo del punto de reorden (ROP):"
      ],
      "metadata": {
        "id": "459mmMaMz820"
      }
    },
    {
      "cell_type": "code",
      "source": [
        "def calcular_rop(demanda_promedio_diaria, plazo_entrega, stock_seguridad):\n",
        "  \"\"\"\n",
        "  Calcula el punto de reorden (ROP).\n",
        "\n",
        "  Args:\n",
        "    demanda_promedio_diaria: La demanda promedio diaria del producto.\n",
        "    plazo_entrega: El plazo de entrega del proveedor en días.\n",
        "    stock_seguridad: El stock de seguridad que se desea mantener.\n",
        "\n",
        "  Returns:\n",
        "    El punto de reorden (ROP).\n",
        "  \"\"\"\n",
        "  rop = (demanda_promedio_diaria * plazo_entrega) + stock_seguridad\n",
        "  return rop\n",
        "\n",
        "# Ejemplo de uso:\n",
        "demanda_diaria = 10\n",
        "plazo_entrega_proveedor = 7\n",
        "stock_seguridad_deseado = 20\n",
        "\n",
        "punto_reorden = calcular_rop(demanda_diaria, plazo_entrega_proveedor, stock_seguridad_deseado)\n",
        "print(f\"El punto de reorden (ROP) es: {punto_reorden}\")"
      ],
      "metadata": {
        "id": "GPwn7JH9z_Lr"
      },
      "execution_count": null,
      "outputs": []
    },
    {
      "cell_type": "markdown",
      "source": [
        "2. Cálculo de la cantidad económica de pedido (EOQ):"
      ],
      "metadata": {
        "id": "PmGS9wdy0DMr"
      }
    },
    {
      "cell_type": "code",
      "source": [
        "import math\n",
        "\n",
        "def calcular_eoq(demanda_anual, costo_pedido, costo_mantenimiento):\n",
        "  \"\"\"\n",
        "  Calcula la cantidad económica de pedido (EOQ).\n",
        "\n",
        "  Args:\n",
        "    demanda_anual: La demanda anual del producto.\n",
        "    costo_pedido: El costo de realizar un pedido.\n",
        "    costo_mantenimiento: El costo de mantener una unidad en inventario durante un año.\n",
        "\n",
        "  Returns:\n",
        "    La cantidad económica de pedido (EOQ).\n",
        "  \"\"\"\n",
        "  eoq = math.sqrt((2 * demanda_anual * costo_pedido) / costo_mantenimiento)\n",
        "  return eoq\n",
        "\n",
        "# Ejemplo de uso:\n",
        "demanda_anual_producto = 1000\n",
        "costo_realizar_pedido = 50\n",
        "costo_mantener_unidad = 10\n",
        "\n",
        "cantidad_optima_pedido = calcular_eoq(demanda_anual_producto, costo_realizar_pedido, costo_mantener_unidad)\n",
        "print(f\"La cantidad económica de pedido (EOQ) es: {cantidad_optima_pedido}\")"
      ],
      "metadata": {
        "id": "q44cI5Bn0Fw3"
      },
      "execution_count": null,
      "outputs": []
    },
    {
      "cell_type": "markdown",
      "source": [
        "3. Clasificación de inventario (ABC):"
      ],
      "metadata": {
        "id": "VMw9W8Jy0I6Z"
      }
    },
    {
      "cell_type": "code",
      "source": [
        "def clasificar_inventario_abc(productos):\n",
        "  \"\"\"\n",
        "  Clasifica el inventario en categorías A, B y C.\n",
        "\n",
        "  Args:\n",
        "    productos: Una lista de diccionarios, donde cada diccionario representa un producto\n",
        "               y contiene las claves 'nombre', 'valor_anual' y 'porcentaje'.\n",
        "\n",
        "  Returns:\n",
        "    Un diccionario con las categorías A, B y C, donde cada categoría es una lista de productos.\n",
        "  \"\"\"\n",
        "  productos_ordenados = sorted(productos, key=lambda p: p['valor_anual'], reverse=True)\n",
        "  total_valor_anual = sum(p['valor_anual'] for p in productos)\n",
        "\n",
        "  categoria_a = []\n",
        "  categoria_b = []\n",
        "  categoria_c = []\n",
        "\n",
        "  acumulado = 0\n",
        "  for producto in productos_ordenados:\n",
        "    acumulado += producto['valor_anual']\n",
        "    porcentaje_acumulado = (acumulado / total_valor_anual) * 100\n",
        "\n",
        "    if porcentaje_acumulado <= 80:\n",
        "      categoria_a.append(producto)\n",
        "    elif porcentaje_acumulado <= 95:\n",
        "      categoria_b.append(producto)\n",
        "    else:\n",
        "      categoria_c.append(producto)\n",
        "\n",
        "  return {'A': categoria_a, 'B': categoria_b, 'C': categoria_c}\n",
        "\n",
        "# Ejemplo de uso:\n",
        "productos_ejemplo = [\n",
        "    {'nombre': 'Producto 1', 'valor_anual': 50000, 'porcentaje': 0},\n",
        "    {'nombre': 'Producto 2', 'valor_anual': 30000, 'porcentaje': 0},\n",
        "    {'nombre': 'Producto 3', 'valor_anual': 10000, 'porcentaje': 0},\n",
        "    {'nombre': 'Producto 4', 'valor_anual': 5000, 'porcentaje': 0},\n",
        "    {'nombre': 'Producto 5', 'valor_anual': 2000, 'porcentaje': 0},\n",
        "]\n",
        "\n",
        "clasificacion_abc = clasificar_inventario_abc(productos_ejemplo)\n",
        "print(clasificacion_abc)"
      ],
      "metadata": {
        "id": "DotNPcSW0L-2"
      },
      "execution_count": null,
      "outputs": []
    },
    {
      "cell_type": "markdown",
      "source": [
        "![image.png](data:image/png;base64,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)"
      ],
      "metadata": {
        "id": "P3LNHfoP1Wz1"
      }
    },
    {
      "cell_type": "markdown",
      "source": [
        "### INversiones temporales"
      ],
      "metadata": {
        "id": "XxfS9dEp1YHS"
      }
    },
    {
      "cell_type": "code",
      "source": [
        "import numpy as np\n",
        "import pandas as pd\n",
        "from sklearn.ensemble import IsolationForest\n",
        "\n",
        "# Crear datos de ejemplo (reemplaza esto con tus datos reales)\n",
        "data = {\n",
        "    'rendimiento_promedio': [0.05, 0.06, 0.07, 0.08, 0.5, 0.09, 0.1],\n",
        "    'volatilidad': [0.1, 0.12, 0.15, 0.18, 0.5, 0.2, 0.22],\n",
        "    'numero_transacciones': [10, 12, 15, 18, 5, 20, 22]\n",
        "}\n",
        "\n",
        "df = pd.DataFrame(data)\n",
        "df"
      ],
      "metadata": {
        "id": "IdXFPiiw1mYB"
      },
      "execution_count": null,
      "outputs": []
    },
    {
      "cell_type": "markdown",
      "source": [
        "2. Entrenamiento del modelo de detección de anomalías (Isolation Forest):"
      ],
      "metadata": {
        "id": "uMfcGHbS1uAi"
      }
    },
    {
      "cell_type": "code",
      "source": [
        "# Entrenar el modelo Isolation Forest\n",
        "model = IsolationForest(contamination=0.1)  # Contamination: proporción estimada de anomalías\n",
        "model.fit(df)\n",
        "\n",
        "# Predecir anomalías\n",
        "anomalies = model.predict(df)\n",
        "\n",
        "# Agregar la columna de anomalías al DataFrame\n",
        "df['anomalia'] = anomalies\n",
        "\n",
        "# Imprimir el DataFrame con las anomalías detectadas\n",
        "print(df)"
      ],
      "metadata": {
        "id": "IY3_Z_xS1wzX"
      },
      "execution_count": null,
      "outputs": []
    },
    {
      "cell_type": "markdown",
      "source": [
        "\n",
        "\n",
        "En la columna \"anomalia\", los valores -1 indican anomalías (posibles fraudes) y los valores 1 indican valores normales.\n",
        "Explicación:\n",
        "\n",
        "Este código utiliza el algoritmo Isolation Forest, que es eficaz para detectar anomalías en datos multidimensionales.\n",
        "El parámetro \"contamination\" controla la proporción esperada de anomalías en los datos.\n",
        "El modelo \"aprende\" los patrones normales en los datos y luego identifica los puntos de datos que se desvían significativamente de esos patrones.\n",
        "Consideraciones importantes:\n",
        "\n",
        "Este es un ejemplo simplificado. En un sistema de detección de fraude real, necesitarías:\n",
        "Una gran cantidad de datos históricos de inversiones, incluyendo casos de fraude conocidos.\n",
        "Preprocesamiento de datos más sofisticado, incluyendo la codificación de variables categóricas y la normalización de variables numéricas.\n",
        "Evaluación rigurosa del modelo utilizando métricas como precisión, recuperación y F1-score.\n",
        "Integración con sistemas de verificación de identidad y validación de transacciones.\n",
        "Monitoreo continuo del rendimiento del modelo y reentrenamiento periódico para adaptarlo a las nuevas tendencias de fraude.\n",
        "Es importante comprender que el aprendizaje automático es una herramienta, y la detección de fraude requiere una combinación de experiencia humana y análisis de datos."
      ],
      "metadata": {
        "id": "rWedvU0Y3bYX"
      }
    },
    {
      "cell_type": "markdown",
      "source": [
        "##control inventarios"
      ],
      "metadata": {
        "id": "SsEtzbjq3pyN"
      }
    },
    {
      "cell_type": "code",
      "source": [
        "import numpy as np\n",
        "import pandas as pd\n",
        "from sklearn.ensemble import IsolationForest\n",
        "\n",
        "# Crear datos de ejemplo (reemplaza esto con tus datos reales)\n",
        "data = {\n",
        "    'ajustes_inventario': [1, 2, 3, 4, 30, 5, 6],\n",
        "    'rotacion_inventario': [10, 12, 15, 18, 5, 20, 22],\n",
        "    'descuentos': [0, 0, 0, 1, 5, 0, 0]\n",
        "}\n",
        "\n",
        "df = pd.DataFrame(data)\n",
        "df"
      ],
      "metadata": {
        "id": "LgwYun9H3sK4"
      },
      "execution_count": null,
      "outputs": []
    },
    {
      "cell_type": "markdown",
      "source": [
        "2. Entrenamiento del modelo de detección de anomalías (Isolation Forest):"
      ],
      "metadata": {
        "id": "OBwqkyKe30KS"
      }
    },
    {
      "cell_type": "code",
      "source": [
        "# Entrenar el modelo Isolation Forest\n",
        "model = IsolationForest(contamination=0.1)  # Contamination: proporción estimada de anomalías\n",
        "model.fit(df)\n",
        "\n",
        "# Predecir anomalías\n",
        "anomalies = model.predict(df)\n",
        "\n",
        "# Agregar la columna de anomalías al DataFrame\n",
        "df['anomalia'] = anomalies\n",
        "\n",
        "# Imprimir el DataFrame con las anomalías detectadas\n",
        "print(df)"
      ],
      "metadata": {
        "id": "Ml9F0pzs3sSs"
      },
      "execution_count": null,
      "outputs": []
    },
    {
      "cell_type": "markdown",
      "source": [
        "**3. Interpretación de resultados:**\n",
        "\n",
        "En la columna \"anomalia\", los valores -1 indican anomalías (posibles fraudes) y los valores 1 indican valores normales.\n",
        "Explicación:\n",
        "\n",
        "Este código utiliza el algoritmo Isolation Forest, que es eficaz para detectar anomalías en datos multidimensionales.\n",
        "El parámetro \"contamination\" controla la proporción esperada de anomalías en los datos.\n",
        "El modelo \"aprende\" los patrones normales en los datos y luego identifica los puntos de datos que se desvían significativamente de esos patrones.\n",
        "Consideraciones importantes:\n",
        "\n",
        "Este es un ejemplo simplificado. En un sistema de detección de fraude real, necesitarías:\n",
        "Una gran cantidad de datos históricos de inventario y transacciones, incluyendo casos de fraude conocidos.\n",
        "Preprocesamiento de datos más sofisticado, incluyendo la codificación de variables categóricas y la normalización de variables numéricas.\n",
        "Evaluación rigurosa del modelo utilizando métricas como precisión, recuperación y F1-score.\n",
        "Integración con sistemas de gestión de inventario y bases de datos.\n",
        "Monitoreo continuo del rendimiento del modelo y reentrenamiento periódico para adaptarlo a las nuevas tendencias de fraude.\n",
        "Es importante comprender que el aprendizaje automático es una herramienta, y la detección de fraude requiere una combinación de experiencia humana y análisis de datos."
      ],
      "metadata": {
        "id": "07ZAF51g5keG"
      }
    },
    {
      "cell_type": "markdown",
      "source": [
        "###otros activos"
      ],
      "metadata": {
        "id": "CwN-Izwm57i0"
      }
    },
    {
      "cell_type": "code",
      "source": [
        "import numpy as np\n",
        "import pandas as pd\n",
        "from sklearn.ensemble import IsolationForest\n",
        "\n",
        "# Crear datos de ejemplo (reemplaza esto con tus datos reales)\n",
        "data = {\n",
        "    'valor_intangibles': [100000, 120000, 150000, 180000, 500000, 200000, 220000],\n",
        "    'depreciacion_activos_fijos': [10000, 12000, 15000, 18000, 50000, 20000, 22000],\n",
        "    'rendimiento_inversiones': [0.05, 0.06, 0.07, 0.08, 0.5, 0.09, 0.1]\n",
        "}\n",
        "\n",
        "df = pd.DataFrame(data)\n",
        "df"
      ],
      "metadata": {
        "id": "Cg_VnNKY59uu"
      },
      "execution_count": null,
      "outputs": []
    },
    {
      "cell_type": "markdown",
      "source": [
        "2. Entrenamiento del modelo de detección de anomalías (Isolation Forest):"
      ],
      "metadata": {
        "id": "WVwVgtYd6DWe"
      }
    },
    {
      "cell_type": "code",
      "source": [
        "# Entrenar el modelo Isolation Forest\n",
        "model = IsolationForest(contamination=0.1)  # Contamination: proporción estimada de anomalías\n",
        "model.fit(df)\n",
        "\n",
        "# Predecir anomalías\n",
        "anomalies = model.predict(df)\n",
        "\n",
        "# Agregar la columna de anomalías al DataFrame\n",
        "df['anomalia'] = anomalies\n",
        "\n",
        "# Imprimir el DataFrame con las anomalías detectadas\n",
        "print(df)"
      ],
      "metadata": {
        "id": "yAQwZFoD6GJ6"
      },
      "execution_count": null,
      "outputs": []
    },
    {
      "cell_type": "markdown",
      "source": [
        "**3. Interpretación de resultados:**\n",
        "\n",
        "En la columna \"anomalia\", los valores -1 indican anomalías (posibles fraudes) y los valores 1 indican valores normales.\n",
        "Explicación:\n",
        "\n",
        "Este código utiliza el algoritmo Isolation Forest, que es eficaz para detectar anomalías en datos multidimensionales.\n",
        "El parámetro \"contamination\" controla la proporción esperada de anomalías en los datos.\n",
        "El modelo \"aprende\" los patrones normales en los datos y luego identifica los puntos de datos que se desvían significativamente de esos patrones.\n",
        "Consideraciones importantes:\n",
        "\n",
        "Este es un ejemplo simplificado. En un sistema de detección de fraude real, necesitarías:\n",
        "Una gran cantidad de datos históricos de \"otros activos\", incluyendo casos de fraude conocidos.\n",
        "Preprocesamiento de datos más sofisticado, incluyendo la codificación de variables categóricas y la normalización de variables numéricas.\n",
        "Evaluación rigurosa del modelo utilizando métricas como precisión, recuperación y F1-score.\n",
        "Integración con sistemas de contabilidad y bases de datos.\n",
        "Monitoreo continuo del rendimiento del modelo y reentrenamiento periódico para adaptarlo a las nuevas tendencias de fraude.\n",
        "Es importante comprender que el aprendizaje automático es una herramienta, y la detección de fraude requiere una combinación de experiencia humana y análisis de datos.\n",
        "Recomendaciones Adicionales:\n",
        "\n",
        "Análisis de tendencias:\n",
        "Monitorear las tendencias en el valor de los activos intangibles, la depreciación de los activos fijos y el rendimiento de las inversiones a lo largo del tiempo.\n",
        "Identificar cambios bruscos o inusuales en estas tendencias.\n",
        "Análisis comparativo:\n",
        "Comparar los datos de \"otros activos\" de la empresa con los de empresas similares en la misma industria.\n",
        "Identificar diferencias significativas que puedan indicar un fraude.\n",
        "Auditorías internas:\n",
        "Realizar auditorías internas periódicas para verificar la exactitud de los registros relacionados con \"otros activos\".\n",
        "Prestar especial atención a las áreas de mayor riesgo.\n",
        "Control de acceso:\n",
        "Limitar el acceso a los sistemas y registros relacionados con \"otros activos\" solo al personal autorizado.\n",
        "Implementar controles de acceso sólidos para prevenir el acceso no autorizado.\n",
        "Cultura de ética:\n",
        "Fomentar una cultura de ética y transparencia en la empresa.\n",
        "Proporcionar capacitación al personal sobre la prevención del fraude.\n",
        "Recuerda que la prevención y detección de fraudes es un proceso continuo que requiere una combinación de tecnología, controles internos y experiencia humana."
      ],
      "metadata": {
        "id": "g-Sm-KPS6ny-"
      }
    },
    {
      "cell_type": "markdown",
      "source": [
        "## ACTIVOS INTANGIBLES"
      ],
      "metadata": {
        "id": "E9gLz2CG7Rca"
      }
    },
    {
      "cell_type": "code",
      "source": [
        "import numpy as np\n",
        "import pandas as pd\n",
        "from sklearn.ensemble import IsolationForest\n",
        "\n",
        "# Crear datos de ejemplo (reemplaza esto con tus datos reales)\n",
        "data = {\n",
        "    'valor_intangible': [100000, 120000, 150000, 180000, 500000, 200000, 220000],\n",
        "    'amortizacion_anual': [10000, 12000, 15000, 18000, 50000, 20000, 22000],\n",
        "    'vida_util_estimada': [5, 5, 5, 5, 1, 5, 5]\n",
        "}\n",
        "\n",
        "df = pd.DataFrame(data)\n",
        "df"
      ],
      "metadata": {
        "id": "PaIOePll7T1U"
      },
      "execution_count": null,
      "outputs": []
    },
    {
      "cell_type": "markdown",
      "source": [
        "2. Entrenamiento del modelo de detección de anomalías (Isolation Forest):"
      ],
      "metadata": {
        "id": "3rviPdH47aKX"
      }
    },
    {
      "cell_type": "code",
      "source": [
        "# Entrenar el modelo Isolation Forest\n",
        "model = IsolationForest(contamination=0.1)  # Contamination: proporción estimada de anomalías\n",
        "model.fit(df)\n",
        "\n",
        "# Predecir anomalías\n",
        "anomalies = model.predict(df)\n",
        "\n",
        "# Agregar la columna de anomalías al DataFrame\n",
        "df['anomalia'] = anomalies\n",
        "\n",
        "# Imprimir el DataFrame con las anomalías detectadas\n",
        "print(df)"
      ],
      "metadata": {
        "id": "frBnSbX57cea"
      },
      "execution_count": null,
      "outputs": []
    },
    {
      "cell_type": "markdown",
      "source": [
        "**3. Interpretación de resultados:**\n",
        "\n",
        "En la columna \"anomalia\", los valores -1 indican anomalías (posibles fraudes) y los valores 1 indican valores normales.\n",
        "Explicación:\n",
        "\n",
        "Este código utiliza el algoritmo Isolation Forest, que es eficaz para detectar anomalías en datos multidimensionales.\n",
        "El parámetro \"contamination\" controla la proporción esperada de anomalías en los datos.\n",
        "El modelo \"aprende\" los patrones normales en los datos y luego identifica los puntos de datos que se desvían significativamente de esos patrones.\n",
        "Consideraciones importantes:\n",
        "\n",
        "Este es un ejemplo simplificado. En un sistema de detección de fraude real, necesitarías:\n",
        "Una gran cantidad de datos históricos de valoraciones de activos intangibles, incluyendo casos de fraude conocidos.\n",
        "Preprocesamiento de datos más sofisticado, incluyendo la codificación de variables categóricas y la normalización de variables numéricas.\n",
        "Evaluación rigurosa del modelo utilizando métricas como precisión, recuperación y F1-score.\n",
        "Integración con sistemas de contabilidad y bases de datos.\n",
        "Monitoreo continuo del rendimiento del modelo y reentrenamiento periódico para adaptarlo a las nuevas tendencias de fraude.\n",
        "Es importante comprender que el aprendizaje automático es una herramienta, y la detección de fraude requiere una combinación de experiencia humana y análisis de datos.\n",
        "Recomendaciones Adicionales:\n",
        "\n",
        "Análisis de tendencias:\n",
        "Monitorear las tendencias en la valoración de los activos intangibles a lo largo del tiempo.\n",
        "Identificar cambios bruscos o inusuales en estas tendencias.\n",
        "Análisis comparativo:\n",
        "Comparar la valoración de los activos intangibles de la empresa con la de empresas similares en la misma industria.\n",
        "Identificar diferencias significativas que puedan indicar un fraude.\n",
        "Revisión de la documentación:\n",
        "Examinar la documentación de respaldo para la valoración de los activos intangibles, como informes de valoración y contratos.\n",
        "Verificar la razonabilidad de las suposiciones y proyecciones utilizadas en la valoración.\n",
        "Auditorías internas:\n",
        "Realizar auditorías internas periódicas para verificar la exactitud de los registros relacionados con los activos intangibles.\n",
        "Prestar especial atención a las áreas de mayor riesgo.\n",
        "Control de acceso:\n",
        "Limitar el acceso a los sistemas y registros relacionados con los activos intangibles solo al personal autorizado.\n",
        "Implementar controles de acceso sólidos para prevenir el acceso no autorizado.\n",
        "Cultura de ética:\n",
        "Fomentar una cultura de ética y transparencia en la empresa.\n",
        "Proporcionar capacitación al personal sobre la prevención del fraude.\n",
        "Recuerda que la prevención y detección de fraudes es un proceso continuo que requiere una combinación de tecnología, controles internos y experiencia humana."
      ],
      "metadata": {
        "id": "fOrEBXlP7iVb"
      }
    },
    {
      "cell_type": "markdown",
      "source": [
        "## otro algoritmo"
      ],
      "metadata": {
        "id": "Re6hS3D97utY"
      }
    },
    {
      "cell_type": "code",
      "source": [
        "df"
      ],
      "metadata": {
        "id": "U0fooY1O8XND"
      },
      "execution_count": null,
      "outputs": []
    },
    {
      "cell_type": "code",
      "source": [
        "df.anomalia.value_counts()"
      ],
      "metadata": {
        "id": "XXxbq_cR8xMu"
      },
      "execution_count": null,
      "outputs": []
    },
    {
      "cell_type": "code",
      "source": [
        "## cambiar nombre de columna anomalia por fraude y sus valores\n",
        "df.rename(columns={'anomalia': 'fraude'}, inplace=True)\n",
        "df.fraude.value_counts()"
      ],
      "metadata": {
        "id": "oMkeLhj888Kn"
      },
      "execution_count": null,
      "outputs": []
    },
    {
      "cell_type": "code",
      "source": [
        "## cambiar el contenido de la columna de fraude por 0 y 1\n",
        "df.fraude = df.fraude.map({-1:0,1:1})\n",
        "df.fraude.value_counts()"
      ],
      "metadata": {
        "id": "nMzeot8A9EjN"
      },
      "execution_count": null,
      "outputs": []
    },
    {
      "cell_type": "code",
      "source": [
        "from sklearn.linear_model import LogisticRegression\n",
        "from sklearn.model_selection import train_test_split\n",
        "from sklearn.metrics import accuracy_score\n",
        "\n",
        "    # Supongamos que tienes tus datos en un DataFrame llamado 'df'\n",
        "    # y la columna 'fraude' indica si hubo fraude (1) o no (0)\n",
        "\n",
        "X = df.drop('fraude', axis=1)  # Características\n",
        "y = df['fraude']  # Variable objetivo\n",
        "\n",
        "    # Dividir los datos en conjuntos de entrenamiento y prueba\n",
        "X_train, X_test, y_train, y_test = train_test_split(X, y, test_size=0.3, random_state=42)\n",
        "\n",
        "    # Crear y entrenar el modelo de regresión logística\n",
        "model = LogisticRegression()\n",
        "model.fit(X_train, y_train)\n",
        "\n",
        "    # Realizar predicciones en el conjunto de prueba\n",
        "y_pred = model.predict(X_test)\n",
        "\n",
        "    # Evaluar la precisión del modelo\n",
        "accuracy = accuracy_score(y_test, y_pred)\n",
        "print(f'Precisión del modelo: {accuracy}')"
      ],
      "metadata": {
        "id": "y-k8qyKY7xN6"
      },
      "execution_count": null,
      "outputs": []
    },
    {
      "cell_type": "markdown",
      "source": [
        "1. Cargar desde un archivo CSV:\n",
        "\n",
        "Si tus datos están en un archivo CSV (valores separados por comas), puedes usar la función read_csv() de Pandas:"
      ],
      "metadata": {
        "id": "0vJm90ql-p2y"
      }
    },
    {
      "cell_type": "code",
      "source": [
        "import pandas as pd\n",
        "\n",
        "df = pd.read_csv('nombre_del_archivo.csv')\n",
        "\n",
        "# Para visualizar los primeros registros del DataFrame\n",
        "print(df.head())"
      ],
      "metadata": {
        "id": "jswvAX7L-d-w"
      },
      "execution_count": null,
      "outputs": []
    },
    {
      "cell_type": "markdown",
      "source": [
        "1. Cargar desde un archivo CSV:\n",
        "\n",
        "Si tus datos están en un archivo CSV (valores separados por comas), puedes usar la función read_csv() de Pandas:"
      ],
      "metadata": {
        "id": "OS1OWmgP-vjP"
      }
    },
    {
      "cell_type": "code",
      "source": [
        "import pandas as pd\n",
        "\n",
        "df = pd.read_excel('nombre_del_archivo.xlsx', sheet_name='nombre_de_la_hoja') # puedes omitir sheet_name si solo hay una hoja\n",
        "\n",
        "# Para visualizar los primeros registros del DataFrame\n",
        "print(df.head())"
      ],
      "metadata": {
        "id": "JcDxtIyF-iYU"
      },
      "execution_count": null,
      "outputs": []
    },
    {
      "cell_type": "markdown",
      "source": [
        "3. Cargar desde una base de datos SQL:\n",
        "\n",
        "Si tus datos están en una base de datos SQL, puedes usar la función read_sql() de Pandas junto con una conexión a la base de datos:"
      ],
      "metadata": {
        "id": "eSPk2FVC-zko"
      }
    },
    {
      "cell_type": "code",
      "source": [
        "import pandas as pd\n",
        "import sqlite3 # o otro conector de base de datos como psycopg2 para PostgreSQL\n",
        "\n",
        "# Establecer la conexión a la base de datos\n",
        "conn = sqlite3.connect('nombre_de_la_base_de_datos.db')\n",
        "\n",
        "# Ejecutar una consulta SQL y cargar los resultados en un DataFrame\n",
        "query = 'SELECT * FROM nombre_de_la_tabla'\n",
        "df = pd.read_sql(query, conn)\n",
        "\n",
        "# Cerrar la conexión a la base de datos\n",
        "conn.close()\n",
        "\n",
        "# Para visualizar los primeros registros del DataFrame\n",
        "print(df.head())"
      ],
      "metadata": {
        "id": "_dfLOZ6Q-mMC"
      },
      "execution_count": null,
      "outputs": []
    },
    {
      "cell_type": "markdown",
      "source": [
        "4. Cargar desde un diccionario de Python:\n",
        "\n",
        "Si tus datos están en un diccionario de Python, puedes usar el constructor DataFrame() de Pandas:"
      ],
      "metadata": {
        "id": "ibmXAjsS-3dQ"
      }
    },
    {
      "cell_type": "code",
      "source": [
        "import pandas as pd\n",
        "\n",
        "data = {\n",
        "    'columna1': [1, 2, 3, 4, 5],\n",
        "    'columna2': ['a', 'b', 'c', 'd', 'e'],\n",
        "    'columna3': [True, False, True, False, True]\n",
        "}\n",
        "\n",
        "df = pd.DataFrame(data)\n",
        "\n",
        "# Para visualizar los primeros registros del DataFrame\n",
        "print(df.head())"
      ],
      "metadata": {
        "id": "gOYM8MPi_BLN"
      },
      "execution_count": null,
      "outputs": []
    },
    {
      "cell_type": "markdown",
      "source": [
        "5. Cargar desde un archivo JSON:\n",
        "\n",
        "Si tus datos están en un archivo JSON, puedes usar la función read_json() de Pandas:"
      ],
      "metadata": {
        "id": "xOM1L32R_E9b"
      }
    },
    {
      "cell_type": "code",
      "source": [
        "import pandas as pd\n",
        "\n",
        "df = pd.read_json('nombre_del_archivo.json')\n",
        "\n",
        "# Para visualizar los primeros registros del DataFrame\n",
        "print(df.head())"
      ],
      "metadata": {
        "id": "813SSgoI_IGb"
      },
      "execution_count": null,
      "outputs": []
    },
    {
      "cell_type": "markdown",
      "source": [
        "6. Cargar desde una lista de listas:\n",
        "\n",
        "Si tus datos están en una lista de listas, puedes usar el constructor DataFrame() de Pandas:"
      ],
      "metadata": {
        "id": "8f-8p50i_LPm"
      }
    },
    {
      "cell_type": "code",
      "source": [
        "import pandas as pd\n",
        "\n",
        "data = [\n",
        "    [1, 'a', True],\n",
        "    [2, 'b', False],\n",
        "    [3, 'c', True],\n",
        "    [4, 'd', False],\n",
        "    [5, 'e', True]\n",
        "]\n",
        "\n",
        "df = pd.DataFrame(data, columns=['columna1', 'columna2', 'columna3']) # puedes especificar los nombres de las columnas\n",
        "\n",
        "# Para visualizar los primeros registros del DataFrame\n",
        "print(df.head())"
      ],
      "metadata": {
        "id": "7ngobnTD_Q3p"
      },
      "execution_count": null,
      "outputs": []
    },
    {
      "cell_type": "markdown",
      "source": [
        "Recomendaciones:\n",
        "\n",
        "Asegúrate de que el archivo o la base de datos estén en la misma ubicación que tu script de Python, o especifica la ruta completa.\n",
        "Si tienes problemas con la codificación de caracteres, puedes especificar el parámetro encoding en las funciones read_csv() y read_excel().\n",
        "Si tienes datos faltantes, puedes usar el parámetro na_values en las funciones de lectura para especificar los valores que deben considerarse como faltantes.\n",
        "Espero que esto te ayude a cargar tus datos en un DataFrame de Pandas."
      ],
      "metadata": {
        "id": "vmOPYH8f_U5Y"
      }
    },
    {
      "cell_type": "markdown",
      "source": [
        "![image.png](data:image/png;base64,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)"
      ],
      "metadata": {
        "id": "_4UFmqx9_6qh"
      }
    },
    {
      "cell_type": "markdown",
      "source": [
        "## proveedores"
      ],
      "metadata": {
        "id": "o4SApE8s_8PH"
      }
    },
    {
      "cell_type": "markdown",
      "source": [
        "1. Preparación de datos (ejemplo simplificado)"
      ],
      "metadata": {
        "id": "DWnMF0UUAO2B"
      }
    },
    {
      "cell_type": "code",
      "source": [
        "import numpy as np\n",
        "import pandas as pd\n",
        "from sklearn.ensemble import IsolationForest\n",
        "\n",
        "# Crear datos de ejemplo (reemplaza esto con tus datos reales)\n",
        "data = {\n",
        "    'monto_promedio_facturas': [1000, 1200, 1500, 1800, 5000, 2000, 2200],\n",
        "    'numero_facturas': [10, 12, 15, 18, 5, 20, 22],\n",
        "    'dias_promedio_pago': [30, 30, 30, 30, 10, 30, 30]\n",
        "}\n",
        "\n",
        "df = pd.DataFrame(data)\n",
        "df"
      ],
      "metadata": {
        "id": "-GwPq0CBANiG"
      },
      "execution_count": null,
      "outputs": []
    },
    {
      "cell_type": "markdown",
      "source": [
        "2. Entrenamiento del modelo de detección de anomalías (Isolation Forest):"
      ],
      "metadata": {
        "id": "6SOk2QWwBaNR"
      }
    },
    {
      "cell_type": "code",
      "source": [
        "# Entrenar el modelo Isolation Forest\n",
        "model = IsolationForest(contamination=0.1)  # Contamination: proporción estimada de anomalías\n",
        "model.fit(df)\n",
        "\n",
        "# Predecir anomalías\n",
        "anomalies = model.predict(df)\n",
        "\n",
        "# Agregar la columna de anomalías al DataFrame\n",
        "df['anomalia'] = anomalies\n",
        "\n",
        "# Imprimir el DataFrame con las anomalías detectadas\n",
        "print(df)"
      ],
      "metadata": {
        "id": "oi924pxNBhYP"
      },
      "execution_count": null,
      "outputs": []
    },
    {
      "cell_type": "markdown",
      "source": [
        "**3. Interpretación de resultados:**\n",
        "\n",
        "En la columna \"anomalia\", los valores -1 indican anomalías (posibles fraudes) y los valores 1 indican valores normales.\n",
        "Explicación:\n",
        "\n",
        "Este código utiliza el algoritmo Isolation Forest, que es eficaz para detectar anomalías en datos multidimensionales.\n",
        "El parámetro \"contamination\" controla la proporción esperada de anomalías en los datos.\n",
        "El modelo \"aprende\" los patrones normales en los datos y luego identifica los puntos de datos que se desvían significativamente de esos patrones.\n",
        "Consideraciones importantes:\n",
        "\n",
        "Este es un ejemplo simplificado. En un sistema de detección de fraude real, necesitarías:\n",
        "Una gran cantidad de datos históricos de proveedores, incluyendo casos de fraude conocidos.\n",
        "Preprocesamiento de datos más sofisticado, incluyendo la codificación de variables categóricas y la normalización de variables numéricas.\n",
        "Evaluación rigurosa del modelo utilizando métricas como precisión, recuperación y F1-score.\n",
        "Integración con sistemas de gestión de proveedores y bases de datos.\n",
        "Monitoreo continuo del rendimiento del modelo y reentrenamiento periódico para adaptarlo a las nuevas tendencias de fraude.\n",
        "Es importante comprender que el aprendizaje automático es una herramienta, y la detección de fraude requiere una combinación de experiencia humana y análisis de datos.\n",
        "Recomendaciones Adicionales:\n",
        "\n",
        "Análisis de redes:\n",
        "Analizar las relaciones entre proveedores y empleados para identificar posibles colusiones.\n",
        "Utilizar herramientas de análisis de redes para visualizar y detectar patrones sospechosos.\n",
        "Análisis de texto:\n",
        "Analizar las descripciones de las facturas para detectar palabras clave o frases que puedan indicar fraude.\n",
        "Utilizar técnicas de procesamiento de lenguaje natural (NLP) para extraer información relevante de los textos.\n",
        "Alertas y notificaciones:\n",
        "Configurar alertas para detectar transacciones sospechosas en tiempo real.\n",
        "Enviar notificaciones a los responsables de la gestión de proveedores para que investiguen los casos sospechosos.\n",
        "Auditorías internas:\n",
        "Realizar auditorías internas periódicas para verificar la exactitud de los registros de proveedores.\n",
        "Prestar especial atención a las áreas de mayor riesgo.\n",
        "Control de acceso:\n",
        "Limitar el acceso a los sistemas y registros relacionados con los proveedores solo al personal autorizado.\n",
        "Implementar controles de acceso sólidos para prevenir el acceso no autorizado.\n",
        "Cultura de ética:\n",
        "Fomentar una cultura de ética y transparencia en la empresa.\n",
        "Proporcionar capacitación al personal sobre la prevención del fraude.\n",
        "Recuerda que la prevención y detección de fraudes es un proceso continuo que requiere una combinación de tecnología, controles internos y experiencia humana."
      ],
      "metadata": {
        "id": "KxxuCXQXBt2R"
      }
    },
    {
      "cell_type": "markdown",
      "source": [
        "### prestamos obtenidos"
      ],
      "metadata": {
        "id": "xR_n4N-pCDxh"
      }
    },
    {
      "cell_type": "code",
      "source": [
        "    import numpy as np\n",
        "    import pandas as pd\n",
        "    from sklearn.ensemble import IsolationForest\n",
        "\n",
        "    # Crear datos de ejemplo (reemplaza esto con tus datos reales)\n",
        "    data = {\n",
        "        'ingresos': [50000, 60000, 70000, 80000, 10000, 90000, 100000],\n",
        "        'puntaje_crediticio': [700, 750, 800, 850, 500, 900, 950],\n",
        "        'monto_prestamo': [10000, 12000, 15000, 18000, 50000, 20000, 22000],\n",
        "        'relacion_deuda_ingresos': [0.2, 0.3, 0.25, 0.35, 1.0, 0.2, 0.25]\n",
        "    }\n",
        "\n",
        "    df = pd.DataFrame(data)\n",
        "    df"
      ],
      "metadata": {
        "id": "7eIKdMxnCHrd"
      },
      "execution_count": null,
      "outputs": []
    },
    {
      "cell_type": "code",
      "source": [
        "  # Entrenar el modelo Isolation Forest\n",
        "model = IsolationForest(contamination=0.1)  # Contamination: proporción estimada de anomalías\n",
        "model.fit(df)\n",
        "\n",
        "    # Predecir anomalías\n",
        "anomalies = model.predict(df)\n",
        "\n",
        "    # Agregar la columna de anomalías al DataFrame\n",
        "df['anomalia'] = anomalies\n",
        "\n",
        "    # Imprimir el DataFrame con las anomalías detectadas\n",
        "print(df)"
      ],
      "metadata": {
        "id": "E1GzyuXWCVyW"
      },
      "execution_count": null,
      "outputs": []
    },
    {
      "cell_type": "markdown",
      "source": [
        "2. Entrenamiento del modelo de detección de anomalías (Isolation Forest):"
      ],
      "metadata": {
        "id": "580XySQpCUJB"
      }
    },
    {
      "cell_type": "code",
      "source": [
        "import numpy as np\n",
        "import pandas as pd\n",
        "from sklearn.ensemble import IsolationForest\n",
        "\n",
        "# Crear datos de ejemplo (reemplaza esto con tus datos reales)\n",
        "data = {\n",
        "    'ingresos': [50000, 60000, 70000, 80000, 10000, 90000, 100000],\n",
        "    'puntaje_crediticio': [700, 750, 800, 850, 500, 900, 950],\n",
        "    'monto_prestamo': [10000, 12000, 15000, 18000, 50000, 20000, 22000],\n",
        "    'relacion_deuda_ingresos': [0.2, 0.3, 0.25, 0.35, 1.0, 0.2, 0.25]\n",
        "}\n",
        "\n",
        "df = pd.DataFrame(data)\n",
        "\n",
        "# Entrenar el modelo Isolation Forest\n",
        "model = IsolationForest(contamination=0.1)  # Contamination: proporción estimada de anomalías\n",
        "model.fit(df)\n",
        "\n",
        "# Predecir anomalías\n",
        "anomalies = model.predict(df)\n",
        "\n",
        "# Agregar la columna de anomalías al DataFrame\n",
        "df['anomalia'] = anomalies\n",
        "\n",
        "# Imprimir el DataFrame con las anomalías detectadas\n",
        "print(df)"
      ],
      "metadata": {
        "id": "FuOSVgCpDn9k"
      },
      "execution_count": null,
      "outputs": []
    },
    {
      "cell_type": "markdown",
      "source": [
        "3. Interpretación de resultados:\n",
        "\n",
        "En la columna \"anomalia\", los valores -1 indican anomalías (posibles fraudes) y los valores 1 indican valores normales.\n",
        "Explicación:\n",
        "\n",
        "Este código utiliza el algoritmo Isolation Forest, que es eficaz para detectar anomalías en datos multidimensionales.\n",
        "El parámetro \"contamination\" controla la proporción esperada de anomalías en los datos.\n",
        "El modelo \"aprende\" los patrones normales en los datos y luego identifica los puntos de datos que se desvían significativamente de esos patrones.\n",
        "Consideraciones importantes:\n",
        "\n",
        "Este es un ejemplo simplificado. En un sistema de detección de fraude real, necesitarías:\n",
        "Una gran cantidad de datos históricos de solicitudes de préstamos, incluyendo casos de fraude conocidos.\n",
        "Preprocesamiento de datos más sofisticado, incluyendo la codificación de variables categóricas y la normalización de variables numéricas.\n",
        "Evaluación rigurosa del modelo utilizando métricas como precisión, recuperación y F1-score.\n",
        "Integración con sistemas de verificación de identidad y validación de documentos.\n",
        "Monitoreo continuo del rendimiento del modelo y reentrenamiento periódico para adaptarlo a las nuevas tendencias de fraude.\n",
        "Es importante comprender que el aprendizaje automático es una herramienta, y la detección de fraude requiere una combinación de experiencia humana y análisis de datos.\n",
        "Recomendaciones Adicionales:\n",
        "\n",
        "Análisis de redes:\n",
        "Analizar las relaciones entre solicitantes y otros actores (por ejemplo, empleados de la institución financiera) para identificar posibles colusiones.\n",
        "Utilizar herramientas de análisis de redes para visualizar y detectar patrones sospechosos.\n",
        "Análisis de texto:\n",
        "Analizar los documentos presentados por los solicitantes para detectar inconsistencias o falsificaciones.\n",
        "Utilizar técnicas de procesamiento de lenguaje natural (NLP) para extraer información relevante de los textos.\n",
        "Alertas y notificaciones:\n",
        "Configurar alertas para detectar transacciones sospechosas en tiempo real.\n",
        "Enviar notificaciones a los responsables de la gestión de préstamos para que investiguen los casos sospechosos.\n",
        "Auditorías internas:\n",
        "Realizar auditorías internas periódicas para verificar la exactitud de los registros de préstamos.\n",
        "Prestar especial atención a las áreas de mayor riesgo.\n",
        "Control de acceso:\n",
        "Limitar el acceso a los sistemas y registros relacionados con los préstamos solo al personal autorizado.\n",
        "Implementar controles de acceso sólidos para prevenir el acceso no autorizado.\n",
        "Cultura de ética:\n",
        "Fomentar una cultura de ética y transparencia en la empresa.\n",
        "Proporcionar capacitación al personal sobre la prevención del fraude.\n",
        "Recuerda que la prevención y detección de fraudes es un proceso continuo que requiere una combinación de tecnología, controles internos y experiencia humana."
      ],
      "metadata": {
        "id": "aUAHGhISDtWj"
      }
    },
    {
      "cell_type": "markdown",
      "source": [
        "## remuneraciones y cargas sociales"
      ],
      "metadata": {
        "id": "v52ucvn4EDlw"
      }
    },
    {
      "cell_type": "markdown",
      "source": [
        "1. Preparación de datos (ejemplo simplificado):"
      ],
      "metadata": {
        "id": "uoJxGiyDEHz0"
      }
    },
    {
      "cell_type": "code",
      "source": [
        "    import numpy as np\n",
        "    import pandas as pd\n",
        "    from sklearn.ensemble import IsolationForest\n",
        "\n",
        "    # Crear datos de ejemplo (reemplaza esto con tus datos reales)\n",
        "    data = {\n",
        "        'salario_promedio': [2000, 2200, 2500, 2800, 10000, 3000, 3200],\n",
        "        'horas_extras_promedio': [10, 12, 15, 18, 50, 20, 22],\n",
        "        'numero_cuentas_bancarias': [1, 1, 1, 1, 3, 1, 1],\n",
        "        'cambios_direccion': [0, 0, 0, 1, 3, 0, 0]\n",
        "    }\n",
        "\n",
        "    df = pd.DataFrame(data)\n",
        "    df"
      ],
      "metadata": {
        "id": "JYz6RSuOEI1z"
      },
      "execution_count": null,
      "outputs": []
    },
    {
      "cell_type": "markdown",
      "source": [
        "2. Entrenamiento del modelo de detección de anomalías (Isolation Forest):"
      ],
      "metadata": {
        "id": "3PVqSHfQESpF"
      }
    },
    {
      "cell_type": "code",
      "source": [
        "  # Entrenar el modelo Isolation Forest\n",
        "model = IsolationForest(contamination=0.1)  # Contamination: proporción estimada de anomalías\n",
        "model.fit(df)\n",
        "\n",
        "    # Predecir anomalías\n",
        "anomalies = model.predict(df)\n",
        "\n",
        "    # Agregar la columna de anomalías al DataFrame\n",
        "df['anomalia'] = anomalies\n",
        "\n",
        "    # Imprimir el DataFrame con las anomalías detectadas\n",
        "print(df)"
      ],
      "metadata": {
        "id": "OJuerdJzEVce"
      },
      "execution_count": null,
      "outputs": []
    },
    {
      "cell_type": "markdown",
      "source": [
        "3. Interpretación de resultados:\n",
        "\n",
        "En la columna \"anomalia\", los valores -1 indican anomalías (posibles fraudes) y los valores 1 indican valores normales.\n",
        "Explicación:\n",
        "\n",
        "Este código utiliza el algoritmo Isolation Forest, que es eficaz para detectar anomalías en datos multidimensionales.\n",
        "El parámetro \"contamination\" controla la proporción esperada de anomalías en los datos.\n",
        "El modelo \"aprende\" los patrones normales en los datos y luego identifica los puntos de datos que se desvían significativamente de esos patrones.\n",
        "Consideraciones importantes:\n",
        "\n",
        "Este es un ejemplo simplificado. En un sistema de detección de fraude real, necesitarías:\n",
        "Una gran cantidad de datos históricos de nómina y empleados, incluyendo casos de fraude conocidos.\n",
        "Preprocesamiento de datos más sofisticado, incluyendo la codificación de variables categóricas y la normalización de variables numéricas.\n",
        "Evaluación rigurosa del modelo utilizando métricas como precisión, recuperación y F1-score.\n",
        "Integración con sistemas de gestión de nómina y bases de datos.\n",
        "Monitoreo continuo del rendimiento del modelo y reentrenamiento periódico para adaptarlo a las nuevas tendencias de fraude.\n",
        "Es importante comprender que el aprendizaje automático es una herramienta, y la detección de fraude requiere una combinación de experiencia humana y análisis de datos.\n",
        "Recomendaciones Adicionales:\n",
        "\n",
        "Análisis de redes:\n",
        "Analizar las relaciones entre empleados para identificar posibles colusiones.\n",
        "Utilizar herramientas de análisis de redes para visualizar y detectar patrones sospechosos.\n",
        "Análisis de texto:\n",
        "Analizar los registros de horas trabajadas para detectar inconsistencias o falsificaciones.\n",
        "Utilizar técnicas de procesamiento de lenguaje natural (NLP) para extraer información relevante de los textos.\n",
        "Alertas y notificaciones:\n",
        "Configurar alertas para detectar transacciones sospechosas en tiempo real.\n",
        "Enviar notificaciones a los responsables de la gestión de nómina para que investiguen los casos sospechosos.\n",
        "Auditorías internas:\n",
        "Realizar auditorías internas periódicas para verificar la exactitud de los registros de nómina.\n",
        "Prestar especial atención a las áreas de mayor riesgo.\n",
        "Control de acceso:\n",
        "Limitar el acceso a los sistemas y registros relacionados con la nómina solo al personal autorizado.\n",
        "Implementar controles de acceso sólidos para prevenir el acceso no autorizado.\n",
        "Cultura de ética:\n",
        "Fomentar una cultura de ética y transparencia en la empresa.\n",
        "Proporcionar capacitación al personal sobre la prevención del fraude.\n",
        "Recuerda que la prevención y detección de fraudes es un proceso continuo que requiere una combinación de tecnología, controles internos y experiencia humana."
      ],
      "metadata": {
        "id": "lud7RaLmEi90"
      }
    },
    {
      "cell_type": "markdown",
      "source": [
        "## anticipo de clientes"
      ],
      "metadata": {
        "id": "2F6xpXH4E-Aw"
      }
    },
    {
      "cell_type": "markdown",
      "source": [
        "1. Preparación de datos (ejemplo simplificado):"
      ],
      "metadata": {
        "id": "qz3TPth7FBCC"
      }
    },
    {
      "cell_type": "code",
      "source": [
        "import numpy as np\n",
        "import pandas as pd\n",
        "from sklearn.ensemble import IsolationForest\n",
        "\n",
        "# Crear datos de ejemplo (reemplaza esto con tus datos reales)\n",
        "data = {\n",
        "    'monto_anticipo_promedio': [1000, 1200, 1500, 1800, 5000, 2000, 2200],\n",
        "    'numero_anticipos': [10, 12, 15, 18, 5, 20, 22],\n",
        "    'dias_promedio_anticipo': [30, 30, 30, 30, 10, 30, 30],\n",
        "    'descuentos_anticipo': [0, 0, 0, 1, 5, 0, 0]\n",
        "}\n",
        "\n",
        "df = pd.DataFrame(data)\n",
        "df"
      ],
      "metadata": {
        "id": "nY9N9KMJFCCa"
      },
      "execution_count": null,
      "outputs": []
    },
    {
      "cell_type": "markdown",
      "source": [
        "2. Entrenamiento del modelo de detección de anomalías (Isolation Forest):"
      ],
      "metadata": {
        "id": "Z2vifFILFRPC"
      }
    },
    {
      "cell_type": "code",
      "source": [
        "# Entrenar el modelo Isolation Forest\n",
        "model = IsolationForest(contamination=0.1)  # Contamination: proporción estimada de anomalías\n",
        "model.fit(df)\n",
        "\n",
        "# Predecir anomalías\n",
        "anomalies = model.predict(df)\n",
        "\n",
        "# Agregar la columna de anomalías al DataFrame\n",
        "df['anomalia'] = anomalies\n",
        "\n",
        "# Imprimir el DataFrame con las anomalías detectadas\n",
        "print(df)"
      ],
      "metadata": {
        "id": "kzw8Bkk9FUIm"
      },
      "execution_count": null,
      "outputs": []
    },
    {
      "cell_type": "markdown",
      "source": [
        "3. Interpretación de resultados:\n",
        "\n",
        "En la columna \"anomalia\", los valores -1 indican anomalías (posibles fraudes) y los valores 1 indican valores normales.\n",
        "Explicación:\n",
        "\n",
        "Este código utiliza el algoritmo Isolation Forest, que es eficaz para detectar anomalías en datos multidimensionales.\n",
        "El parámetro \"contamination\" controla la proporción esperada de anomalías en los datos.\n",
        "El modelo \"aprende\" los patrones normales en los datos y luego identifica los puntos de datos que se desvían significativamente de esos patrones.\n",
        "Consideraciones importantes:\n",
        "\n",
        "Este es un ejemplo simplificado. En un sistema de detección de fraude real, necesitarías:\n",
        "Una gran cantidad de datos históricos de anticipos de clientes, incluyendo casos de fraude conocidos.\n",
        "Preprocesamiento de datos más sofisticado, incluyendo la codificación de variables categóricas y la normalización de variables numéricas.\n",
        "Evaluación rigurosa del modelo utilizando métricas como precisión, recuperación y F1-score.\n",
        "Integración con sistemas de gestión de clientes y bases de datos.\n",
        "Monitoreo continuo del rendimiento del modelo y reentrenamiento periódico para adaptarlo a las nuevas tendencias de fraude.\n",
        "Es importante comprender que el aprendizaje automático es una herramienta, y la detección de fraude requiere una combinación de experiencia humana y análisis de datos.\n",
        "Recomendaciones Adicionales:\n",
        "\n",
        "Análisis de redes:\n",
        "Analizar las relaciones entre clientes y empleados para identificar posibles colusiones.\n",
        "Utilizar herramientas de análisis de redes para visualizar y detectar patrones sospechosos.\n",
        "Análisis de texto:\n",
        "Analizar las descripciones de los anticipos para detectar palabras clave o frases que puedan indicar fraude.\n",
        "Utilizar técnicas de procesamiento de lenguaje natural (NLP) para extraer información relevante de los textos.\n",
        "Alertas y notificaciones:\n",
        "Configurar alertas para detectar transacciones sospechosas en tiempo real.\n",
        "Enviar notificaciones a los responsables de la gestión de anticipos para que investiguen los casos sospechosos.\n",
        "Auditorías internas:\n",
        "Realizar auditorías internas periódicas para verificar la exactitud de los registros de anticipos.\n",
        "Prestar especial atención a las áreas de mayor riesgo.\n",
        "Control de acceso:\n",
        "Limitar el acceso a los sistemas y registros relacionados con los anticipos solo al personal autorizado.\n",
        "Implementar controles de acceso sólidos para prevenir el acceso no autorizado.\n",
        "Cultura de ética:\n",
        "Fomentar una cultura de ética y transparencia en la empresa.\n",
        "Proporcionar capacitación al personal sobre la prevención del fraude.\n",
        "Recuerda que la prevención y detección de fraudes es un proceso continuo que requiere una combinación de tecnología, controles internos y experiencia humana."
      ],
      "metadata": {
        "id": "H7u3LolgFZ2y"
      }
    },
    {
      "cell_type": "markdown",
      "source": [
        "## previsiones"
      ],
      "metadata": {
        "id": "GWOCwv1TJ4ID"
      }
    },
    {
      "cell_type": "markdown",
      "source": [
        "1. Preparación de datos (ejemplo simplificado):"
      ],
      "metadata": {
        "id": "IyK4sYXnJ_Zx"
      }
    },
    {
      "cell_type": "code",
      "source": [
        "import numpy as np\n",
        "import pandas as pd\n",
        "from sklearn.ensemble import IsolationForest\n",
        "\n",
        "    # Crear datos de ejemplo (reemplaza esto con tus datos reales)\n",
        "data = {\n",
        "        'ingresos_proyectados': [100000, 120000, 150000, 180000, 500000, 200000, 220000],\n",
        "        'gastos_proyectados': [80000, 90000, 110000, 130000, 400000, 150000, 160000],\n",
        "        'flujo_efectivo_proyectado': [20000, 30000, 40000, 50000, 100000, 50000, 60000],\n",
        "        'variacion_ingresos_reales': [0.05, 0.06, 0.07, 0.08, 0.5, 0.09, 0.1]\n",
        "    }\n",
        "\n",
        "df = pd.DataFrame(data)\n",
        "df"
      ],
      "metadata": {
        "id": "lqGnL5DPKDep"
      },
      "execution_count": null,
      "outputs": []
    },
    {
      "cell_type": "markdown",
      "source": [
        "2. Entrenamiento del modelo de detección de anomalías (Isolation Forest):"
      ],
      "metadata": {
        "id": "nl2d_08AKisa"
      }
    },
    {
      "cell_type": "code",
      "source": [
        " # Entrenar el modelo Isolation Forest\n",
        "model = IsolationForest(contamination=0.1)  # Contamination: proporción estimada de anomalías\n",
        "model.fit(df)\n",
        "\n",
        "    # Predecir anomalías\n",
        "anomalies = model.predict(df)\n",
        "\n",
        "    # Agregar la columna de anomalías al DataFrame\n",
        "df['anomalia'] = anomalies\n",
        "\n",
        "    # Imprimir el DataFrame con las anomalías detectadas\n",
        "print(df)"
      ],
      "metadata": {
        "id": "SgJSR49LKlP-"
      },
      "execution_count": null,
      "outputs": []
    },
    {
      "cell_type": "markdown",
      "source": [
        "3. Interpretación de resultados:\n",
        "\n",
        "En la columna \"anomalia\", los valores -1 indican anomalías (posibles fraudes) y los valores 1 indican valores normales.\n",
        "Explicación:\n",
        "\n",
        "Este código utiliza el algoritmo Isolation Forest, que es eficaz para detectar anomalías en datos multidimensionales.\n",
        "El parámetro \"contamination\" controla la proporción esperada de anomalías en los datos.\n",
        "El modelo \"aprende\" los patrones normales en los datos y luego identifica los puntos de datos que se desvían significativamente de esos patrones.\n",
        "Consideraciones importantes:\n",
        "\n",
        "Este es un ejemplo simplificado. En un sistema de detección de fraude real, necesitarías:\n",
        "Una gran cantidad de datos históricos de previsiones financieras, incluyendo casos de fraude conocidos.\n",
        "Preprocesamiento de datos más sofisticado, incluyendo la codificación de variables categóricas y la normalización de variables numéricas.\n",
        "Evaluación rigurosa del modelo utilizando métricas como precisión, recuperación y F1-score.\n",
        "Integración con sistemas de contabilidad y bases de datos.\n",
        "Monitoreo continuo del rendimiento del modelo y reentrenamiento periódico para adaptarlo a las nuevas tendencias de fraude.\n",
        "Es importante comprender que el aprendizaje automático es una herramienta, y la detección de fraude requiere una combinación de experiencia humana y análisis de datos.\n",
        "Recomendaciones Adicionales:\n",
        "\n",
        "Análisis de tendencias:\n",
        "Monitorear las tendencias en las previsiones a lo largo del tiempo.\n",
        "Identificar cambios bruscos o inusuales en estas tendencias.\n",
        "Análisis comparativo:\n",
        "Comparar las previsiones de la empresa con las de empresas similares en la misma industria.\n",
        "Identificar diferencias significativas que puedan indicar un fraude.\n",
        "Revisión de la documentación:\n",
        "Examinar la documentación de respaldo para las previsiones, como modelos financieros y supuestos.\n",
        "Verificar la razonabilidad de las suposiciones y proyecciones utilizadas.\n",
        "Auditorías internas:\n",
        "Realizar auditorías internas periódicas para verificar la exactitud de las previsiones.\n",
        "Prestar especial atención a las áreas de mayor riesgo.\n",
        "Control de acceso:\n",
        "Limitar el acceso a los sistemas y registros relacionados con las previsiones solo al personal autorizado.\n",
        "Implementar controles de acceso sólidos para prevenir el acceso no autorizado.\n",
        "Cultura de ética:\n",
        "Fomentar una cultura de ética y transparencia en la empresa.\n",
        "Proporcionar capacitación al personal sobre la prevención del fraude.\n",
        "Recuerda que la prevención y detección de fraudes es un proceso continuo que requiere una combinación de tecnología, controles internos y experiencia humana."
      ],
      "metadata": {
        "id": "fSkoCamfK25g"
      }
    },
    {
      "cell_type": "markdown",
      "source": [
        "### remuneraciones pagadas"
      ],
      "metadata": {
        "id": "yQkmGAYzLkfe"
      }
    },
    {
      "cell_type": "code",
      "source": [
        "import numpy as np\n",
        "import pandas as pd\n",
        "from sklearn.ensemble import IsolationForest\n",
        "\n",
        "    # Crear datos de ejemplo (reemplaza esto con tus datos reales)\n",
        "data = {\n",
        "        'salario_declarado': [2000, 2200, 2500, 2800, 10000, 3000, 3200],\n",
        "        'horas_trabajadas': [160, 160, 160, 160, 80, 160, 160],\n",
        "        'antiguedad_laboral': [1, 2, 3, 4, 10, 5, 6],\n",
        "        'descuentos_aportes': [400, 440, 500, 560, 2000, 600, 640]\n",
        "    }\n",
        "\n",
        "df = pd.DataFrame(data)\n",
        "df"
      ],
      "metadata": {
        "id": "i_cAJ6a3L3G1"
      },
      "execution_count": null,
      "outputs": []
    },
    {
      "cell_type": "markdown",
      "source": [
        "2. Entrenamiento del modelo de detección de anomalías (Isolation Forest):"
      ],
      "metadata": {
        "id": "jLx0sibEMCNh"
      }
    },
    {
      "cell_type": "code",
      "source": [
        "   # Entrenar el modelo Isolation Forest\n",
        "model = IsolationForest(contamination=0.1)  # Contamination: proporción estimada de anomalías\n",
        "model.fit(df)\n",
        "\n",
        "    # Predecir anomalías\n",
        "anomalies = model.predict(df)\n",
        "\n",
        "    # Agregar la columna de anomalías al DataFrame\n",
        "df['anomalia'] = anomalies\n",
        "\n",
        "    # Imprimir el DataFrame con las anomalías detectadas\n",
        "print(df)"
      ],
      "metadata": {
        "id": "U-8GuFY_MEog"
      },
      "execution_count": null,
      "outputs": []
    },
    {
      "cell_type": "code",
      "source": [
        "!pip install pycaret"
      ],
      "metadata": {
        "id": "5EOn5YvoM0R9"
      },
      "execution_count": null,
      "outputs": []
    },
    {
      "cell_type": "code",
      "source": [
        "from pycaret.anomaly import *"
      ],
      "metadata": {
        "id": "991jqdFPM_5w"
      },
      "execution_count": null,
      "outputs": []
    },
    {
      "cell_type": "code",
      "source": [
        "anomaly = setup(df, normalize = True)"
      ],
      "metadata": {
        "id": "qi7WOUi-NDSN"
      },
      "execution_count": null,
      "outputs": []
    },
    {
      "cell_type": "code",
      "source": [
        "models()"
      ],
      "metadata": {
        "id": "dndmAmT9NXWZ"
      },
      "execution_count": null,
      "outputs": []
    },
    {
      "cell_type": "code",
      "source": [
        "iforest = create_model('iforest')\n",
        "iforest"
      ],
      "metadata": {
        "id": "DqPO5fBJNa_i"
      },
      "execution_count": null,
      "outputs": []
    },
    {
      "cell_type": "code",
      "source": [
        "anomalias = assign_model(iforest)\n",
        "anomalias"
      ],
      "metadata": {
        "id": "_cDApdeRNkCF"
      },
      "execution_count": null,
      "outputs": []
    },
    {
      "cell_type": "code",
      "source": [
        "knn = create_model('knn')\n",
        "knn"
      ],
      "metadata": {
        "id": "1o_kpNEbQJbZ"
      },
      "execution_count": null,
      "outputs": []
    },
    {
      "cell_type": "code",
      "source": [
        "anomalias1 = assign_model(knn)\n",
        "anomalias1"
      ],
      "metadata": {
        "id": "tgNSgaS0P3Ax"
      },
      "execution_count": null,
      "outputs": []
    },
    {
      "cell_type": "code",
      "source": [
        "pca = create_model('pca')\n",
        "pca"
      ],
      "metadata": {
        "id": "_tGA-I_iQVqJ"
      },
      "execution_count": null,
      "outputs": []
    },
    {
      "cell_type": "code",
      "source": [
        "anomalias2 = assign_model(pca)\n",
        "anomalias2"
      ],
      "metadata": {
        "id": "W0sKiyYPQYjS"
      },
      "execution_count": null,
      "outputs": []
    },
    {
      "cell_type": "code",
      "source": [
        "df"
      ],
      "metadata": {
        "id": "QGb7PZLCQukq"
      },
      "execution_count": null,
      "outputs": []
    },
    {
      "cell_type": "code",
      "source": [
        "from sklearn.linear_model import LogisticRegression\n",
        "from sklearn.model_selection import train_test_split\n",
        "from sklearn.metrics import accuracy_score\n",
        "\n",
        "    # Supongamos que tienes tus datos en un DataFrame llamado 'df'\n",
        "    # y la columna 'fraude' indica si hubo fraude (1) o no (0)\n",
        "\n",
        "    X = df.drop('fraude', axis=1)  # Características\n",
        "    y = df['fraude']  # Variable objetivo\n",
        "\n",
        "    # Dividir los datos en conjuntos de entrenamiento y prueba\n",
        "    X_train, X_test, y_train, y_test = train_test_split(X, y, test_size=0.3, random_state=42)\n",
        "\n",
        "    # Crear y entrenar el modelo de regresión logística\n",
        "    model = LogisticRegression()\n",
        "    model.fit(X_train, y_train)\n",
        "\n",
        "    # Realizar predicciones en el conjunto de prueba\n",
        "    y_pred = model.predict(X_test)\n",
        "\n",
        "    # Evaluar la precisión del modelo\n",
        "    accuracy = accuracy_score(y_test, y_pred)\n",
        "    print(f'Precisión del modelo: {accuracy}')"
      ],
      "metadata": {
        "id": "Y6Cv59uUQyg5"
      },
      "execution_count": null,
      "outputs": []
    },
    {
      "cell_type": "markdown",
      "source": [
        "Árboles de Decisión:\n",
        "\n",
        "Los árboles de decisión son algoritmos que dividen los datos en ramas basadas en diferentes variables.\n",
        "Son fáciles de interpretar y pueden manejar tanto datos numéricos como categóricos.\n",
        "Puedes usar árboles de decisión para identificar reglas que son indicativas de fraude."
      ],
      "metadata": {
        "id": "mWNyjAInRDfA"
      }
    },
    {
      "cell_type": "markdown",
      "source": [
        "3. Bosques Aleatorios:\n",
        "\n",
        "Los bosques aleatorios son un conjunto de árboles de decisión que trabajan juntos para mejorar la precisión de la predicción.\n",
        "Son más robustos que los árboles de decisión individuales y pueden manejar grandes conjuntos de datos.\n",
        "Los bosques aleatorios son una buena opción cuando tienes datos complejos y deseas una alta precisión."
      ],
      "metadata": {
        "id": "pIYNKQuzRJr-"
      }
    },
    {
      "cell_type": "markdown",
      "source": [
        "000000000000000000000000000000000000000000000000000000000000000000000000000000000000000000000000000000000000000000000000000000000000000000000000000000000000000000000000000000000000000000000000000000000000000000000000000000000000000000000000000000000000000000000000000000000"
      ],
      "metadata": {
        "id": "pLCPZSGjLPkU"
      }
    },
    {
      "cell_type": "markdown",
      "source": [
        "**Capítulo 1: La Problemática del Fraude y la Corrupción en la Sociedad Actual**\n",
        "1.1 Definición y Tipos de Fraude\n",
        "1.2 Definición y Manifestaciones de la Corrupción\n",
        "1.3 Impacto Económico y Social del Fraude y la Corrupción\n",
        "1.4 La Necesidad de Nuevas Herramientas para Combatir el Fraude y la Corrupción\n"
      ],
      "metadata": {
        "id": "6c2XQSqILWu-"
      }
    },
    {
      "cell_type": "markdown",
      "source": [
        "Imaginemos que queremos analizar un conjunto de datos muy simplificado que contenga información sobre transacciones sospechosas o denuncias de corrupción. Este ejemplo ilustrará cómo podríamos comenzar a procesar y visualizar información para entender mejor la problemática.\n",
        "\n",
        "**Contexto del Ejemplo:**\n",
        "\n",
        "Supongamos que tenemos un archivo CSV (o una lista de diccionarios en Python) con la siguiente información simplificada:\n",
        "\n",
        "Tipo: (Ej: Transacción Bancaria, Denuncia de Corrupción)\n",
        "Descripción: (Breve descripción del evento)\n",
        "Monto: (En una unidad monetaria)\n",
        "Fecha: (Fecha del evento)\n",
        "Estado: (Ej: Sospechoso, Investigado, Confirmado)"
      ],
      "metadata": {
        "id": "IWPuA-FvLgTB"
      }
    },
    {
      "cell_type": "code",
      "source": [
        "import pandas as pd\n",
        "import matplotlib.pyplot as plt\n",
        "import seaborn as sns\n",
        "\n",
        "# Datos de ejemplo (simulados)\n",
        "data = {\n",
        "    'Tipo': ['Transacción Bancaria', 'Denuncia de Corrupción', 'Transacción Bancaria', 'Denuncia de Corrupción', 'Transacción Bancaria', 'Transacción Bancaria'],\n",
        "    'Descripción': ['Transferencia inusual a cuenta desconocida', 'Denuncia de soborno a funcionario público', 'Retiro de gran cantidad en efectivo', 'Denuncia de malversación de fondos', 'Compra sospechosa online', 'Transferencia a paraíso fiscal'],\n",
        "    'Monto': [15000, 5000, 10000, 250000, 750, 80000],\n",
        "    'Fecha': ['2023-10-26', '2024-01-15', '2023-11-05', '2024-03-10', '2024-02-20', '2024-03-01'],\n",
        "    'Estado': ['Sospechoso', 'Investigado', 'Sospechoso', 'Investigado', 'Sospechoso', 'Sospechoso']\n",
        "}\n",
        "\n",
        "df = pd.DataFrame(data)\n",
        "\n",
        "# 1.1 Definición y Tipos de Fraude / 1.2 Definición y Manifestaciones de la Corrupción\n",
        "# Podemos categorizar los datos según el tipo y la descripción para entender las manifestaciones.\n",
        "\n",
        "print(\"Tipos de Eventos:\")\n",
        "print(df['Tipo'].value_counts())\n",
        "print(\"\\nEjemplos de Descripciones:\")\n",
        "print(df[['Tipo', 'Descripción']])\n",
        "\n",
        "# 1.3 Impacto Económico y Social del Fraude y la Corrupción\n",
        "# Podemos analizar los montos para tener una idea del impacto económico (simplificado).\n",
        "\n",
        "print(\"\\nAnálisis de Montos (Impacto Económico Potencial):\")\n",
        "print(\"Monto Total de Eventos Sospechosos:\", df[df['Estado'] == 'Sospechoso']['Monto'].sum())\n",
        "print(\"Monto Total de Eventos Investigados:\", df[df['Estado'] == 'Investigado']['Monto'].sum())\n",
        "\n",
        "# 1.4 La Necesidad de Nuevas Herramientas para Combatir el Fraude y la Corrupción\n",
        "# Visualización básica para ilustrar la frecuencia de los tipos de eventos y su estado.\n",
        "\n",
        "plt.figure(figsize=(10, 5))\n",
        "sns.countplot(x='Tipo', hue='Estado', data=df)\n",
        "plt.title('Frecuencia de Tipos de Eventos por Estado')\n",
        "plt.xlabel('Tipo de Evento')\n",
        "plt.ylabel('Número de Eventos')\n",
        "plt.xticks(rotation=45, ha='right')\n",
        "plt.tight_layout()\n",
        "plt.show()\n",
        "\n",
        "plt.figure(figsize=(8, 6))\n",
        "sns.histplot(df['Monto'], bins=5, kde=True)\n",
        "plt.title('Distribución de Montos de Eventos')\n",
        "plt.xlabel('Monto')\n",
        "plt.ylabel('Frecuencia')\n",
        "plt.show()"
      ],
      "metadata": {
        "colab": {
          "base_uri": "https://localhost:8080/",
          "height": 1000
        },
        "id": "7bxjjT3DLkDP",
        "outputId": "9c7a94be-4a0d-4e7c-f198-dee321ae2788"
      },
      "execution_count": null,
      "outputs": [
        {
          "output_type": "stream",
          "name": "stdout",
          "text": [
            "Tipos de Eventos:\n",
            "Tipo\n",
            "Transacción Bancaria      4\n",
            "Denuncia de Corrupción    2\n",
            "Name: count, dtype: int64\n",
            "\n",
            "Ejemplos de Descripciones:\n",
            "                     Tipo                                 Descripción\n",
            "0    Transacción Bancaria  Transferencia inusual a cuenta desconocida\n",
            "1  Denuncia de Corrupción   Denuncia de soborno a funcionario público\n",
            "2    Transacción Bancaria         Retiro de gran cantidad en efectivo\n",
            "3  Denuncia de Corrupción          Denuncia de malversación de fondos\n",
            "4    Transacción Bancaria                    Compra sospechosa online\n",
            "5    Transacción Bancaria              Transferencia a paraíso fiscal\n",
            "\n",
            "Análisis de Montos (Impacto Económico Potencial):\n",
            "Monto Total de Eventos Sospechosos: 105750\n",
            "Monto Total de Eventos Investigados: 255000\n"
          ]
        },
        {
          "output_type": "display_data",
          "data": {
            "text/plain": [
              "<Figure size 1000x500 with 1 Axes>"
            ],
            "image/png": "[encoded data removed]"
          },
          "metadata": {}
        },
        {
          "output_type": "display_data",
          "data": {
            "text/plain": [
              "<Figure size 800x600 with 1 Axes>"
            ],
            "image/png": "[encoded data removed]"
          },
          "metadata": {}
        }
      ]
    },
    {
      "cell_type": "markdown",
      "source": [
        "Explicación del Código:\n",
        "**texto en negrita**\n",
        "Importación de Librerías:\n",
        "\n",
        "pandas se utiliza para crear y manipular un DataFrame, que es una estructura de datos tabular.\n",
        "matplotlib.pyplot y seaborn se utilizan para crear visualizaciones básicas.\n",
        "Datos de Ejemplo:\n",
        "\n",
        "Se crea un diccionario data que simula un pequeño conjunto de datos con información relevante sobre posibles fraudes y casos de corrupción.\n",
        "Creación del DataFrame:\n",
        "\n",
        "pd.DataFrame(data) convierte el diccionario en un DataFrame de pandas para facilitar el análisis.\n",
        "Análisis Conceptual (1.1 y 1.2):\n",
        "\n",
        "df['Tipo'].value_counts() muestra la frecuencia de cada tipo de evento (Transacción Bancaria, Denuncia de Corrupción), ayudando a entender la distribución de los casos.\n",
        "df[['Tipo', 'Descripción']] muestra una vista de los tipos de eventos y sus descripciones, ilustrando las diferentes manifestaciones de fraude y corrupción.\n",
        "Análisis del Impacto Económico (1.3):\n",
        "\n",
        "Se calcula la suma de los montos asociados a eventos clasificados como \"Sospechoso\" e \"Investigado\" para dar una idea del impacto económico potencial, aunque este es un análisis muy superficial y simplificado.\n",
        "Visualización (1.4 - Necesidad de Nuevas Herramientas):\n",
        "\n",
        "sns.countplot() crea un gráfico de barras que muestra la frecuencia de cada tipo de evento, segmentado por su estado (Sospechoso, Investigado). Esto ilustra visualmente la presencia de diferentes tipos de problemas.\n",
        "sns.histplot() crea un histograma de los montos de los eventos, lo que puede ayudar a visualizar la distribución de los montos involucrados.\n",
        "Cómo se relaciona con el Capítulo 1:\n",
        "\n",
        "Este código, aunque básico, ilustra cómo podríamos comenzar a:\n",
        "\n",
        "Identificar diferentes \"Tipos de Fraude\" y \"Manifestaciones de la Corrupción\" (secciones 1.1 y 1.2) al analizar la columna \"Tipo\" y la columna \"Descripción\".\n",
        "Evaluar el \"Impacto Económico\" (sección 1.3) de manera muy rudimentaria al sumar los montos.\n",
        "Visualizar la \"Necesidad de Nuevas Herramientas\" (sección 1.4) al mostrar que incluso con un pequeño conjunto de datos, la información puede ser compleja y requerir herramientas más sofisticadas (como algoritmos) para identificar patrones y tendencias de manera más efectiva. Las visualizaciones básicas sugieren que hay problemas que requieren una investigación más profunda.\n",
        "Limitaciones de este Ejemplo:\n",
        "\n",
        "Datos Simplificados: Los datos son simulados y muy limitados.\n",
        "Análisis Básico: El análisis es muy superficial y no utiliza algoritmos complejos.\n",
        "No Predice: No predice futuros fraudes o actos de corrupción.\n",
        "No Detecta Patrones Complejos: No identifica patrones que podrían ser revelados por algoritmos más avanzados.\n",
        "Conclusión:\n",
        "\n",
        "Este ejemplo de código en Python proporciona una ilustración conceptual de cómo se podría comenzar a analizar información relacionada con el fraude y la corrupción. Sin embargo, para una aplicación real y efectiva de los conceptos del Capítulo 1, se requeriría el uso de algoritmos más sofisticados que se abordarán en los capítulos siguientes, capaces de procesar grandes volúmenes de datos, identificar patrones complejos y predecir posibles actividades ilícitas. Este ejemplo sienta las bases para entender que el análisis de datos es el primer paso, y los algoritmos son las herramientas que potenciarán ese análisis."
      ],
      "metadata": {
        "id": "A1CUgNnTLsOB"
      }
    },
    {
      "cell_type": "code",
      "source": [
        "import pandas as pd\n",
        "\n",
        "data = {\n",
        "    'Tipo': ['Transacción Bancaria', 'Denuncia de Corrupción', 'Transacción Bancaria', 'Denuncia de Corrupción', 'Transacción Bancaria', 'Transacción Bancaria'],\n",
        "    'Descripción': ['Transferencia inusual a cuenta desconocida', 'Denuncia de soborno a funcionario público', 'Retiro de gran cantidad en efectivo', 'Denuncia de malversación de fondos', 'Compra sospechosa online', 'Transferencia a paraíso fiscal'],\n",
        "    'Monto': [15000, 5000, 10000, 250000, 750, 80000],\n",
        "    'Fecha': ['2023-10-26', '2024-01-15', '2023-11-05', '2024-03-10', '2024-02-20', '2024-03-01'],\n",
        "    'Estado': ['Sospechoso', 'Investigado', 'Sospechoso', 'Investigado', 'Sospechoso', 'Sospechoso']\n",
        "}\n",
        "\n",
        "df = pd.DataFrame(data)\n",
        "df"
      ],
      "metadata": {
        "colab": {
          "base_uri": "https://localhost:8080/",
          "height": 237
        },
        "id": "aoEUtgznL3BO",
        "outputId": "e8a23bb6-5ccb-47df-ea50-f260bca26c28"
      },
      "execution_count": null,
      "outputs": [
        {
          "output_type": "execute_result",
          "data": {
            "text/plain": [
              "                     Tipo                                 Descripción   Monto  \\\n",
              "0    Transacción Bancaria  Transferencia inusual a cuenta desconocida   15000   \n",
              "1  Denuncia de Corrupción   Denuncia de soborno a funcionario público    5000   \n",
              "2    Transacción Bancaria         Retiro de gran cantidad en efectivo   10000   \n",
              "3  Denuncia de Corrupción          Denuncia de malversación de fondos  250000   \n",
              "4    Transacción Bancaria                    Compra sospechosa online     750   \n",
              "5    Transacción Bancaria              Transferencia a paraíso fiscal   80000   \n",
              "\n",
              "        Fecha       Estado  \n",
              "0  2023-10-26   Sospechoso  \n",
              "1  2024-01-15  Investigado  \n",
              "2  2023-11-05   Sospechoso  \n",
              "3  2024-03-10  Investigado  \n",
              "4  2024-02-20   Sospechoso  \n",
              "5  2024-03-01   Sospechoso  "
            ],
            "text/html": [
              "\n",
              "  <div id=\"df-5376103b-325f-477c-9198-59e9f11bd37b\" class=\"colab-df-container\">\n",
              "    <div>\n",
              "<style scoped>\n",
              "    .dataframe tbody tr th:only-of-type {\n",
              "        vertical-align: middle;\n",
              "    }\n",
              "\n",
              "    .dataframe tbody tr th {\n",
              "        vertical-align: top;\n",
              "    }\n",
              "\n",
              "    .dataframe thead th {\n",
              "        text-align: right;\n",
              "    }\n",
              "</style>\n",
              "<table border=\"1\" class=\"dataframe\">\n",
              "  <thead>\n",
              "    <tr style=\"text-align: right;\">\n",
              "      <th></th>\n",
              "      <th>Tipo</th>\n",
              "      <th>Descripción</th>\n",
              "      <th>Monto</th>\n",
              "      <th>Fecha</th>\n",
              "      <th>Estado</th>\n",
              "    </tr>\n",
              "  </thead>\n",
              "  <tbody>\n",
              "    <tr>\n",
              "      <th>0</th>\n",
              "      <td>Transacción Bancaria</td>\n",
              "      <td>Transferencia inusual a cuenta desconocida</td>\n",
              "      <td>15000</td>\n",
              "      <td>2023-10-26</td>\n",
              "      <td>Sospechoso</td>\n",
              "    </tr>\n",
              "    <tr>\n",
              "      <th>1</th>\n",
              "      <td>Denuncia de Corrupción</td>\n",
              "      <td>Denuncia de soborno a funcionario público</td>\n",
              "      <td>5000</td>\n",
              "      <td>2024-01-15</td>\n",
              "      <td>Investigado</td>\n",
              "    </tr>\n",
              "    <tr>\n",
              "      <th>2</th>\n",
              "      <td>Transacción Bancaria</td>\n",
              "      <td>Retiro de gran cantidad en efectivo</td>\n",
              "      <td>10000</td>\n",
              "      <td>2023-11-05</td>\n",
              "      <td>Sospechoso</td>\n",
              "    </tr>\n",
              "    <tr>\n",
              "      <th>3</th>\n",
              "      <td>Denuncia de Corrupción</td>\n",
              "      <td>Denuncia de malversación de fondos</td>\n",
              "      <td>250000</td>\n",
              "      <td>2024-03-10</td>\n",
              "      <td>Investigado</td>\n",
              "    </tr>\n",
              "    <tr>\n",
              "      <th>4</th>\n",
              "      <td>Transacción Bancaria</td>\n",
              "      <td>Compra sospechosa online</td>\n",
              "      <td>750</td>\n",
              "      <td>2024-02-20</td>\n",
              "      <td>Sospechoso</td>\n",
              "    </tr>\n",
              "    <tr>\n",
              "      <th>5</th>\n",
              "      <td>Transacción Bancaria</td>\n",
              "      <td>Transferencia a paraíso fiscal</td>\n",
              "      <td>80000</td>\n",
              "      <td>2024-03-01</td>\n",
              "      <td>Sospechoso</td>\n",
              "    </tr>\n",
              "  </tbody>\n",
              "</table>\n",
              "</div>\n",
              "    <div class=\"colab-df-buttons\">\n",
              "\n",
              "  <div class=\"colab-df-container\">\n",
              "    <button class=\"colab-df-convert\" onclick=\"convertToInteractive('df-5376103b-325f-477c-9198-59e9f11bd37b')\"\n",
              "            title=\"Convert this dataframe to an interactive table.\"\n",
              "            style=\"display:none;\">\n",
              "\n",
              "  <svg xmlns=\"http://www.w3.org/2000/svg\" height=\"24px\" viewBox=\"0 -960 960 960\">\n",
              "    <path d=\"M120-120v-720h720v720H120Zm60-500h600v-160H180v160Zm220 220h160v-160H400v160Zm0 220h160v-160H400v160ZM180-400h160v-160H180v160Zm440 0h160v-160H620v160ZM180-180h160v-160H180v160Zm440 0h160v-160H620v160Z\"/>\n",
              "  </svg>\n",
              "    </button>\n",
              "\n",
              "  <style>\n",
              "    .colab-df-container {\n",
              "      display:flex;\n",
              "      gap: 12px;\n",
              "    }\n",
              "\n",
              "    .colab-df-convert {\n",
              "      background-color: #E8F0FE;\n",
              "      border: none;\n",
              "      border-radius: 50%;\n",
              "      cursor: pointer;\n",
              "      display: none;\n",
              "      fill: #1967D2;\n",
              "      height: 32px;\n",
              "      padding: 0 0 0 0;\n",
              "      width: 32px;\n",
              "    }\n",
              "\n",
              "    .colab-df-convert:hover {\n",
              "      background-color: #E2EBFA;\n",
              "      box-shadow: 0px 1px 2px rgba(60, 64, 67, 0.3), 0px 1px 3px 1px rgba(60, 64, 67, 0.15);\n",
              "      fill: #174EA6;\n",
              "    }\n",
              "\n",
              "    .colab-df-buttons div {\n",
              "      margin-bottom: 4px;\n",
              "    }\n",
              "\n",
              "    [theme=dark] .colab-df-convert {\n",
              "      background-color: #3B4455;\n",
              "      fill: #D2E3FC;\n",
              "    }\n",
              "\n",
              "    [theme=dark] .colab-df-convert:hover {\n",
              "      background-color: #434B5C;\n",
              "      box-shadow: 0px 1px 3px 1px rgba(0, 0, 0, 0.15);\n",
              "      filter: drop-shadow(0px 1px 2px rgba(0, 0, 0, 0.3));\n",
              "      fill: #FFFFFF;\n",
              "    }\n",
              "  </style>\n",
              "\n",
              "    <script>\n",
              "      const buttonEl =\n",
              "        document.querySelector('#df-5376103b-325f-477c-9198-59e9f11bd37b button.colab-df-convert');\n",
              "      buttonEl.style.display =\n",
              "        google.colab.kernel.accessAllowed ? 'block' : 'none';\n",
              "\n",
              "      async function convertToInteractive(key) {\n",
              "        const element = document.querySelector('#df-5376103b-325f-477c-9198-59e9f11bd37b');\n",
              "        const dataTable =\n",
              "          await google.colab.kernel.invokeFunction('convertToInteractive',\n",
              "                                                    [key], {});\n",
              "        if (!dataTable) return;\n",
              "\n",
              "        const docLinkHtml = 'Like what you see? Visit the ' +\n",
              "          '<a target=\"_blank\" href=https://colab.research.google.com/notebooks/data_table.ipynb>data table notebook</a>'\n",
              "          + ' to learn more about interactive tables.';\n",
              "        element.innerHTML = '';\n",
              "        dataTable['output_type'] = 'display_data';\n",
              "        await google.colab.output.renderOutput(dataTable, element);\n",
              "        const docLink = document.createElement('div');\n",
              "        docLink.innerHTML = docLinkHtml;\n",
              "        element.appendChild(docLink);\n",
              "      }\n",
              "    </script>\n",
              "  </div>\n",
              "\n",
              "\n",
              "<div id=\"df-b68d986a-b6ab-4191-9b5b-f526924e047c\">\n",
              "  <button class=\"colab-df-quickchart\" onclick=\"quickchart('df-b68d986a-b6ab-4191-9b5b-f526924e047c')\"\n",
              "            title=\"Suggest charts\"\n",
              "            style=\"display:none;\">\n",
              "\n",
              "<svg xmlns=\"http://www.w3.org/2000/svg\" height=\"24px\"viewBox=\"0 0 24 24\"\n",
              "     width=\"24px\">\n",
              "    <g>\n",
              "        <path d=\"M19 3H5c-1.1 0-2 .9-2 2v14c0 1.1.9 2 2 2h14c1.1 0 2-.9 2-2V5c0-1.1-.9-2-2-2zM9 17H7v-7h2v7zm4 0h-2V7h2v10zm4 0h-2v-4h2v4z\"/>\n",
              "    </g>\n",
              "</svg>\n",
              "  </button>\n",
              "\n",
              "<style>\n",
              "  .colab-df-quickchart {\n",
              "      --bg-color: #E8F0FE;\n",
              "      --fill-color: #1967D2;\n",
              "      --hover-bg-color: #E2EBFA;\n",
              "      --hover-fill-color: #174EA6;\n",
              "      --disabled-fill-color: #AAA;\n",
              "      --disabled-bg-color: #DDD;\n",
              "  }\n",
              "\n",
              "  [theme=dark] .colab-df-quickchart {\n",
              "      --bg-color: #3B4455;\n",
              "      --fill-color: #D2E3FC;\n",
              "      --hover-bg-color: #434B5C;\n",
              "      --hover-fill-color: #FFFFFF;\n",
              "      --disabled-bg-color: #3B4455;\n",
              "      --disabled-fill-color: #666;\n",
              "  }\n",
              "\n",
              "  .colab-df-quickchart {\n",
              "    background-color: var(--bg-color);\n",
              "    border: none;\n",
              "    border-radius: 50%;\n",
              "    cursor: pointer;\n",
              "    display: none;\n",
              "    fill: var(--fill-color);\n",
              "    height: 32px;\n",
              "    padding: 0;\n",
              "    width: 32px;\n",
              "  }\n",
              "\n",
              "  .colab-df-quickchart:hover {\n",
              "    background-color: var(--hover-bg-color);\n",
              "    box-shadow: 0 1px 2px rgba(60, 64, 67, 0.3), 0 1px 3px 1px rgba(60, 64, 67, 0.15);\n",
              "    fill: var(--button-hover-fill-color);\n",
              "  }\n",
              "\n",
              "  .colab-df-quickchart-complete:disabled,\n",
              "  .colab-df-quickchart-complete:disabled:hover {\n",
              "    background-color: var(--disabled-bg-color);\n",
              "    fill: var(--disabled-fill-color);\n",
              "    box-shadow: none;\n",
              "  }\n",
              "\n",
              "  .colab-df-spinner {\n",
              "    border: 2px solid var(--fill-color);\n",
              "    border-color: transparent;\n",
              "    border-bottom-color: var(--fill-color);\n",
              "    animation:\n",
              "      spin 1s steps(1) infinite;\n",
              "  }\n",
              "\n",
              "  @keyframes spin {\n",
              "    0% {\n",
              "      border-color: transparent;\n",
              "      border-bottom-color: var(--fill-color);\n",
              "      border-left-color: var(--fill-color);\n",
              "    }\n",
              "    20% {\n",
              "      border-color: transparent;\n",
              "      border-left-color: var(--fill-color);\n",
              "      border-top-color: var(--fill-color);\n",
              "    }\n",
              "    30% {\n",
              "      border-color: transparent;\n",
              "      border-left-color: var(--fill-color);\n",
              "      border-top-color: var(--fill-color);\n",
              "      border-right-color: var(--fill-color);\n",
              "    }\n",
              "    40% {\n",
              "      border-color: transparent;\n",
              "      border-right-color: var(--fill-color);\n",
              "      border-top-color: var(--fill-color);\n",
              "    }\n",
              "    60% {\n",
              "      border-color: transparent;\n",
              "      border-right-color: var(--fill-color);\n",
              "    }\n",
              "    80% {\n",
              "      border-color: transparent;\n",
              "      border-right-color: var(--fill-color);\n",
              "      border-bottom-color: var(--fill-color);\n",
              "    }\n",
              "    90% {\n",
              "      border-color: transparent;\n",
              "      border-bottom-color: var(--fill-color);\n",
              "    }\n",
              "  }\n",
              "</style>\n",
              "\n",
              "  <script>\n",
              "    async function quickchart(key) {\n",
              "      const quickchartButtonEl =\n",
              "        document.querySelector('#' + key + ' button');\n",
              "      quickchartButtonEl.disabled = true;  // To prevent multiple clicks.\n",
              "      quickchartButtonEl.classList.add('colab-df-spinner');\n",
              "      try {\n",
              "        const charts = await google.colab.kernel.invokeFunction(\n",
              "            'suggestCharts', [key], {});\n",
              "      } catch (error) {\n",
              "        console.error('Error during call to suggestCharts:', error);\n",
              "      }\n",
              "      quickchartButtonEl.classList.remove('colab-df-spinner');\n",
              "      quickchartButtonEl.classList.add('colab-df-quickchart-complete');\n",
              "    }\n",
              "    (() => {\n",
              "      let quickchartButtonEl =\n",
              "        document.querySelector('#df-b68d986a-b6ab-4191-9b5b-f526924e047c button');\n",
              "      quickchartButtonEl.style.display =\n",
              "        google.colab.kernel.accessAllowed ? 'block' : 'none';\n",
              "    })();\n",
              "  </script>\n",
              "</div>\n",
              "\n",
              "  <div id=\"id_039c53c7-1d4c-420a-858c-2f4b0ba407c4\">\n",
              "    <style>\n",
              "      .colab-df-generate {\n",
              "        background-color: #E8F0FE;\n",
              "        border: none;\n",
              "        border-radius: 50%;\n",
              "        cursor: pointer;\n",
              "        display: none;\n",
              "        fill: #1967D2;\n",
              "        height: 32px;\n",
              "        padding: 0 0 0 0;\n",
              "        width: 32px;\n",
              "      }\n",
              "\n",
              "      .colab-df-generate:hover {\n",
              "        background-color: #E2EBFA;\n",
              "        box-shadow: 0px 1px 2px rgba(60, 64, 67, 0.3), 0px 1px 3px 1px rgba(60, 64, 67, 0.15);\n",
              "        fill: #174EA6;\n",
              "      }\n",
              "\n",
              "      [theme=dark] .colab-df-generate {\n",
              "        background-color: #3B4455;\n",
              "        fill: #D2E3FC;\n",
              "      }\n",
              "\n",
              "      [theme=dark] .colab-df-generate:hover {\n",
              "        background-color: #434B5C;\n",
              "        box-shadow: 0px 1px 3px 1px rgba(0, 0, 0, 0.15);\n",
              "        filter: drop-shadow(0px 1px 2px rgba(0, 0, 0, 0.3));\n",
              "        fill: #FFFFFF;\n",
              "      }\n",
              "    </style>\n",
              "    <button class=\"colab-df-generate\" onclick=\"generateWithVariable('df')\"\n",
              "            title=\"Generate code using this dataframe.\"\n",
              "            style=\"display:none;\">\n",
              "\n",
              "  <svg xmlns=\"http://www.w3.org/2000/svg\" height=\"24px\"viewBox=\"0 0 24 24\"\n",
              "       width=\"24px\">\n",
              "    <path d=\"M7,19H8.4L18.45,9,17,7.55,7,17.6ZM5,21V16.75L18.45,3.32a2,2,0,0,1,2.83,0l1.4,1.43a1.91,1.91,0,0,1,.58,1.4,1.91,1.91,0,0,1-.58,1.4L9.25,21ZM18.45,9,17,7.55Zm-12,3A5.31,5.31,0,0,0,4.9,8.1,5.31,5.31,0,0,0,1,6.5,5.31,5.31,0,0,0,4.9,4.9,5.31,5.31,0,0,0,6.5,1,5.31,5.31,0,0,0,8.1,4.9,5.31,5.31,0,0,0,12,6.5,5.46,5.46,0,0,0,6.5,12Z\"/>\n",
              "  </svg>\n",
              "    </button>\n",
              "    <script>\n",
              "      (() => {\n",
              "      const buttonEl =\n",
              "        document.querySelector('#id_039c53c7-1d4c-420a-858c-2f4b0ba407c4 button.colab-df-generate');\n",
              "      buttonEl.style.display =\n",
              "        google.colab.kernel.accessAllowed ? 'block' : 'none';\n",
              "\n",
              "      buttonEl.onclick = () => {\n",
              "        google.colab.notebook.generateWithVariable('df');\n",
              "      }\n",
              "      })();\n",
              "    </script>\n",
              "  </div>\n",
              "\n",
              "    </div>\n",
              "  </div>\n"
            ],
            "application/vnd.google.colaboratory.intrinsic+json": {
              "type": "dataframe",
              "variable_name": "df",
              "summary": "{\n  \"name\": \"df\",\n  \"rows\": 6,\n  \"fields\": [\n    {\n      \"column\": \"Tipo\",\n      \"properties\": {\n        \"dtype\": \"category\",\n        \"num_unique_values\": 2,\n        \"samples\": [\n          \"Denuncia de Corrupci\\u00f3n\",\n          \"Transacci\\u00f3n Bancaria\"\n        ],\n        \"semantic_type\": \"\",\n        \"description\": \"\"\n      }\n    },\n    {\n      \"column\": \"Descripci\\u00f3n\",\n      \"properties\": {\n        \"dtype\": \"string\",\n        \"num_unique_values\": 6,\n        \"samples\": [\n          \"Transferencia inusual a cuenta desconocida\",\n          \"Denuncia de soborno a funcionario p\\u00fablico\"\n        ],\n        \"semantic_type\": \"\",\n        \"description\": \"\"\n      }\n    },\n    {\n      \"column\": \"Monto\",\n      \"properties\": {\n        \"dtype\": \"number\",\n        \"std\": 97529,\n        \"min\": 750,\n        \"max\": 250000,\n        \"num_unique_values\": 6,\n        \"samples\": [\n          15000,\n          5000\n        ],\n        \"semantic_type\": \"\",\n        \"description\": \"\"\n      }\n    },\n    {\n      \"column\": \"Fecha\",\n      \"properties\": {\n        \"dtype\": \"object\",\n        \"num_unique_values\": 6,\n        \"samples\": [\n          \"2023-10-26\",\n          \"2024-01-15\"\n        ],\n        \"semantic_type\": \"\",\n        \"description\": \"\"\n      }\n    },\n    {\n      \"column\": \"Estado\",\n      \"properties\": {\n        \"dtype\": \"category\",\n        \"num_unique_values\": 2,\n        \"samples\": [\n          \"Investigado\",\n          \"Sospechoso\"\n        ],\n        \"semantic_type\": \"\",\n        \"description\": \"\"\n      }\n    }\n  ]\n}"
            }
          },
          "metadata": {},
          "execution_count": 23
        }
      ]
    },
    {
      "cell_type": "markdown",
      "source": [
        "Nuevo Análisis:\n",
        "\n",
        "**Análisis Temporal (1.3 Impacto Económico y Social): Podemos analizar la evolución de los eventos sospechosos a lo largo del tiempo.**"
      ],
      "metadata": {
        "id": "XgR4zxHsL8iE"
      }
    },
    {
      "cell_type": "code",
      "source": [
        "df['Fecha'] = pd.to_datetime(df['Fecha'])\n",
        "df_sorted = df.sort_values(by='Fecha')\n",
        "print(\"\\nEventos Sospechosos por Fecha:\")\n",
        "print(df_sorted[df_sorted['Estado'] == 'Sospechoso'][['Fecha', 'Descripción', 'Monto']])"
      ],
      "metadata": {
        "colab": {
          "base_uri": "https://localhost:8080/"
        },
        "id": "RattakNpMAA1",
        "outputId": "d55665f5-9400-4ee3-8914-fe3bc78a27fa"
      },
      "execution_count": null,
      "outputs": [
        {
          "output_type": "stream",
          "name": "stdout",
          "text": [
            "\n",
            "Eventos Sospechosos por Fecha:\n",
            "       Fecha                                 Descripción  Monto\n",
            "0 2023-10-26  Transferencia inusual a cuenta desconocida  15000\n",
            "2 2023-11-05         Retiro de gran cantidad en efectivo  10000\n",
            "4 2024-02-20                    Compra sospechosa online    750\n",
            "5 2024-03-01              Transferencia a paraíso fiscal  80000\n"
          ]
        }
      ]
    },
    {
      "cell_type": "markdown",
      "source": [
        "**Agrupación por Tipo y Estado (1.1 y 1.2): Podemos ver cuántos eventos de cada tipo están en cada estado.**\n"
      ],
      "metadata": {
        "id": "AvYKiFR2MDil"
      }
    },
    {
      "cell_type": "code",
      "source": [
        "print(\"\\nConteo de Eventos por Tipo y Estado:\")\n",
        "print(df.groupby(['Tipo', 'Estado']).size().reset_index(name='Conteo'))"
      ],
      "metadata": {
        "colab": {
          "base_uri": "https://localhost:8080/"
        },
        "id": "vb3ZCSkxMOVM",
        "outputId": "7ea74a19-d9a0-4496-efc1-c1bbee9770d0"
      },
      "execution_count": null,
      "outputs": [
        {
          "output_type": "stream",
          "name": "stdout",
          "text": [
            "\n",
            "Conteo de Eventos por Tipo y Estado:\n",
            "                     Tipo       Estado  Conteo\n",
            "0  Denuncia de Corrupción  Investigado       2\n",
            "1    Transacción Bancaria   Sospechoso       4\n"
          ]
        }
      ]
    },
    {
      "cell_type": "markdown",
      "source": [
        "**Identificación de \"Bandera Roja\" (1.1 y 1.2): Podemos buscar patrones o montos que podrían considerarse \"banderas rojas\" o indicadores de posibles problemas.**"
      ],
      "metadata": {
        "id": "AgUQBdGoMRSY"
      }
    },
    {
      "cell_type": "code",
      "source": [
        "umbral_monto_alto = 50000\n",
        "print(\"\\nEventos con Montos Altos (Potencialmente Significativos):\")\n",
        "print(df[df['Monto'] > umbral_monto_alto][['Tipo', 'Descripción', 'Monto', 'Estado']])"
      ],
      "metadata": {
        "colab": {
          "base_uri": "https://localhost:8080/"
        },
        "id": "JqnIKQXdMWZU",
        "outputId": "d63de822-9cc5-4ef5-e202-42c38efc2c3d"
      },
      "execution_count": null,
      "outputs": [
        {
          "output_type": "stream",
          "name": "stdout",
          "text": [
            "\n",
            "Eventos con Montos Altos (Potencialmente Significativos):\n",
            "                     Tipo                         Descripción   Monto  \\\n",
            "3  Denuncia de Corrupción  Denuncia de malversación de fondos  250000   \n",
            "5    Transacción Bancaria      Transferencia a paraíso fiscal   80000   \n",
            "\n",
            "        Estado  \n",
            "3  Investigado  \n",
            "5   Sospechoso  \n"
          ]
        }
      ]
    },
    {
      "cell_type": "markdown",
      "source": [
        "**Análisis de Palabras Clave en la Descripción (Conceptual para 1.1 y 1.2): Aunque no es un análisis NLP avanzado, podemos buscar palabras clave que sugieran fraude o corrupción.**"
      ],
      "metadata": {
        "id": "PUCMxPm9MbYL"
      }
    },
    {
      "cell_type": "code",
      "source": [
        "palabras_clave_fraude = ['transferencia inusual', 'retiro efectivo', 'compra sospechosa', 'paraíso fiscal']\n",
        "palabras_clave_corrupcion = ['soborno', 'malversación', 'funcionario público']\n",
        "\n",
        "def identificar_palabras_clave(row, palabras):\n",
        "    for palabra in palabras:\n",
        "        if palabra.lower() in row['Descripción'].lower():\n",
        "            return True\n",
        "    return False\n",
        "\n",
        "df['Es_Fraude'] = df.apply(lambda row: identificar_palabras_clave(row, palabras_clave_fraude), axis=1)\n",
        "df['Es_Corrupcion'] = df.apply(lambda row: identificar_palabras_clave(row, palabras_clave_corrupcion), axis=1)\n",
        "\n",
        "print(\"\\nIdentificación de Palabras Clave en Descripción:\")\n",
        "print(df[['Descripción', 'Es_Fraude', 'Es_Corrupcion']])"
      ],
      "metadata": {
        "colab": {
          "base_uri": "https://localhost:8080/"
        },
        "id": "A-CsobnsMgoI",
        "outputId": "1f821fae-586f-4e52-df76-c2ee49bfc32a"
      },
      "execution_count": null,
      "outputs": [
        {
          "output_type": "stream",
          "name": "stdout",
          "text": [
            "\n",
            "Identificación de Palabras Clave en Descripción:\n",
            "                                  Descripción  Es_Fraude  Es_Corrupcion\n",
            "0  Transferencia inusual a cuenta desconocida       True          False\n",
            "1   Denuncia de soborno a funcionario público      False           True\n",
            "2         Retiro de gran cantidad en efectivo      False          False\n",
            "3          Denuncia de malversación de fondos      False           True\n",
            "4                    Compra sospechosa online       True          False\n",
            "5              Transferencia a paraíso fiscal       True          False\n"
          ]
        }
      ]
    },
    {
      "cell_type": "markdown",
      "source": [
        "Explicación del Nuevo Código:\n",
        "\n",
        "**Análisis Temporal:**\n",
        "\n",
        "Convertimos la columna 'Fecha' al tipo de dato datetime para poder ordenarla.\n",
        "Ordenamos el DataFrame por fecha para ver la secuencia de eventos sospechosos.\n",
        "Agrupación por Tipo y Estado:\n",
        "\n",
        "df.groupby(['Tipo', 'Estado']).size() agrupa el DataFrame por las columnas 'Tipo' y 'Estado' y cuenta el número de ocurrencias en cada grupo.\n",
        ".reset_index(name='Conteo') convierte el resultado agrupado en un DataFrame más legible.\n",
        "Identificación de \"Bandera Roja\":\n",
        "\n",
        "Definimos un umbral_monto_alto.\n",
        "Filtramos el DataFrame para mostrar solo los eventos cuyo 'Monto' supera este umbral, resaltando transacciones potencialmente significativas.\n",
        "Análisis de Palabras Clave:\n",
        "\n",
        "Definimos dos listas de palabras_clave relacionadas con fraude y corrupción.\n",
        "La función identificar_palabras_clave verifica si alguna de las palabras clave se encuentra en la columna 'Descripción' de una fila.\n",
        "Aplicamos esta función a cada fila del DataFrame utilizando df.apply() para crear dos nuevas columnas booleanas: 'Es_Fraude' y 'Es_Corrupcion'.\n",
        "Cómo se relaciona con el Capítulo 1 (Revisión):\n",
        "\n",
        "1.1 Definición y Tipos de Fraude / 1.2 Definición y Manifestaciones de la Corrupción: El análisis de palabras clave y la agrupación por tipo y descripción ayudan a categorizar las diferentes manifestaciones de fraude y corrupción presentes en los datos de ejemplo.\n",
        "1.3 Impacto Económico y Social: El análisis de los montos y la identificación de eventos con montos altos dan una idea del impacto económico potencial, aunque limitado por el tamaño del dataset. El análisis temporal podría ayudar a identificar si los eventos sospechosos están aumentando o disminuyendo.\n",
        "1.4 La Necesidad de Nuevas Herramientas: Aunque este análisis es básico, resalta la necesidad de herramientas más sofisticadas (algoritmos) para:\n",
        "Analizar automáticamente grandes volúmenes de texto (para una identificación más precisa de palabras clave y patrones).\n",
        "Identificar patrones complejos en las fechas, los montos y los tipos de eventos.\n",
        "Realizar análisis predictivos para anticipar futuros casos de fraude o corrupción.\n",
        "Conclusión del Nuevo Análisis:\n",
        "\n",
        "Este segundo análisis, aunque aún con datos limitados, demuestra cómo se pueden aplicar diferentes enfoques para extraer información relevante del mismo dataset. Vemos cómo podemos:\n",
        "\n",
        "Organizar la información temporalmente.\n",
        "Categorizar los eventos por tipo y estado.\n",
        "Identificar valores atípicos o \"banderas rojas\" basadas en el monto.\n",
        "Realizar un análisis textual básico para identificar posibles indicios de fraude y corrupción.\n",
        "Estos pasos iniciales son análogos a lo que un sistema más complejo basado en algoritmos haría de manera automatizada y a mayor escala, proporcionando una comprensión más profunda y detallada de la problemática del fraude y la corrupción. La necesidad de algoritmos sofisticados se hace evidente al considerar la complejidad de los datos reales y la necesidad de una detección más precisa y eficiente."
      ],
      "metadata": {
        "id": "MvZs4k8YMkpB"
      }
    },
    {
      "cell_type": "markdown",
      "source": [
        "**Capítulo 2: Introducción a los Algoritmos y la Inteligencia Artificial**\n",
        "2.1 ¿Qué son los Algoritmos? Conceptos Básicos\n",
        "2.2 Tipos de Algoritmos Relevantes para la Detección de Fraude y Corrupción\n",
        "2.3 Introducción a la Inteligencia Artificial y el Aprendizaje Automático (Machine Learning)\n",
        "2.4 Ética y Sesgos en los Algoritmos\n"
      ],
      "metadata": {
        "id": "o4PzlP8UNA7R"
      }
    },
    {
      "cell_type": "markdown",
      "source": [
        "\n",
        "Un Algoritmo Simple: Un algoritmo para encontrar el número mayor en una lista. **texto en negrita**\n",
        "Tipos de Algoritmos Relevantes (Conceptualmente):\n",
        "Clasificación: Un ejemplo muy básico de cómo clasificar datos.\n",
        "Agrupamiento (Clustering): Una demostración de cómo agrupar datos similares."
      ],
      "metadata": {
        "id": "yXuXnKezNITd"
      }
    },
    {
      "cell_type": "code",
      "source": [
        "import random\n",
        "from collections import defaultdict\n",
        "\n",
        "# 2.1 ¿Qué son los Algoritmos? Conceptos Básicos\n",
        "\n",
        "def encontrar_mayor(lista):\n",
        "    \"\"\"Algoritmo para encontrar el número mayor en una lista.\"\"\"\n",
        "    if not lista:\n",
        "        return None\n",
        "    mayor = lista[0]\n",
        "    for numero in lista:\n",
        "        if numero > mayor:\n",
        "            mayor = numero\n",
        "    return mayor\n",
        "\n",
        "# Ejemplo de uso\n",
        "numeros = [5, 2, 8, 1, 9, 4]\n",
        "mayor_numero = encontrar_mayor(numeros)\n",
        "print(f\"\\n2.1 Algoritmo Simple: El número mayor en {numeros} es: {mayor_numero}\")\n",
        "\n",
        "# 2.2 Tipos de Algoritmos Relevantes para la Detección de Fraude y Corrupción\n",
        "\n",
        "# Ejemplo muy básico de Clasificación (simulando una clasificación simple)\n",
        "def clasificar_transaccion(monto):\n",
        "    \"\"\"Clasifica una transacción como 'Baja', 'Media' o 'Alta'.\"\"\"\n",
        "    if monto < 100:\n",
        "        return 'Baja'\n",
        "    elif monto < 1000:\n",
        "        return 'Media'\n",
        "    else:\n",
        "        return 'Alta'\n",
        "\n",
        "transacciones = [50, 500, 1500, 20, 1200]\n",
        "print(\"\\n2.2 Ejemplo Básico de Clasificación:\")\n",
        "for monto in transacciones:\n",
        "    print(f\"La transacción de ${monto} es clasificada como: {clasificar_transaccion(monto)}\")\n",
        "\n",
        "# Ejemplo muy básico de Agrupamiento (simulando agrupar datos similares)\n",
        "def agrupar_por_rango(valor, rangos):\n",
        "    \"\"\"Agrupa un valor en un rango predefinido.\"\"\"\n",
        "    for rango, etiqueta in rangos.items():\n",
        "        if valor in rango:\n",
        "            return etiqueta\n",
        "    return 'Otro'\n",
        "\n",
        "valores = [10, 25, 110, 500, 1005, 15]\n",
        "rangos_agrupamiento = {\n",
        "    range(0, 50): 'Grupo A',\n",
        "    range(50, 500): 'Grupo B',\n",
        "    range(500, 1000): 'Grupo C'\n",
        "}\n",
        "print(\"\\n2.2 Ejemplo Básico de Agrupamiento:\")\n",
        "for valor in valores:\n",
        "    grupo = agrupar_por_rango(valor, rangos_agrupamiento)\n",
        "    print(f\"El valor {valor} pertenece al grupo: {grupo}\")\n",
        "\n",
        "# 2.3 Introducción a la Inteligencia Artificial y el Aprendizaje Automático (Machine Learning)\n",
        "# Ejemplo conceptual de cómo un algoritmo podría \"aprender\" (muy simplificado)\n",
        "\n",
        "# Simulación de datos etiquetados (fraudulento o no)\n",
        "datos_entrenamiento = [\n",
        "    {'monto': 100, 'frecuencia': 1, 'etiqueta': 'No Fraudulento'},\n",
        "    {'monto': 5000, 'frecuencia': 1, 'etiqueta': 'Fraudulento'},\n",
        "    {'monto': 200, 'frecuencia': 3, 'etiqueta': 'No Fraudulento'},\n",
        "    {'monto': 7000, 'frecuencia': 2, 'etiqueta': 'Fraudulento'},\n",
        "    {'monto': 150, 'frecuencia': 2, 'etiqueta': 'No Fraudulento'}\n",
        "]\n",
        "\n",
        "# Un modelo muy simplificado (si el monto es alto y la frecuencia baja, es fraudulento)\n",
        "def modelo_aprendizaje_simple(transaccion):\n",
        "    if transaccion['monto'] > 4000 and transaccion['frecuencia'] < 3:\n",
        "        return 'Posiblemente Fraudulento'\n",
        "    else:\n",
        "        return 'No Sospechoso'\n",
        "\n",
        "print(\"\\n2.3 Ejemplo Conceptual de Aprendizaje Automático (Muy Simplificado):\")\n",
        "transaccion_nueva = {'monto': 6000, 'frecuencia': 1}\n",
        "resultado = modelo_aprendizaje_simple(transaccion_nueva)\n",
        "print(f\"La transacción {transaccion_nueva} se clasifica como: {resultado}\")\n",
        "\n",
        "transaccion_nueva_2 = {'monto': 300, 'frecuencia': 5}\n",
        "resultado_2 = modelo_aprendizaje_simple(transaccion_nueva_2)\n",
        "print(f\"La transacción {transaccion_nueva_2} se clasifica como: {resultado_2}\")\n",
        "\n",
        "# 2.4 Ética y Sesgos en los Algoritmos\n",
        "# Ejemplo conceptual de cómo un sesgo en los datos podría afectar un modelo (muy simplificado)\n",
        "\n",
        "# Datos de entrenamiento con un sesgo (más transacciones 'altas' para un tipo de usuario)\n",
        "datos_sesgados = [\n",
        "    {'tipo_usuario': 'A', 'monto': 100, 'etiqueta': 'No Fraudulento'},\n",
        "    {'tipo_usuario': 'B', 'monto': 5000, 'etiqueta': 'Fraudulento'},\n",
        "    {'tipo_usuario': 'A', 'monto': 200, 'etiqueta': 'No Fraudulento'},\n",
        "    {'tipo_usuario': 'B', 'monto': 7000, 'etiqueta': 'Fraudulento'},\n",
        "    {'tipo_usuario': 'A', 'monto': 150, 'etiqueta': 'No Fraudulento'},\n",
        "    {'tipo_usuario': 'B', 'monto': 1000, 'etiqueta': 'No Fraudulento'} # Menos ejemplos de 'No Fraudulento' para B\n",
        "]\n",
        "\n",
        "def modelo_sesgado_simple(transaccion):\n",
        "    if transaccion['tipo_usuario'] == 'B' and transaccion['monto'] > 800:\n",
        "        return 'Sospechoso'\n",
        "    else:\n",
        "        return 'No Sospechoso'\n",
        "\n",
        "print(\"\\n2.4 Ejemplo Conceptual de Sesgo en Algoritmos (Muy Simplificado):\")\n",
        "transaccion_usuario_a = {'tipo_usuario': 'A', 'monto': 900}\n",
        "resultado_a = modelo_sesgado_simple(transaccion_usuario_a)\n",
        "print(f\"Transacción usuario A ({transaccion_usuario_a}): {resultado_a}\")\n",
        "\n",
        "transaccion_usuario_b = {'tipo_usuario': 'B', 'monto': 900}\n",
        "resultado_b = modelo_sesgado_simple(transaccion_usuario_b)\n",
        "print(f\"Transacción usuario B ({transaccion_usuario_b}): {resultado_b}\")"
      ],
      "metadata": {
        "colab": {
          "base_uri": "https://localhost:8080/"
        },
        "id": "1nUHyxwCNXsK",
        "outputId": "1a2d803d-5183-46c5-bea9-9e2051e3ab9d"
      },
      "execution_count": null,
      "outputs": [
        {
          "output_type": "stream",
          "name": "stdout",
          "text": [
            "\n",
            "2.1 Algoritmo Simple: El número mayor en [5, 2, 8, 1, 9, 4] es: 9\n",
            "\n",
            "2.2 Ejemplo Básico de Clasificación:\n",
            "La transacción de $50 es clasificada como: Baja\n",
            "La transacción de $500 es clasificada como: Media\n",
            "La transacción de $1500 es clasificada como: Alta\n",
            "La transacción de $20 es clasificada como: Baja\n",
            "La transacción de $1200 es clasificada como: Alta\n",
            "\n",
            "2.2 Ejemplo Básico de Agrupamiento:\n",
            "El valor 10 pertenece al grupo: Grupo A\n",
            "El valor 25 pertenece al grupo: Grupo A\n",
            "El valor 110 pertenece al grupo: Grupo B\n",
            "El valor 500 pertenece al grupo: Grupo C\n",
            "El valor 1005 pertenece al grupo: Otro\n",
            "El valor 15 pertenece al grupo: Grupo A\n",
            "\n",
            "2.3 Ejemplo Conceptual de Aprendizaje Automático (Muy Simplificado):\n",
            "La transacción {'monto': 6000, 'frecuencia': 1} se clasifica como: Posiblemente Fraudulento\n",
            "La transacción {'monto': 300, 'frecuencia': 5} se clasifica como: No Sospechoso\n",
            "\n",
            "2.4 Ejemplo Conceptual de Sesgo en Algoritmos (Muy Simplificado):\n",
            "Transacción usuario A ({'tipo_usuario': 'A', 'monto': 900}): No Sospechoso\n",
            "Transacción usuario B ({'tipo_usuario': 'B', 'monto': 900}): Sospechoso\n"
          ]
        }
      ]
    },
    {
      "cell_type": "markdown",
      "source": [
        "\n",
        "\n",
        "**Algoritmo Simple (encontrar_mayor):**\n",
        "\n",
        "Este es un algoritmo básico que itera a través de una lista y compara cada elemento con el mayor encontrado hasta el momento. Ilustra la idea de un conjunto de pasos definidos para resolver un problema.\n",
        "Ejemplo Básico de Clasificación (clasificar_transaccion):\n",
        "\n",
        "Define una función que asigna una etiqueta ('Baja', 'Media', 'Alta') a una transacción según su monto. Esto es una simplificación de un algoritmo de clasificación.\n",
        "Ejemplo Básico de Agrupamiento (agrupar_por_rango):\n",
        "\n",
        "Define una función que asigna un grupo a un valor numérico según el rango en el que se encuentre. Esto ilustra la idea de agrupar datos similares.\n",
        "Ejemplo Conceptual de Aprendizaje Automático (modelo_aprendizaje_simple):\n",
        "\n",
        "Simula un proceso de aprendizaje muy básico donde, a partir de datos de entrenamiento etiquetados, se define una regla simple para predecir si una transacción es fraudulenta. Esto introduce la idea de que los algoritmos pueden aprender de los datos.\n",
        "Ejemplo Conceptual de Sesgo en Algoritmos (modelo_sesgado_simple):\n",
        "\n",
        "Muestra cómo un modelo simple, entrenado implícitamente con datos que podrían tener una distribución desigual, podría generar resultados sesgados. En este caso, el modelo podría sospechar más de las transacciones del \"tipo_usuario\" 'B' simplemente porque los datos de entrenamiento tienen una mayor proporción de transacciones de monto alto asociadas a ese tipo.\n",
        "Cómo se relaciona con el Capítulo 2:\n",
        "\n",
        "2.1 ¿Qué son los Algoritmos? Conceptos Básicos: El ejemplo de encontrar_mayor ilustra la idea de un conjunto de pasos definidos para resolver un problema.\n",
        "2.2 Tipos de Algoritmos Relevantes: Los ejemplos de clasificar_transaccion y agrupar_por_rango son representaciones muy simplificadas de algoritmos de clasificación y agrupamiento, respectivamente, que se mencionan como relevantes para la detección de fraude y corrupción.\n",
        "2.3 Introducción a la Inteligencia Artificial y el Aprendizaje Automático: El ejemplo de modelo_aprendizaje_simple introduce de manera conceptual la idea de que un algoritmo puede \"aprender\" de los datos para hacer predicciones.\n",
        "2.4 Ética y Sesgos en los Algoritmos: El ejemplo de modelo_sesgado_simple ilustra cómo los sesgos en los datos de entrenamiento pueden llevar a que un algoritmo tome decisiones sesgadas.\n",
        "Limitaciones de este Código:\n",
        "\n",
        "Muy Simplificado: Los ejemplos son intencionalmente muy básicos para ilustrar los conceptos de manera sencilla. Los algoritmos reales de detección de fraude y corrupción son mucho más complejos.\n",
        "No Implementa Algoritmos Reales: No implementa algoritmos de clasificación, agrupamiento o aprendizaje automático sofisticados. Simplemente muestra la idea detrás de ellos.\n",
        "Datos Simulados: Los datos de entrenamiento y prueba son simulados y no representan datos reales de fraude.\n",
        "Conclusión:\n",
        "\n",
        "Este código proporciona una introducción práctica y conceptual a los temas del Capítulo 2. Muestra cómo se pueden definir algoritmos simples, cómo se pueden simular los principios de clasificación y agrupamiento, y cómo se puede entender de forma básica la idea del aprendizaje automático y los sesgos algorítmicos. Sirve como un punto de partida para comprender que los algoritmos son conjuntos de instrucciones que pueden analizar datos y tomar decisiones, y que en el contexto de la IA, estos algoritmos pueden aprender de los datos, pero también pueden heredar sesgos presentes en ellos."
      ],
      "metadata": {
        "id": "xbMlCmO4Nc3N"
      }
    },
    {
      "cell_type": "code",
      "source": [
        "import pandas as pd\n",
        "from sklearn.cluster import KMeans\n",
        "from sklearn.preprocessing import StandardScaler\n",
        "from sklearn.model_selection import train_test_split\n",
        "from sklearn.linear_model import LogisticRegression\n",
        "from sklearn.metrics import classification_report, accuracy_score\n",
        "\n",
        "# 1. Cargamos el dataset (mismo ejemplo)\n",
        "data = {\n",
        "    'Tipo': ['Transacción Bancaria', 'Denuncia de Corrupción', 'Transacción Bancaria', 'Denuncia de Corrupción', 'Transacción Bancaria', 'Transacción Bancaria'],\n",
        "    'Descripción': ['Transferencia inusual a cuenta desconocida', 'Denuncia de soborno a funcionario público', 'Retiro de gran cantidad en efectivo', 'Denuncia de malversación de fondos', 'Compra sospechosa online', 'Transferencia a paraíso fiscal'],\n",
        "    'Monto': [15000, 5000, 10000, 250000, 750, 80000],\n",
        "    'Fecha': ['2023-10-26', '2024-01-15', '2023-11-05', '2024-03-10', '2024-02-20', '2024-03-01'],\n",
        "    'Estado': ['Sospechoso', 'Investigado', 'Sospechoso', 'Investigado', 'Sospechoso', 'Sospechoso']\n",
        "}\n",
        "df = pd.DataFrame(data)\n",
        "\n",
        "# 2. Preprocesamiento Básico (para algunos algoritmos)\n",
        "# Convertir 'Monto' a un formato numérico si no lo estuviera ya.\n",
        "# En este caso, ya es numérico.\n",
        "\n",
        "# 3. Ejemplo de Agrupamiento (Clustering) - Capítulo 2.2\n",
        "# Intentamos agrupar las transacciones basándonos en el 'Monto'.\n",
        "# Esto es una simplificación, en un caso real se usarían más características.\n",
        "\n",
        "if 'Monto' in df.columns:\n",
        "    monto_array = df[['Monto']].values\n",
        "    scaler = StandardScaler()\n",
        "    monto_scaled = scaler.fit_transform(monto_array)\n",
        "\n",
        "    n_clusters = 2  # Intentamos agrupar en 2 grupos (ej: montos bajos y altos)\n",
        "    kmeans = KMeans(n_clusters=n_clusters, random_state=42, n_init=10)\n",
        "    df['Grupo_Monto'] = kmeans.fit_predict(monto_scaled)\n",
        "\n",
        "    print(\"\\nEjemplo de Agrupamiento (K-Means) basado en Monto:\")\n",
        "    print(df[['Descripción', 'Monto', 'Grupo_Monto']])\n",
        "else:\n",
        "    print(\"\\nNo se puede realizar el agrupamiento porque la columna 'Monto' no está presente.\")\n",
        "\n",
        "# 4. Ejemplo Básico de Clasificación (Aprendizaje Supervisado) - Capítulo 2.2 y 2.3\n",
        "# Creamos una columna binaria para clasificar si un evento es 'Sospechoso' o no.\n",
        "\n",
        "if 'Estado' in df.columns:\n",
        "    df['Es_Sospechoso'] = df['Estado'].apply(lambda x: 1 if x == 'Sospechoso' else 0)\n",
        "\n",
        "    # Seleccionamos una característica numérica para la clasificación (Monto)\n",
        "    if 'Monto' in df.columns:\n",
        "        X = df[['Monto']]\n",
        "        y = df['Es_Sospechoso']\n",
        "\n",
        "        # Dividimos los datos en entrenamiento y prueba (muy simplificado)\n",
        "        X_train, X_test, y_train, y_test = train_test_split(X, y, test_size=0.3, random_state=42)\n",
        "\n",
        "        # Entrenamos un modelo de regresión logística (un clasificador simple)\n",
        "        model = LogisticRegression(random_state=42)\n",
        "        model.fit(X_train, y_train)\n",
        "\n",
        "        # Realizamos predicciones\n",
        "        y_pred = model.predict(X_test)\n",
        "\n",
        "        # Evaluamos el modelo (muy básico con pocos datos)\n",
        "        print(\"\\nEjemplo Básico de Clasificación (Regresión Logística):\")\n",
        "        print(\"Predicciones:\", y_pred)\n",
        "        print(\"Valores Reales:\", y_test.values)\n",
        "        print(\"Precisión del Modelo:\", accuracy_score(y_test, y_pred))\n",
        "        print(\"\\nReporte de Clasificación:\")\n",
        "        print(classification_report(y_test, y_pred, target_names=['No Sospechoso', 'Sospechoso']))\n",
        "    else:\n",
        "        print(\"\\nNo se puede realizar la clasificación porque la columna 'Monto' no está presente.\")\n",
        "else:\n",
        "    print(\"\\nNo se puede realizar la clasificación porque la columna 'Estado' no está presente.\")\n",
        "\n",
        "# 5. Ejemplo Conceptual de Sesgo (Capítulo 2.4)\n",
        "# Imaginemos que el 'Monto' es la única característica y que los eventos 'Investigado'\n",
        "# son más comunes en un cierto rango de montos, lo que podría influir en el modelo.\n",
        "# Esto es una simplificación extrema para ilustrar el concepto.\n",
        "\n",
        "if 'Monto' in df.columns and 'Estado' in df.columns:\n",
        "    print(\"\\nEjemplo Conceptual de Sesgo (Influencia del Monto en la Clasificación):\")\n",
        "    print(df[['Monto', 'Estado']])\n",
        "    # Si la mayoría de 'Investigado' tiene montos medios, el modelo podría\n",
        "    # aprender a asociar montos medios con 'Investigado', incluso si no es la causa.\n",
        "    # Con pocos datos, es difícil demostrar un sesgo claro, pero se ilustra la idea.\n",
        "\n",
        "# 6. Consideraciones Éticas (Implícitas)\n",
        "print(\"\\nConsideraciones Éticas Implícitas:\")\n",
        "print(\"Es importante notar que estos modelos se entrenan con datos y pueden reflejar\")\n",
        "print(\"sesgos presentes en esos datos. La interpretación de los resultados debe ser\")\n",
        "print(\"cuidadosa y considerar el contexto de los datos.\")"
      ],
      "metadata": {
        "colab": {
          "base_uri": "https://localhost:8080/"
        },
        "id": "MnWAAicQNmpl",
        "outputId": "0f4b5bb8-7453-4dcc-f3b2-ef988c6e1e92"
      },
      "execution_count": null,
      "outputs": [
        {
          "output_type": "stream",
          "name": "stdout",
          "text": [
            "\n",
            "Ejemplo de Agrupamiento (K-Means) basado en Monto:\n",
            "                                  Descripción   Monto  Grupo_Monto\n",
            "0  Transferencia inusual a cuenta desconocida   15000            0\n",
            "1   Denuncia de soborno a funcionario público    5000            0\n",
            "2         Retiro de gran cantidad en efectivo   10000            0\n",
            "3          Denuncia de malversación de fondos  250000            1\n",
            "4                    Compra sospechosa online     750            0\n",
            "5              Transferencia a paraíso fiscal   80000            0\n",
            "\n",
            "Ejemplo Básico de Clasificación (Regresión Logística):\n",
            "Predicciones: [1 1]\n",
            "Valores Reales: [1 0]\n",
            "Precisión del Modelo: 0.5\n",
            "\n",
            "Reporte de Clasificación:\n",
            "               precision    recall  f1-score   support\n",
            "\n",
            "No Sospechoso       0.00      0.00      0.00         1\n",
            "   Sospechoso       0.50      1.00      0.67         1\n",
            "\n",
            "     accuracy                           0.50         2\n",
            "    macro avg       0.25      0.50      0.33         2\n",
            " weighted avg       0.25      0.50      0.33         2\n",
            "\n",
            "\n",
            "Ejemplo Conceptual de Sesgo (Influencia del Monto en la Clasificación):\n",
            "    Monto       Estado\n",
            "0   15000   Sospechoso\n",
            "1    5000  Investigado\n",
            "2   10000   Sospechoso\n",
            "3  250000  Investigado\n",
            "4     750   Sospechoso\n",
            "5   80000   Sospechoso\n",
            "\n",
            "Consideraciones Éticas Implícitas:\n",
            "Es importante notar que estos modelos se entrenan con datos y pueden reflejar\n",
            "sesgos presentes en esos datos. La interpretación de los resultados debe ser\n",
            "cuidadosa y considerar el contexto de los datos.\n"
          ]
        },
        {
          "output_type": "stream",
          "name": "stderr",
          "text": [
            "/usr/local/lib/python3.11/dist-packages/sklearn/metrics/_classification.py:1565: UndefinedMetricWarning: Precision is ill-defined and being set to 0.0 in labels with no predicted samples. Use `zero_division` parameter to control this behavior.\n",
            "  _warn_prf(average, modifier, f\"{metric.capitalize()} is\", len(result))\n",
            "/usr/local/lib/python3.11/dist-packages/sklearn/metrics/_classification.py:1565: UndefinedMetricWarning: Precision is ill-defined and being set to 0.0 in labels with no predicted samples. Use `zero_division` parameter to control this behavior.\n",
            "  _warn_prf(average, modifier, f\"{metric.capitalize()} is\", len(result))\n",
            "/usr/local/lib/python3.11/dist-packages/sklearn/metrics/_classification.py:1565: UndefinedMetricWarning: Precision is ill-defined and being set to 0.0 in labels with no predicted samples. Use `zero_division` parameter to control this behavior.\n",
            "  _warn_prf(average, modifier, f\"{metric.capitalize()} is\", len(result))\n"
          ]
        }
      ]
    },
    {
      "cell_type": "markdown",
      "source": [
        "\n",
        "Se importan librerías más avanzadas de scikit-learn para demostrar algoritmos de aprendizaje automático:\n",
        "KMeans para clustering.\n",
        "StandardScaler para escalar los datos numéricos.\n",
        "train_test_split para dividir los datos en conjuntos de entrenamiento y prueba.\n",
        "LogisticRegression para un modelo de clasificación simple.\n",
        "accuracy_score y classification_report para evaluar el modelo.\n",
        "Preprocesamiento Básico:\n",
        "\n",
        "Se comenta que la columna 'Monto' ya es numérica, por lo que no se requiere una conversión explícita.\n",
        "Ejemplo de Agrupamiento (K-Means):\n",
        "\n",
        "StandardScaler(): Se utiliza para escalar la columna 'Monto' para que tenga una media de 0 y una desviación estándar de 1. Esto es importante para muchos algoritmos de clustering y aprendizaje automático.\n",
        "KMeans(n_clusters=n_clusters, ...): Se inicializa el algoritmo K-Means para agrupar los datos en n_clusters (en este caso, 2). n_init especifica el número de veces que se ejecutará el algoritmo con diferentes inicializaciones del centroide. random_state asegura la reproducibilidad.\n",
        "kmeans.fit_predict(monto_scaled): Se ajusta el modelo K-Means a los datos escalados y se obtienen las etiquetas de los grupos para cada dato.\n",
        "Se imprime el DataFrame con la nueva columna 'Grupo_Monto'.\n",
        "Ejemplo Básico de Clasificación (Regresión Logística):\n",
        "\n",
        "df['Es_Sospechoso'] = ...: Se crea una nueva columna binaria 'Es_Sospechoso' donde 1 indica 'Sospechoso' y 0 indica otro estado.\n",
        "Selección de Características: Se selecciona la columna 'Monto' como la única característica para la clasificación (en un caso real, se usarían muchas más).\n",
        "train_test_split(): Se divide el dataset en un conjunto de entrenamiento (70%) y un conjunto de prueba (30%). Esto permite evaluar el rendimiento del modelo en datos que no ha visto durante el entrenamiento.\n",
        "LogisticRegression(): Se inicializa un modelo de regresión logística, un algoritmo de clasificación lineal.\n",
        "model.fit(X_train, y_train): Se entrena el modelo con los datos de entrenamiento.\n",
        "model.predict(X_test): Se realizan predicciones en el conjunto de prueba.\n",
        "Evaluación del Modelo:\n",
        "accuracy_score() calcula la precisión del modelo (la proporción de predicciones correctas).\n",
        "classification_report() proporciona métricas más detalladas como precisión, recall, F1-score y soporte para cada clase.\n",
        "Ejemplo Conceptual de Sesgo:\n",
        "\n",
        "Se incluye un comentario para ilustrar cómo un modelo podría verse influenciado por la distribución de los datos, lo que podría llevar a sesgos. Con tan pocos datos, es difícil demostrarlo de manera concluyente, pero se resalta el concepto.\n",
        "Consideraciones Éticas (Implícitas):\n",
        "\n",
        "Se agrega un comentario para recordar la importancia de considerar los sesgos y la interpretación cuidadosa de los resultados.\n",
        "Cómo se relaciona con el Capítulo 2 (Revisión Ampliada):\n",
        "\n",
        "2.1 ¿Qué son los Algoritmos? Conceptos Básicos: Se implementan algoritmos específicos (K-Means y Regresión Logística) que siguen un conjunto de pasos definidos.\n",
        "2.2 Tipos de Algoritmos Relevantes:\n",
        "Agrupamiento (Clustering): Se utiliza K-Means para intentar agrupar las transacciones según su monto.\n",
        "Clasificación: Se utiliza Regresión Logística para clasificar los eventos como \"Sospechoso\" o \"No Sospechoso\" basándose en el monto.\n",
        "2.3 Introducción a la Inteligencia Artificial y el Aprendizaje Automático: Se demuestra la aplicación de dos algoritmos de aprendizaje automático (K-Means no es estrictamente supervisado, pero es una técnica de ML; Regresión Logística es aprendizaje supervisado).\n",
        "2.4 Ética y Sesgos en los Algoritmos: Se incluye un comentario que resalta la importancia de considerar los sesgos y la interpretación ética de los resultados.\n",
        "Limitaciones y Consideraciones Adicionales:\n",
        "\n",
        "Dataset Pequeño: Con solo 6 datos, los resultados de los modelos de aprendizaje automático (especialmente la clasificación) no serán muy robustos. Este es un ejemplo para ilustrar el concepto, no para construir un modelo predictivo real.\n",
        "Características Limitadas: Solo se utiliza la columna 'Monto' para la clasificación. En un escenario real, se utilizarían muchas más características.\n",
        "Preprocesamiento Simplificado: El preprocesamiento se limita a la escala numérica. En casos reales, se requeriría un preprocesamiento más exhaustivo.\n",
        "Evaluación Básica: La evaluación del modelo de clasificación es muy básica debido al tamaño del dataset.\n",
        "Conclusión del Segundo Código:\n",
        "\n",
        "Este segundo ejemplo de código va un paso más allá al demostrar la aplicación de algoritmos de aprendizaje automático reales (K-Means y Regresión Logística) en el contexto de la detección de posibles problemas. Aunque simplificado, ilustra cómo se pueden utilizar técnicas de clustering para identificar grupos de datos similares y cómo se puede construir un modelo de clasificación básico. También introduce los conceptos de entrenamiento, prueba y evaluación de modelos, que son fundamentales en el aprendizaje automático. La inclusión de la discusión sobre sesgos y consideraciones éticas refuerza la importancia de los puntos clave del Capítulo 2."
      ],
      "metadata": {
        "id": "e_afpq8HNwqt"
      }
    },
    {
      "cell_type": "code",
      "source": [
        "import pandas as pd\n",
        "from sklearn.feature_extraction.text import TfidfVectorizer\n",
        "from sklearn.metrics.pairwise import cosine_similarity\n",
        "from nltk.corpus import stopwords\n",
        "import nltk\n",
        "nltk.download('stopwords')\n",
        "\n",
        "# 1. Cargamos el dataset (mismo ejemplo)\n",
        "data = {\n",
        "    'Tipo': ['Transacción Bancaria', 'Denuncia de Corrupción', 'Transacción Bancaria', 'Denuncia de Corrupción', 'Transacción Bancaria', 'Transacción Bancaria'],\n",
        "    'Descripción': ['Transferencia inusual a cuenta desconocida', 'Denuncia de soborno a funcionario público', 'Retiro de gran cantidad en efectivo', 'Denuncia de malversación de fondos', 'Compra sospechosa online', 'Transferencia a paraíso fiscal'],\n",
        "    'Monto': [15000, 5000, 10000, 250000, 750, 80000],\n",
        "    'Fecha': ['2023-10-26', '2024-01-15', '2023-11-05', '2024-03-10', '2024-02-20', '2024-03-01'],\n",
        "    'Estado': ['Sospechoso', 'Investigado', 'Sospechoso', 'Investigado', 'Sospechoso', 'Sospechoso']\n",
        "}\n",
        "df = pd.DataFrame(data)\n",
        "\n",
        "# 7. Ejemplo de Análisis de Texto (NLP) - Capítulo 2.2 y 2.3\n",
        "# Analizamos la columna 'Descripción' para encontrar similitudes.\n",
        "\n",
        "if 'Descripción' in df.columns:\n",
        "    stop_words = set(stopwords.words('spanish'))\n",
        "\n",
        "    def preprocess_text(text):\n",
        "        if isinstance(text, str):\n",
        "            text = text.lower()\n",
        "            words = text.split()\n",
        "            words = [word for word in words if word not in stop_words]\n",
        "            return \" \".join(words)\n",
        "        return \"\"\n",
        "\n",
        "    df['Descripción_Procesada'] = df['Descripción'].apply(preprocess_text)\n",
        "\n",
        "    vectorizer = TfidfVectorizer()\n",
        "    tfidf_matrix = vectorizer.fit_transform(df['Descripción_Procesada'])\n",
        "\n",
        "    # Calculamos la similitud del coseno entre las descripciones\n",
        "    similitud_coseno = cosine_similarity(tfidf_matrix)\n",
        "\n",
        "    similitud_df = pd.DataFrame(similitud_coseno, index=df['Descripción'], columns=df['Descripción'])\n",
        "\n",
        "    print(\"\\n7. Ejemplo de Análisis de Texto (Similitud de Coseno entre Descripciones):\")\n",
        "    print(similitud_df)\n",
        "\n",
        "    # Podemos identificar descripciones similares (por ejemplo, con una similitud > 0.5)\n",
        "    print(\"\\nDescripciones con Alta Similitud:\")\n",
        "    for i in range(len(similitud_df.index)):\n",
        "        for j in range(i + 1, len(similitud_df.columns)):\n",
        "            if similitud_df.iloc[i, j] > 0.5:\n",
        "                print(f\"'{similitud_df.index[i]}' es similar a '{similitud_df.columns[j]}' (Similitud: {similitud_df.iloc[i, j]:.2f})\")\n",
        "\n",
        "else:\n",
        "    print(\"\\nNo se puede realizar el análisis de texto porque la columna 'Descripción' no está presente.\")\n",
        "\n",
        "# 8. Ejemplo de Detección de Anomalías (Conceptual) - Capítulo 2.2\n",
        "# Identificamos transacciones con montos significativamente diferentes a la media.\n",
        "\n",
        "if 'Monto' in df.columns:\n",
        "    media_monto = df['Monto'].mean()\n",
        "    desviacion_estandar_monto = df['Monto'].std()\n",
        "    umbral_anomalia = 2  # Por ejemplo, 2 desviaciones estándar\n",
        "\n",
        "    df['Es_Anomalia_Monto'] = abs(df['Monto'] - media_monto) > umbral_anomalia * desviacion_estandar_monto\n",
        "\n",
        "    print(\"\\n8. Ejemplo Conceptual de Detección de Anomalías (Basado en Monto):\")\n",
        "    print(df[['Descripción', 'Monto', 'Es_Anomalia_Monto']])\n",
        "else:\n",
        "    print(\"\\nNo se puede realizar la detección de anomalías porque la columna 'Monto' no está presente.\")\n",
        "\n",
        "# 9. Ejemplo de Análisis de Fechas (Conceptual para 1.3)\n",
        "# Podríamos buscar patrones en la frecuencia de eventos en ciertos periodos.\n",
        "# Esto es muy básico con pocos datos, pero ilustra la idea.\n",
        "\n",
        "if 'Fecha' in df.columns:\n",
        "    # Convert 'Fecha' column to datetime objects\n",
        "    df['Fecha'] = pd.to_datetime(df['Fecha'])\n",
        "    df['Mes'] = df['Fecha'].dt.month\n",
        "    print(\"\\n9. Ejemplo Conceptual de Análisis de Fechas (Conteo de Eventos por Mes):\")\n",
        "    print(df['Mes'].value_counts().sort_index())\n",
        "else:\n",
        "    print(\"\\nNo se puede realizar el análisis de fechas porque la columna 'Fecha' no está presente.\")"
      ],
      "metadata": {
        "colab": {
          "base_uri": "https://localhost:8080/"
        },
        "id": "jNZjCjFGN9z8",
        "outputId": "58a0631e-2683-4add-df19-96e373d12b3d"
      },
      "execution_count": null,
      "outputs": [
        {
          "output_type": "stream",
          "name": "stdout",
          "text": [
            "\n",
            "7. Ejemplo de Análisis de Texto (Similitud de Coseno entre Descripciones):\n",
            "Descripción                                 Transferencia inusual a cuenta desconocida  \\\n",
            "Descripción                                                                              \n",
            "Transferencia inusual a cuenta desconocida                                    1.000000   \n",
            "Denuncia de soborno a funcionario público                                     0.000000   \n",
            "Retiro de gran cantidad en efectivo                                           0.000000   \n",
            "Denuncia de malversación de fondos                                            0.000000   \n",
            "Compra sospechosa online                                                      0.000000   \n",
            "Transferencia a paraíso fiscal                                                0.214642   \n",
            "\n",
            "Descripción                                 Denuncia de soborno a funcionario público  \\\n",
            "Descripción                                                                             \n",
            "Transferencia inusual a cuenta desconocida                                   0.000000   \n",
            "Denuncia de soborno a funcionario público                                    1.000000   \n",
            "Retiro de gran cantidad en efectivo                                          0.000000   \n",
            "Denuncia de malversación de fondos                                           0.214642   \n",
            "Compra sospechosa online                                                     0.000000   \n",
            "Transferencia a paraíso fiscal                                               0.000000   \n",
            "\n",
            "Descripción                                 Retiro de gran cantidad en efectivo  \\\n",
            "Descripción                                                                       \n",
            "Transferencia inusual a cuenta desconocida                                  0.0   \n",
            "Denuncia de soborno a funcionario público                                   0.0   \n",
            "Retiro de gran cantidad en efectivo                                         1.0   \n",
            "Denuncia de malversación de fondos                                          0.0   \n",
            "Compra sospechosa online                                                    0.0   \n",
            "Transferencia a paraíso fiscal                                              0.0   \n",
            "\n",
            "Descripción                                 Denuncia de malversación de fondos  \\\n",
            "Descripción                                                                      \n",
            "Transferencia inusual a cuenta desconocida                            0.000000   \n",
            "Denuncia de soborno a funcionario público                             0.214642   \n",
            "Retiro de gran cantidad en efectivo                                   0.000000   \n",
            "Denuncia de malversación de fondos                                    1.000000   \n",
            "Compra sospechosa online                                              0.000000   \n",
            "Transferencia a paraíso fiscal                                        0.000000   \n",
            "\n",
            "Descripción                                 Compra sospechosa online  \\\n",
            "Descripción                                                            \n",
            "Transferencia inusual a cuenta desconocida                       0.0   \n",
            "Denuncia de soborno a funcionario público                        0.0   \n",
            "Retiro de gran cantidad en efectivo                              0.0   \n",
            "Denuncia de malversación de fondos                               0.0   \n",
            "Compra sospechosa online                                         1.0   \n",
            "Transferencia a paraíso fiscal                                   0.0   \n",
            "\n",
            "Descripción                                 Transferencia a paraíso fiscal  \n",
            "Descripción                                                                 \n",
            "Transferencia inusual a cuenta desconocida                        0.214642  \n",
            "Denuncia de soborno a funcionario público                         0.000000  \n",
            "Retiro de gran cantidad en efectivo                               0.000000  \n",
            "Denuncia de malversación de fondos                                0.000000  \n",
            "Compra sospechosa online                                          0.000000  \n",
            "Transferencia a paraíso fiscal                                    1.000000  \n",
            "\n",
            "Descripciones con Alta Similitud:\n",
            "\n",
            "8. Ejemplo Conceptual de Detección de Anomalías (Basado en Monto):\n",
            "                                  Descripción   Monto  Es_Anomalia_Monto\n",
            "0  Transferencia inusual a cuenta desconocida   15000              False\n",
            "1   Denuncia de soborno a funcionario público    5000              False\n",
            "2         Retiro de gran cantidad en efectivo   10000              False\n",
            "3          Denuncia de malversación de fondos  250000              False\n",
            "4                    Compra sospechosa online     750              False\n",
            "5              Transferencia a paraíso fiscal   80000              False\n",
            "\n",
            "9. Ejemplo Conceptual de Análisis de Fechas (Conteo de Eventos por Mes):\n",
            "Mes\n",
            "1     1\n",
            "2     1\n",
            "3     2\n",
            "10    1\n",
            "11    1\n",
            "Name: count, dtype: int64\n"
          ]
        },
        {
          "output_type": "stream",
          "name": "stderr",
          "text": [
            "[nltk_data] Downloading package stopwords to /root/nltk_data...\n",
            "[nltk_data]   Package stopwords is already up-to-date!\n"
          ]
        }
      ]
    },
    {
      "cell_type": "markdown",
      "source": [
        "Importación de Librerías:\n",
        "**texto en negrita**\n",
        "Se importan librerías adicionales para análisis de texto y detección de anomalías:\n",
        "TfidfVectorizer de sklearn.feature_extraction.text para convertir texto en vectores numéricos.\n",
        "cosine_similarity de sklearn.metrics.pairwise para calcular la similitud entre vectores.\n",
        "nltk.corpus.stopwords para eliminar palabras comunes del idioma español.\n",
        "nltk para descargar los datos de stopwords (si no se han descargado antes).\n",
        "Ejemplo de Análisis de Texto (NLP):\n",
        "\n",
        "preprocess_text(text): Una función para preprocesar el texto:\n",
        "Convierte el texto a minúsculas.\n",
        "Divide el texto en palabras.\n",
        "Elimina las stopwords (palabras comunes como \"el\", \"la\", \"de\", etc.).\n",
        "Une las palabras restantes en una cadena.\n",
        "df['Descripción_Procesada'] = ...: Aplica la función de preprocesamiento a la columna 'Descripción'.\n",
        "TfidfVectorizer(): Inicializa un vectorizador TF-IDF (Term Frequency-Inverse Document Frequency). Este método convierte el texto en una matriz numérica donde cada fila representa una descripción y cada columna representa una palabra, con un peso que refleja la importancia de la palabra en el texto.\n",
        "vectorizer.fit_transform(...): Ajusta el vectorizador a los textos procesados y transforma los textos en una matriz TF-IDF.\n",
        "cosine_similarity(...): Calcula la similitud del coseno entre los vectores TF-IDF de cada par de descripciones. La similitud del coseno mide la similitud entre dos vectores proyectados en un espacio multidimensional. Un valor de 1 indica una similitud perfecta y 0 indica ninguna similitud.\n",
        "Se crea un DataFrame similitud_df para mostrar la matriz de similitud.\n",
        "Se itera sobre la matriz de similitud para identificar pares de descripciones con una alta similitud (mayor a 0.5).\n",
        "Ejemplo de Detección de Anomalías (Conceptual):\n",
        "\n",
        "Se calcula la media y la desviación estándar de la columna 'Monto'.\n",
        "Se define un umbral_anomalia (en este caso, 2 desviaciones estándar).\n",
        "Se crea una nueva columna booleana 'Es_Anomalia_Monto' que es True si el monto de una transacción se desvía significativamente de la media (más de 2 desviaciones estándar).\n",
        "Ejemplo de Análisis de Fechas (Conceptual):\n",
        "\n",
        "Se extrae el mes de la columna 'Fecha'.\n",
        "Se utiliza value_counts() para contar la frecuencia de los eventos por mes.\n",
        "Cómo se relaciona con el Capítulo 2 (Revisión Ampliada):\n",
        "\n",
        "2.2 Tipos de Algoritmos Relevantes:\n",
        "Análisis de Texto (NLP): Se utiliza TF-IDF y la similitud del coseno, técnicas comunes en NLP para analizar texto. Esto es relevante para analizar descripciones de eventos, como en las denuncias.\n",
        "Detección de Anomalías: Se implementa un método básico para identificar valores atípicos en la columna 'Monto'.\n",
        "2.3 Introducción a la Inteligencia Artificial y el Aprendizaje Automático: Se utiliza el vectorizador TF-IDF, que es una técnica de preprocesamiento común en el aprendizaje automático para datos textuales.\n",
        "2.4 Ética y Sesgos en los Algoritmos: Aunque no se implementa explícitamente, el análisis de texto y la detección de anomalías pueden verse afectados por sesgos en los datos (por ejemplo, si ciertos tipos de descripciones o montos son más comunes en ciertas poblaciones).\n",
        "Conclusión del Tercer Código:\n",
        "\n",
        "Este tercer ejemplo de código amplía el análisis al introducir técnicas de procesamiento del lenguaje natural (NLP) para analizar las descripciones de los eventos y un método básico para la detección de anomalías basadas en el monto. También incluye un análisis temporal muy simple. Esto demuestra cómo diferentes tipos de algoritmos y técnicas pueden aplicarse para obtener diferentes perspectivas de los datos y, en última instancia, para ayudar a comprender mejor la problemática del fraude y la corrupción. La necesidad de algoritmos más avanzados y la consideración de los sesgos inherentes en los datos siguen siendo relevantes."
      ],
      "metadata": {
        "id": "evYB7gmVOaBA"
      }
    },
    {
      "cell_type": "markdown",
      "source": [
        "Parte 2: Algoritmos para la Detección de Fraude\n",
        "**Capítulo 3: Algoritmos para la Detección de Fraude Financiero **\n",
        "3.1 Detección de Transacciones Fraudulentas en Sistemas Bancarios\n",
        "3.2 Detección de Fraude con Tarjetas de Crédito y Débito\n",
        "3.3 Análisis de Patrones Sospechosos en Seguros\n",
        "3.4 Algoritmos para la Detección de Blanqueo de Capitales\n"
      ],
      "metadata": {
        "id": "xxEohcozO2FV"
      }
    },
    {
      "cell_type": "code",
      "source": [
        "import pandas as pd\n",
        "from sklearn.model_selection import train_test_split\n",
        "from sklearn.linear_model import LogisticRegression\n",
        "from sklearn.ensemble import IsolationForest\n",
        "from sklearn.preprocessing import StandardScaler\n",
        "from sklearn.metrics import classification_report, accuracy_score\n",
        "import numpy as np\n",
        "\n",
        "# ... (rest of the code is the same)\n",
        "\n",
        "# 3.1 Detección de Transacciones Fraudulentas en Sistemas Bancarios\n",
        "print(\"\\n3.1 Detección de Transacciones Fraudulentas (Ejemplo con Regresión Logística):\")\n",
        "if 'Monto' in df_fraude.columns and 'Tiempo' in df_fraude.columns and 'Es_Fraudulenta' in df_fraude.columns:\n",
        "    X = df_fraude[['Monto', 'Tiempo']]\n",
        "    y = df_fraude['Es_Fraudulenta']\n",
        "    X_train, X_test, y_train, y_test = train_test_split(X, y, test_size=0.3, random_state=42)\n",
        "\n",
        "    model_bancario = LogisticRegression(random_state=42)\n",
        "    model_bancario.fit(X_train, y_train)\n",
        "    y_pred_bancario = model_bancario.predict(X_test)\n",
        "\n",
        "    print(\"Predicciones:\", y_pred_bancario)\n",
        "    print(\"Valores Reales:\", y_test.values)\n",
        "    print(\"Precisión del Modelo:\", accuracy_score(y_test, y_pred_bancario))\n",
        "    print(\"\\nReporte de Clasificación:\")\n",
        "\n",
        "    # Get unique labels in y_test and y_pred_bancario\n",
        "    labels = np.unique(np.concatenate((y_test, y_pred_bancario)))\n",
        "\n",
        "    # Define target_names based on unique labels\n",
        "    target_names = ['No Fraudulenta' if label == 0 else 'Fraudulenta' for label in labels]\n",
        "\n",
        "    print(classification_report(y_test, y_pred_bancario, labels=labels, target_names=target_names)) # Changed line\n",
        "\n",
        "else:\n",
        "    print(\"\\nNo se pueden realizar análisis para 3.1 porque faltan columnas necesarias.\")\n",
        "\n",
        "# 3.2 Detección de Fraude con Tarjetas de Crédito y Débito\n",
        "print(\"\\n3.2 Detección de Fraude con Tarjetas de Crédito y Débito (Ejemplo con Detección de Anómalos - Isolation Forest):\")\n",
        "if 'Monto' in df_fraude.columns and 'Tiempo' in df_fraude.columns:\n",
        "    # Usamos Isolation Forest para detectar transacciones atípicas\n",
        "    X_anomalias = df_fraude[['Monto', 'Tiempo']]\n",
        "    scaler = StandardScaler()\n",
        "    X_scaled_anomalias = scaler.fit_transform(X_anomalias)\n",
        "\n",
        "    iforest = IsolationForest(random_state=42)\n",
        "    iforest.fit(X_scaled_anomalias)\n",
        "    anomalias_pred = iforest.predict(X_scaled_anomalias) # -1: Anómalo, 1: Normal\n",
        "\n",
        "    df_fraude['Es_Anomalo'] = anomalias_pred\n",
        "    print(df_fraude[['Tipo_Transaccion', 'Monto', 'Tiempo', 'Es_Anomalo']])\n",
        "else:\n",
        "    print(\"\\nNo se pueden realizar análisis para 3.2 porque faltan columnas necesarias.\")\n",
        "\n",
        "# 3.3 Análisis de Patrones Sospechosos en Seguros (Ejemplo Conceptual)\n",
        "print(\"\\n3.3 Análisis de Patrones Sospechosos en Seguros (Ejemplo Conceptual):\")\n",
        "# Supongamos que tuviéramos datos de reclamos de seguros con información como:\n",
        "# Tipo de Reclamo, Monto Reclamado, Fecha del Reclamo, Historial del Cliente, etc.\n",
        "\n",
        "# Un análisis conceptual podría ser:\n",
        "# - Identificar reclamos con montos inusualmente altos.\n",
        "# - Buscar reclamos repetidos del mismo cliente en un corto período.\n",
        "# - Analizar la frecuencia de reclamos por tipo de siniestro.\n",
        "\n",
        "# Ejemplo muy simplificado: Buscamos reclamos con montos mayores a un umbral.\n",
        "if 'Monto' in df_fraude.columns:\n",
        "    umbral_seguros = 20000\n",
        "    reclamos_sospechosos = df_fraude[df_fraude['Monto'] > umbral_seguros]\n",
        "    if not reclamos_sospechosos.empty:\n",
        "        print(\"\\nReclamos Potencialmente Sospechosos (Monto Alto):\")\n",
        "        print(reclamos_sospechosos[['Tipo_Transaccion', 'Monto']])\n",
        "    else:\n",
        "        print(\"\\nNo se encontraron reclamos con montos significativamente altos en este ejemplo.\")\n",
        "else:\n",
        "    print(\"\\nNo se puede realizar análisis conceptual para 3.3 porque falta la columna 'Monto'.\")\n",
        "\n",
        "# 3.4 Algoritmos para la Detección de Blanqueo de Capitales (Ejemplo Conceptual)\n",
        "print(\"\\n3.4 Algoritmos para la Detección de Blanqueo de Capitales (Ejemplo Conceptual):\")\n",
        "# En este caso, se buscarían patrones de transacciones que podrían indicar lavado de dinero,\n",
        "# como múltiples transacciones pequeñas a diferentes cuentas, transferencias a paraísos fiscales, etc.\n",
        "\n",
        "# Ejemplo muy simplificado: Identificamos transferencias a 'paraíso fiscal' (basado en la descripción).\n",
        "if 'Descripción' in df_fraude.columns:\n",
        "    transferencias_paraiso = df_fraude[df_fraude['Descripción'].str.contains('paraíso fiscal', case=False)]\n",
        "    if not transferencias_paraiso.empty:\n",
        "        print(\"\\nTransferencias Potencialmente Sospechosas (a 'paraíso fiscal'):\")\n",
        "        print(transferencias_paraiso[['Tipo_Transaccion', 'Descripción', 'Monto']])\n",
        "    else:\n",
        "        print(\"\\nNo se encontraron transferencias a 'paraíso fiscal' en este ejemplo.\")\n",
        "else:\n",
        "    print(\"\\nNo se puede realizar análisis conceptual para 3.4 porque falta la columna 'Descripción'.\")"
      ],
      "metadata": {
        "colab": {
          "base_uri": "https://localhost:8080/"
        },
        "id": "l375aLQBO86T",
        "outputId": "cf1431c2-9492-4768-93a3-337b37d7db29"
      },
      "execution_count": null,
      "outputs": [
        {
          "output_type": "stream",
          "name": "stdout",
          "text": [
            "\n",
            "3.1 Detección de Transacciones Fraudulentas (Ejemplo con Regresión Logística):\n",
            "Predicciones: [0 0 0]\n",
            "Valores Reales: [0 0 0]\n",
            "Precisión del Modelo: 1.0\n",
            "\n",
            "Reporte de Clasificación:\n",
            "                precision    recall  f1-score   support\n",
            "\n",
            "No Fraudulenta       1.00      1.00      1.00         3\n",
            "\n",
            "      accuracy                           1.00         3\n",
            "     macro avg       1.00      1.00      1.00         3\n",
            "  weighted avg       1.00      1.00      1.00         3\n",
            "\n",
            "\n",
            "3.2 Detección de Fraude con Tarjetas de Crédito y Débito (Ejemplo con Detección de Anómalos - Isolation Forest):\n",
            "  Tipo_Transaccion  Monto  Tiempo  Es_Anomalo\n",
            "0    Transferencia    100      10           1\n",
            "1             Pago     50      15           1\n",
            "2           Retiro   1000      20           1\n",
            "3    Transferencia  20000      25          -1\n",
            "4             Pago     75      30           1\n",
            "5           Retiro    500      35           1\n",
            "6    Transferencia  12000      40          -1\n",
            "7             Pago    150      45           1\n",
            "8           Retiro    800      50           1\n",
            "9    Transferencia  30000      55          -1\n",
            "\n",
            "3.3 Análisis de Patrones Sospechosos en Seguros (Ejemplo Conceptual):\n",
            "\n",
            "Reclamos Potencialmente Sospechosos (Monto Alto):\n",
            "  Tipo_Transaccion  Monto\n",
            "9    Transferencia  30000\n",
            "\n",
            "3.4 Algoritmos para la Detección de Blanqueo de Capitales (Ejemplo Conceptual):\n",
            "\n",
            "No se puede realizar análisis conceptual para 3.4 porque falta la columna 'Descripción'.\n"
          ]
        }
      ]
    },
    {
      "cell_type": "markdown",
      "source": [
        "Importación de Librerías:\n",
        "**texto en negrita**\n",
        "Se importan librerías de scikit-learn (train_test_split, LogisticRegression, IsolationForest, StandardScaler, accuracy_score, classification_report) para implementar modelos de aprendizaje automático.\n",
        "pandas para la manipulación de datos.\n",
        "numpy (aunque no se usa explícitamente en este ejemplo, es común en el trabajo con scikit-learn).\n",
        "Carga del Dataset Simulado:\n",
        "\n",
        "Se crea un diccionario data_fraude que simula un pequeño dataset de transacciones financieras con una columna que indica si la transacción es fraudulenta (Es_Fraudulenta). Este es un ejemplo simplificado; en un escenario real, los datos serían mucho más extensos y complejos.\n",
        "3.1 Detección de Transacciones Fraudulentas en Sistemas Bancarios:\n",
        "\n",
        "Selección de Características: Se eligen las columnas 'Monto' y 'Tiempo' como características predictivas para un modelo de detección de fraude.\n",
        "División de Datos: Se divide el dataset en conjuntos de entrenamiento y prueba utilizando train_test_split.\n",
        "Entrenamiento del Modelo: Se instancia un modelo de regresión logística (LogisticRegression), que es un algoritmo de clasificación lineal adecuado para problemas binarios (fraudulento/no fraudulento). Se entrena el modelo con los datos de entrenamiento.\n",
        "Predicción: El modelo entrenado se utiliza para predecir si las transacciones en el conjunto de prueba son fraudulentas.\n",
        "Evaluación: Se evalúa el rendimiento del modelo utilizando la precisión (accuracy_score) y un reporte de clasificación (classification_report) que proporciona métricas como precisión, recall y F1-score para cada clase.\n",
        "3.2 Detección de Fraude con Tarjetas de Crédito y Débito:\n",
        "\n",
        "Detección de Anómalos (Isolation Forest): Se utiliza el algoritmo IsolationForest, que es un método de aprendizaje no supervisado para la detección de valores atípicos (anomalías). Funciona aislando las observaciones que son diferentes del resto.\n",
        "Escalado de Datos: Se aplica StandardScaler para estandarizar las características ('Monto' y 'Tiempo'), lo cual es importante para muchos algoritmos de detección de anomalías.\n",
        "Ajuste y Predicción: Se ajusta el IsolationForest a los datos escalados y se predice si cada transacción es una anomalía (-1) o normal (1).\n",
        "3.3 Análisis de Patrones Sospechosos en Seguros (Ejemplo Conceptual):\n",
        "\n",
        "Se presenta un ejemplo conceptual de cómo se podría analizar información de seguros.\n",
        "Se define un umbral de monto alto para identificar reclamos potencialmente sospechosos.\n",
        "Se filtra el DataFrame para mostrar los reclamos que superan ese umbral.\n",
        "3.4 Algoritmos para la Detección de Blanqueo de Capitales (Ejemplo Conceptual):\n",
        "\n",
        "Se proporciona un ejemplo conceptual de cómo se podrían identificar transacciones sospechosas de lavado de dinero.\n",
        "Se busca la palabra clave \"paraíso fiscal\" en la columna 'Descripción' para identificar posibles transferencias sospechosas.\n",
        "Cómo se relaciona con el Capítulo 3:\n",
        "\n",
        "Este código ilustra la aplicación de algoritmos mencionados en el Capítulo 3 para diferentes tipos de fraude financiero:\n",
        "\n",
        "3.1 Detección de Transacciones Fraudulentas: Se utiliza un modelo de clasificación (Regresión Logística) para predecir transacciones fraudulentas en un sistema bancario simplificado.\n",
        "3.2 Detección de Fraude con Tarjetas de Crédito y Débito: Se aplica un algoritmo de detección de anomalías (Isolation Forest) para identificar transacciones atípicas que podrían indicar fraude con tarjetas.\n",
        "3.3 Análisis de Patrones Sospechosos en Seguros: Se da un ejemplo conceptual de cómo se podrían identificar patrones sospechosos, aunque no se implementa un algoritmo complejo debido a la falta de datos específicos de seguros en el ejemplo.\n",
        "3.4 Algoritmos para la Detección de Blanqueo de Capitales: Se proporciona un ejemplo conceptual de cómo se podrían identificar transacciones sospechosas basadas en ciertas características (como la descripción de la transacción).\n",
        "Limitaciones:\n",
        "\n",
        "Dataset Simplificado: El dataset utilizado es muy pequeño y simulado. Los resultados de los modelos entrenados con tan pocos datos no serían confiables en un escenario real.\n",
        "Características Limitadas: Se utilizan solo algunas características (Monto, Tiempo, Descripción). En aplicaciones reales, se considerarían muchas más características.\n",
        "Modelos Básicos: Se utilizan modelos relativamente simples (Regresión Logística, Isolation Forest). Para problemas reales, se podrían requerir modelos más complejos y técnicas de preprocesamiento más avanzadas.\n",
        "Ejemplos Conceptuales: Las secciones 3.3 y 3.4 son principalmente conceptuales debido a la falta de datos específicos para esos casos en el dataset de ejemplo.\n",
        "Este código proporciona una introducción práctica y simplificada a cómo se podrían aplicar algunos algoritmos de aprendizaje automático para abordar los diferentes tipos de fraude financiero descritos en el Capítulo 3. Sirve como un punto de partida para comprender los conceptos y cómo la tecnología puede ser una herramienta en esta lucha."
      ],
      "metadata": {
        "id": "o4IPe1c1PSH2"
      }
    },
    {
      "cell_type": "code",
      "source": [
        "import pandas as pd\n",
        "from sklearn.cluster import DBSCAN\n",
        "from sklearn.preprocessing import LabelEncoder\n",
        "from sklearn.feature_extraction.text import CountVectorizer\n",
        "from sklearn.metrics.pairwise import euclidean_distances\n",
        "\n",
        "# 1. Cargamos el dataset (mismo ejemplo)\n",
        "data = {\n",
        "    'Tipo': ['Transacción Bancaria', 'Denuncia de Corrupción', 'Transacción Bancaria', 'Denuncia de Corrupción', 'Transacción Bancaria', 'Transacción Bancaria'],\n",
        "    'Descripción': ['Transferencia inusual a cuenta desconocida', 'Denuncia de soborno a funcionario público', 'Retiro de gran cantidad en efectivo', 'Denuncia de malversación de fondos', 'Compra sospechosa online', 'Transferencia a paraíso fiscal'],\n",
        "    'Monto': [15000, 5000, 10000, 250000, 750, 80000],\n",
        "    'Fecha': ['2023-10-26', '2024-01-15', '2023-11-05', '2024-03-10', '2024-02-20', '2024-03-01'],\n",
        "    'Estado': ['Sospechoso', 'Investigado', 'Sospechoso', 'Investigado', 'Sospechoso', 'Sospechoso']\n",
        "}\n",
        "df = pd.DataFrame(data)\n",
        "\n",
        "# 10. Ejemplo de Agrupamiento Basado en Texto y Monto (Capítulo 2.2)\n",
        "print(\"\\n10. Ejemplo de Agrupamiento Basado en Texto y Monto (DBSCAN):\")\n",
        "if 'Descripción' in df.columns and 'Monto' in df.columns:\n",
        "    # Codificar la descripción para usarla en el agrupamiento (una simplificación)\n",
        "    le = LabelEncoder()\n",
        "    df['Descripción_Codificada'] = le.fit_transform(df['Descripción'])\n",
        "\n",
        "    # Seleccionamos las características para el agrupamiento\n",
        "    features_agrupamiento = df[['Monto', 'Descripción_Codificada']]\n",
        "    scaler = StandardScaler()\n",
        "    features_scaled = scaler.fit_transform(features_agrupamiento)\n",
        "\n",
        "    # Aplicamos DBSCAN\n",
        "    # eps: distancia máxima entre dos muestras para que una sea considerada vecina de la otra.\n",
        "    # min_samples: número mínimo de puntos requeridos para formar un clúster.\n",
        "    dbscan = DBSCAN(eps=1, min_samples=2)\n",
        "    df['Grupo_DBSCAN'] = dbscan.fit_predict(features_scaled)\n",
        "\n",
        "    print(\"Resultados del Agrupamiento DBSCAN:\")\n",
        "    print(df[['Descripción', 'Monto', 'Grupo_DBSCAN']])\n",
        "    print(\"\\nEtiquetas de Grupo:\", df['Grupo_DBSCAN'].unique())\n",
        "else:\n",
        "    print(\"\\nNo se puede realizar el agrupamiento porque faltan columnas necesarias.\")\n",
        "\n",
        "# 11. Ejemplo de Similitud entre Descripciones con CountVectorizer (Alternativa a TF-IDF)\n",
        "print(\"\\n11. Ejemplo de Similitud entre Descripciones con CountVectorizer:\")\n",
        "if 'Descripción_Procesada' in df.columns:\n",
        "    vectorizer_count = CountVectorizer(stop_words='spanish')\n",
        "    count_matrix = vectorizer_count.fit_transform(df['Descripción_Procesada'])\n",
        "\n",
        "    similitud_count = cosine_similarity(count_matrix)\n",
        "    similitud_count_df = pd.DataFrame(similitud_count, index=df['Descripción'], columns=df['Descripción'])\n",
        "\n",
        "    print(\"\\nMatriz de Similitud (CountVectorizer):\")\n",
        "    print(similitud_count_df)\n",
        "\n",
        "    print(\"\\nDescripciones con Alta Similitud (CountVectorizer):\")\n",
        "    for i in range(len(similitud_count_df.index)):\n",
        "        for j in range(i + 1, len(similitud_count_df.columns)):\n",
        "            if similitud_count_df.iloc[i, j] > 0.5:\n",
        "                print(f\"'{similitud_count_df.index[i]}' es similar a '{similitud_count_df.columns[j]}' (Similitud: {similitud_count_df.iloc[i, j]:.2f})\")\n",
        "else:\n",
        "    print(\"\\nNo se puede realizar el análisis de texto porque la columna 'Descripción_Procesada' no está presente.\")\n",
        "\n",
        "# 12. Ejemplo de Cálculo de Distancia Euclídea entre Montos (Conceptual)\n",
        "print(\"\\n12. Ejemplo de Cálculo de Distancia Euclídea entre Montos (Conceptual):\")\n",
        "if 'Monto' in df.columns:\n",
        "    montos = df['Monto'].values.reshape(-1, 1) # Necesitamos una matriz 2D para euclidean_distances\n",
        "    distancias_euclidea = euclidean_distances(montos)\n",
        "    distancias_df = pd.DataFrame(distancias_euclidea, index=df['Descripción'], columns=df['Descripción'])\n",
        "    print(\"\\nMatriz de Distancias Euclídeas entre Montos:\")\n",
        "    print(distancias_df)\n",
        "\n",
        "    # Identificar transacciones con montos muy cercanos (distancia baja)\n",
        "    print(\"\\nTransacciones con Montos Muy Similares (Distancia Euclídea Baja):\")\n",
        "    for i in range(len(distancias_df.index)):\n",
        "        for j in range(i + 1, len(distancias_df.columns)):\n",
        "            if 0 < distancias_df.iloc[i, j] < 1000: # Ejemplo de umbral\n",
        "                print(f\"'{distancias_df.index[i]}' y '{distancias_df.columns[j]}' tienen montos cercanos (Distancia: {distancias_df.iloc[i, j]:.2f})\")\n",
        "else:\n",
        "    print(\"\\nNo se puede realizar el cálculo de distancia euclídea porque la columna 'Monto' no está presente.\")"
      ],
      "metadata": {
        "colab": {
          "base_uri": "https://localhost:8080/"
        },
        "id": "Ddv-M1bDPaSk",
        "outputId": "790079fd-7506-406d-8c32-c6eff8b19db3"
      },
      "execution_count": null,
      "outputs": [
        {
          "output_type": "stream",
          "name": "stdout",
          "text": [
            "\n",
            "10. Ejemplo de Agrupamiento Basado en Texto y Monto (DBSCAN):\n",
            "Resultados del Agrupamiento DBSCAN:\n",
            "                                  Descripción   Monto  Grupo_DBSCAN\n",
            "0  Transferencia inusual a cuenta desconocida   15000             0\n",
            "1   Denuncia de soborno a funcionario público    5000             0\n",
            "2         Retiro de gran cantidad en efectivo   10000             0\n",
            "3          Denuncia de malversación de fondos  250000            -1\n",
            "4                    Compra sospechosa online     750            -1\n",
            "5              Transferencia a paraíso fiscal   80000             0\n",
            "\n",
            "Etiquetas de Grupo: [ 0 -1]\n",
            "\n",
            "11. Ejemplo de Similitud entre Descripciones con CountVectorizer:\n",
            "\n",
            "No se puede realizar el análisis de texto porque la columna 'Descripción_Procesada' no está presente.\n",
            "\n",
            "12. Ejemplo de Cálculo de Distancia Euclídea entre Montos (Conceptual):\n",
            "\n",
            "Matriz de Distancias Euclídeas entre Montos:\n",
            "Descripción                                 Transferencia inusual a cuenta desconocida  \\\n",
            "Descripción                                                                              \n",
            "Transferencia inusual a cuenta desconocida                                         0.0   \n",
            "Denuncia de soborno a funcionario público                                      10000.0   \n",
            "Retiro de gran cantidad en efectivo                                             5000.0   \n",
            "Denuncia de malversación de fondos                                            235000.0   \n",
            "Compra sospechosa online                                                       14250.0   \n",
            "Transferencia a paraíso fiscal                                                 65000.0   \n",
            "\n",
            "Descripción                                 Denuncia de soborno a funcionario público  \\\n",
            "Descripción                                                                             \n",
            "Transferencia inusual a cuenta desconocida                                    10000.0   \n",
            "Denuncia de soborno a funcionario público                                         0.0   \n",
            "Retiro de gran cantidad en efectivo                                            5000.0   \n",
            "Denuncia de malversación de fondos                                           245000.0   \n",
            "Compra sospechosa online                                                       4250.0   \n",
            "Transferencia a paraíso fiscal                                                75000.0   \n",
            "\n",
            "Descripción                                 Retiro de gran cantidad en efectivo  \\\n",
            "Descripción                                                                       \n",
            "Transferencia inusual a cuenta desconocida                               5000.0   \n",
            "Denuncia de soborno a funcionario público                                5000.0   \n",
            "Retiro de gran cantidad en efectivo                                         0.0   \n",
            "Denuncia de malversación de fondos                                     240000.0   \n",
            "Compra sospechosa online                                                 9250.0   \n",
            "Transferencia a paraíso fiscal                                          70000.0   \n",
            "\n",
            "Descripción                                 Denuncia de malversación de fondos  \\\n",
            "Descripción                                                                      \n",
            "Transferencia inusual a cuenta desconocida                            235000.0   \n",
            "Denuncia de soborno a funcionario público                             245000.0   \n",
            "Retiro de gran cantidad en efectivo                                   240000.0   \n",
            "Denuncia de malversación de fondos                                         0.0   \n",
            "Compra sospechosa online                                              249250.0   \n",
            "Transferencia a paraíso fiscal                                        170000.0   \n",
            "\n",
            "Descripción                                 Compra sospechosa online  \\\n",
            "Descripción                                                            \n",
            "Transferencia inusual a cuenta desconocida                   14250.0   \n",
            "Denuncia de soborno a funcionario público                     4250.0   \n",
            "Retiro de gran cantidad en efectivo                           9250.0   \n",
            "Denuncia de malversación de fondos                          249250.0   \n",
            "Compra sospechosa online                                         0.0   \n",
            "Transferencia a paraíso fiscal                               79250.0   \n",
            "\n",
            "Descripción                                 Transferencia a paraíso fiscal  \n",
            "Descripción                                                                 \n",
            "Transferencia inusual a cuenta desconocida                         65000.0  \n",
            "Denuncia de soborno a funcionario público                          75000.0  \n",
            "Retiro de gran cantidad en efectivo                                70000.0  \n",
            "Denuncia de malversación de fondos                                170000.0  \n",
            "Compra sospechosa online                                           79250.0  \n",
            "Transferencia a paraíso fiscal                                         0.0  \n",
            "\n",
            "Transacciones con Montos Muy Similares (Distancia Euclídea Baja):\n"
          ]
        }
      ]
    },
    {
      "cell_type": "markdown",
      "source": [
        "Importación de Librerías:\n",
        "\n",
        "Se importa DBSCAN de sklearn.cluster para un algoritmo de agrupamiento basado en densidad.\n",
        "LabelEncoder de sklearn.preprocessing para codificar etiquetas categóricas en valores numéricos.\n",
        "CountVectorizer de sklearn.feature_extraction.text como una alternativa a TfidfVectorizer para convertir texto en vectores.\n",
        "euclidean_distances de sklearn.metrics.pairwise para calcular la distancia euclídea entre puntos.\n",
        "10. Ejemplo de Agrupamiento Basado en Texto y Monto (DBSCAN):\n",
        "\n",
        "LabelEncoder(): Se utiliza para convertir las descripciones de texto en valores numéricos. Esto es una simplificación, ya que el texto en sí mismo no se está analizando semánticamente en este paso, solo se le asigna un número. En un análisis real, se usarían técnicas NLP más avanzadas para representar el texto.\n",
        "Selección de Características: Se eligen las columnas 'Monto' y la versión numérica de 'Descripción' para el agrupamiento.\n",
        "StandardScaler(): Se aplica la estandarización a las características numéricas para que tengan una escala similar, lo cual es importante para DBSCAN.\n",
        "DBSCAN(eps=1, min_samples=2): Se inicializa el algoritmo DBSCAN.\n",
        "eps: Define el radio de vecindad para cada punto. Los puntos dentro de este radio se consideran vecinos.\n",
        "min_samples: Define el número mínimo de puntos que deben estar dentro del radio eps para que un punto sea considerado un núcleo.\n",
        "dbscan.fit_predict(...): Se ajusta el modelo DBSCAN a los datos y se asigna una etiqueta de grupo a cada punto. Los puntos que no pertenecen a ningún grupo se etiquetan como -1 (ruido).\n",
        "11. Ejemplo de Similitud entre Descripciones con CountVectorizer:\n",
        "\n",
        "Se utiliza CountVectorizer para convertir las descripciones procesadas en una matriz de conteo de términos. A diferencia de TF-IDF, CountVectorizer simplemente cuenta la frecuencia de cada palabra.\n",
        "Se calcula la similitud del coseno entre los vectores de conteo utilizando cosine_similarity.\n",
        "Se muestra la matriz de similitud y se identifican pares de descripciones con alta similitud.\n",
        "12. Ejemplo de Cálculo de Distancia Euclídea entre Montos:\n",
        "\n",
        "Se utiliza euclidean_distances para calcular la distancia euclídea entre los valores de la columna 'Monto'. La distancia euclídea es una medida de la distancia \"recta\" entre dos puntos en un espacio multidimensional (en este caso, unidimensional, ya que solo tenemos el monto).\n",
        "Se crea una matriz de distancias y se identifican pares de transacciones con montos muy cercanos (distancia euclídea baja).\n",
        "Cómo se relaciona con el Capítulo 3 (Revisión Adicional):\n",
        "\n",
        "3.1 Detección de Transacciones Fraudulentas: El agrupamiento con DBSCAN podría, en un dataset más grande y con más características, ayudar a identificar grupos de transacciones sospechosas que comparten ciertas similitudes en monto y descripción (aunque la codificación de la descripción es simplificada aquí).\n",
        "3.2 Detección de Fraude con Tarjetas de Crédito y Débito: El análisis de similitud textual podría ser útil para identificar patrones en descripciones de transacciones que podrían indicar un uso fraudulento. La detección de anomalías por distancia euclídea en los montos podría ayudar a identificar transacciones con montos inusuales o muy similares a transacciones fraudulentas conocidas.\n",
        "3.4 Algoritmos para la Detección de Blanqueo de Capitales: El agrupamiento por monto y la similitud textual de las descripciones (aunque simplificada) podrían ayudar a identificar patrones de transacciones que, combinadas, podrían ser indicativas de lavado de dinero.\n",
        "Conclusión del Tercer Código (Adicional):\n",
        "\n",
        "Este código amplía aún más las demostraciones de aplicación de algoritmos al introducir:\n",
        "\n",
        "Agrupamiento basado en densidad (DBSCAN): Una técnica de clustering que puede identificar grupos de datos con formas arbitrarias y es útil para detectar \"ruido\" (datos que no pertenecen a ningún grupo).\n",
        "Análisis de texto con CountVectorizer: Una alternativa al TF-IDF para analizar la similitud entre textos basada en la frecuencia de las palabras.\n",
        "Cálculo de la distancia euclídea: Una forma de medir la similitud numérica entre los montos de las transacciones.\n",
        "Estos ejemplos ilustran cómo diferentes algoritmos pueden ser utilizados para analizar los datos desde diversas perspectivas, buscando patrones y anomalías que podrían indicar fraude o corrupción. La combinación de diferentes técnicas y el análisis de múltiples características son clave para una detección efectiva en escenarios reales."
      ],
      "metadata": {
        "id": "rRomDeeSPgZ1"
      }
    },
    {
      "cell_type": "code",
      "source": [
        "import pandas as pd\n",
        "from sklearn.model_selection import train_test_split\n",
        "from sklearn.preprocessing import StandardScaler\n",
        "from sklearn.linear_model import LogisticRegression\n",
        "from sklearn.ensemble import RandomForestClassifier\n",
        "from sklearn.metrics import classification_report, confusion_matrix, accuracy_score\n",
        "import numpy as np\n",
        "\n",
        "# 1. Cargar un dataset simulado de transacciones de tarjetas de crédito\n",
        "# En un escenario real, se cargaría un archivo CSV o se accedería a una base de datos.\n",
        "# Este dataset simulado tiene menos características para simplificar el ejemplo.\n",
        "data_tarjetas = {\n",
        "    'ID_Transaccion': range(1, 21),\n",
        "    'Monto': [120.50, 25.00, 1500.75, 50.99, 10.00, 75.20, 3000.00, 18.95, 99.99, 5000.00,\n",
        "              110.00, 30.00, 1600.00, 60.50, 15.50, 80.10, 3500.00, 22.00, 110.00, 6000.00],\n",
        "    'Tiempo_Transaccion': [10, 15, 20, 25, 30, 35, 40, 45, 50, 55,\n",
        "                           60, 65, 70, 75, 80, 85, 90, 95, 100, 105], # Tiempo desde el inicio (ej: segundos)\n",
        "    'Tipo_Comercio': ['Tienda A', 'Online', 'Joyería', 'Restaurante', 'Online', 'Tienda B', 'Electrónicos', 'Supermercado', 'Tienda A', 'Cajero'] * 2, # Repeat the list twice\n",
        "    'Pais': ['Argentina', 'Argentina', 'Estados Unidos', 'Argentina', 'Argentina', 'Argentina', 'Estados Unidos', 'Argentina', 'Argentina', 'Estados Unidos'] * 2, # Repeat the list twice\n",
        "    'Es_Fraude': [0, 0, 1, 0, 0, 0, 1, 0, 0, 1,\n",
        "                  0, 0, 1, 0, 0, 0, 1, 0, 0, 1] # 0: No Fraudulenta, 1: Fraudulenta\n",
        "}\n",
        "\n",
        "df_tarjetas = pd.DataFrame(data_tarjetas)\n",
        "\n",
        "# 2. Preprocesamiento de Datos\n",
        "# Convertir variables categóricas a numéricas (one-hot encoding)\n",
        "df_encoded = pd.get_dummies(df_tarjetas, columns=['Tipo_Comercio', 'Pais'], drop_first=True)\n",
        "df_encoded = df_encoded.drop(columns=['ID_Transaccion']) # No es útil para el modelo\n",
        "\n",
        "# 3. Separación de Datos en Entrenamiento y Prueba\n",
        "X = df_encoded.drop('Es_Fraude', axis=1)\n",
        "y = df_encoded['Es_Fraude']\n",
        "X_train, X_test, y_train, y_test = train_test_split(X, y, test_size=0.3, random_state=42)\n",
        "\n",
        "# 4. Escalado de Características (Opcional pero recomendado para algunos modelos)\n",
        "scaler = StandardScaler()\n",
        "X_train_scaled = scaler.fit_transform(X_train)\n",
        "X_test_scaled = scaler.transform(X_test)\n",
        "\n",
        "# 5. Modelos de Detección de Fraude\n",
        "# 5.1 Regresión Logística\n",
        "print(\"\\n5.1 Modelo de Regresión Logística para Detección de Fraude:\")\n",
        "model_lr = LogisticRegression(random_state=42)\n",
        "model_lr.fit(X_train_scaled, y_train)\n",
        "y_pred_lr = model_lr.predict(X_test_scaled)\n",
        "\n",
        "print(\"Predicciones (Regresión Logística):\", y_pred_lr)\n",
        "print(\"Valores Reales:\", y_test.values)\n",
        "print(\"Precisión del Modelo (Regresión Logística):\", accuracy_score(y_test, y_pred_lr))\n",
        "print(\"\\nReporte de Clasificación (Regresión Logística):\\n\")\n",
        "\n",
        "# Get unique labels in y_test and y_pred_lr\n",
        "labels = np.unique(np.concatenate((y_test, y_pred_lr)))\n",
        "\n",
        "# Define target_names based on unique labels\n",
        "target_names = ['No Fraude' if label == 0 else 'Fraude' for label in labels]\n",
        "\n",
        "print(classification_report(y_test, y_pred_lr, labels=labels, target_names=target_names))\n",
        "\n",
        "\n",
        "\n",
        "# 5. Interpretación (Muy Limitada con Pocos Datos)\n",
        "print(\"\\nInterpretación (Limitada por el Tamaño del Dataset):\")\n",
        "print(\"En un dataset real, analizaríamos:\")\n",
        "print(\"- La precisión del modelo para identificar correctamente las transacciones fraudulentas.\")\n",
        "print(\"- El recall para la clase 'Fraude' (¿Cuántos fraudes se detectaron de todos los fraudes reales?).\")\n",
        "print(\"- La precisión para la clase 'No Fraude' (¿Cuántas transacciones no fraudulentas se identificaron correctamente?).\")\n",
        "print(\"- La matriz de confusión para entender los falsos positivos y falsos negativos.\")\n"
      ],
      "metadata": {
        "colab": {
          "base_uri": "https://localhost:8080/"
        },
        "id": "AruQq1zQQPws",
        "outputId": "5f0c89ac-29f9-4ff4-81b9-e03112dfea6e"
      },
      "execution_count": null,
      "outputs": [
        {
          "output_type": "stream",
          "name": "stdout",
          "text": [
            "\n",
            "5.1 Modelo de Regresión Logística para Detección de Fraude:\n",
            "Predicciones (Regresión Logística): [0 0 0 0 0 0]\n",
            "Valores Reales: [0 0 0 0 0 0]\n",
            "Precisión del Modelo (Regresión Logística): 1.0\n",
            "\n",
            "Reporte de Clasificación (Regresión Logística):\n",
            "\n",
            "              precision    recall  f1-score   support\n",
            "\n",
            "   No Fraude       1.00      1.00      1.00         6\n",
            "\n",
            "    accuracy                           1.00         6\n",
            "   macro avg       1.00      1.00      1.00         6\n",
            "weighted avg       1.00      1.00      1.00         6\n",
            "\n",
            "\n",
            "Interpretación (Limitada por el Tamaño del Dataset):\n",
            "En un dataset real, analizaríamos:\n",
            "- La precisión del modelo para identificar correctamente las transacciones fraudulentas.\n",
            "- El recall para la clase 'Fraude' (¿Cuántos fraudes se detectaron de todos los fraudes reales?).\n",
            "- La precisión para la clase 'No Fraude' (¿Cuántas transacciones no fraudulentas se identificaron correctamente?).\n",
            "- La matriz de confusión para entender los falsos positivos y falsos negativos.\n"
          ]
        }
      ]
    },
    {
      "cell_type": "markdown",
      "source": [
        "**Importación de Librerías:**\n",
        "\n",
        "pandas para la manipulación de datos.\n",
        "train_test_split para dividir los datos en conjuntos de entrenamiento y prueba.\n",
        "StandardScaler para escalar las características numéricas.\n",
        "LogisticRegression para un modelo de clasificación lineal.\n",
        "RandomForestClassifier para un modelo de clasificación basado en árboles de decisión.\n",
        "classification_report, confusion_matrix, accuracy_score para evaluar el rendimiento del modelo.\n",
        "numpy (aunque no se usa directamente, es una dependencia de pandas y scikit-learn).\n",
        "Carga del Dataset Simulado:\n",
        "\n",
        "Se crea un diccionario data_tarjetas que simula un dataset de transacciones de tarjetas de crédito. Contiene columnas como Monto, Tiempo_Transaccion, Tipo_Comercio, Pais y la etiqueta Es_Fraude.\n",
        "Preprocesamiento de Datos:\n",
        "\n",
        "Codificación One-Hot: Se utiliza pd.get_dummies() para convertir las variables categóricas ('Tipo_Comercio' y 'Pais') en variables numéricas. Esto es necesario porque los modelos de aprendizaje automático generalmente trabajan con datos numéricos. drop_first=True evita la multicolinealidad.\n",
        "Eliminación de Columna Irrelevante: Se elimina la columna 'ID_Transaccion' ya que no aporta información predictiva para el modelo.\n",
        "Separación de Datos:\n",
        "\n",
        "Se divide el dataset en dos partes:\n",
        "X: Las características (todas las columnas excepto 'Es_Fraude').\n",
        "y: La variable objetivo (la columna 'Es_Fraude').\n",
        "train_test_split divide los datos en un conjunto de entrenamiento (para entrenar el modelo) y un conjunto de prueba (para evaluar el rendimiento del modelo en datos no vistos). test_size=0.3 indica que el 30% de los datos se utilizarán para la prueba, y random_state=42 asegura que la división sea reproducible.\n",
        "Escalado de Características:\n",
        "\n",
        "StandardScaler() se utiliza para escalar las características numéricas (Monto y Tiempo_Transaccion) de manera que tengan una media de 0 y una desviación estándar de 1. Esto puede mejorar el rendimiento de algunos modelos de aprendizaje automático, especialmente aquellos sensibles a la escala de los datos (como la regresión logística).\n",
        "Modelos de Detección de Fraude:\n",
        "\n",
        "5.1 Regresión Logística:\n",
        "Se instancia un modelo de regresión logística.\n",
        "Se entrena el modelo utilizando los datos de entrenamiento escalados (X_train_scaled) y las etiquetas de entrenamiento (y_train).\n",
        "Se realizan predicciones en el conjunto de prueba escalado (X_test_scaled).\n",
        "Se evalúa el modelo utilizando la precisión, el reporte de clasificación (que incluye precisión, recall, F1-score) y la matriz de confusión.\n",
        "5.2 Random Forest:\n",
        "Se instancia un modelo de Random Forest, un algoritmo de ensemble que combina múltiples árboles de decisión.\n",
        "Se entrena y evalúa de manera similar a la regresión logística.\n",
        "Interpretación:\n",
        "\n",
        "Se proporciona una breve explicación de cómo se interpretarían los resultados en un dataset real, destacando métricas clave como la precisión, el recall y la matriz de confusión.\n",
        "Cómo se relaciona con el Capítulo 3:\n",
        "\n",
        "Este código implementa dos modelos de clasificación (regresión logística y random forest) que son comúnmente utilizados para la detección de fraude financiero, como se describe en el Capítulo 3. Se intenta predecir la etiqueta 'Es_Fraude' basándose en características de las transacciones, como el monto, el tiempo, el tipo de comercio y el país.\n",
        "\n",
        "Limitaciones del Código y Dataset:\n",
        "\n",
        "Dataset Simulado: El dataset es muy pequeño y simulado. Los resultados obtenidos con un dataset real y más extenso serían más representativos del rendimiento de los modelos.\n",
        "Características Limitadas: Solo se utilizan algunas características básicas. En un escenario real, se considerarían muchas más variables (por ejemplo, información del cliente, historial de transacciones, etc.).\n",
        "Preprocesamiento Básico: El preprocesamiento es limitado. En la práctica, se realizarían más pasos de limpieza y transformación de datos.\n",
        "Evaluación Simplificada: La evaluación se basa en métricas estándar, pero en la detección de fraude, es crucial considerar el costo de los falsos positivos y falsos negativos.\n",
        "Desequilibrio de Clases: En datasets reales de fraude, la clase \"Fraude\" suele ser minoritaria. Este desequilibrio puede afectar el rendimiento del modelo y requerir técnicas de manejo de datos desbalanceados.\n",
        "Este ejemplo de código proporciona una demostración práctica y simplificada de cómo se podrían construir y evaluar modelos básicos de detección de fraude con tarjetas de crédito utilizando Python y la librería scikit-learn. Es un punto de partida para entender los conceptos y las herramientas que se utilizan en este campo."
      ],
      "metadata": {
        "id": "fqnkyPnvRbw7"
      }
    },
    {
      "cell_type": "markdown",
      "source": [
        "**Capítulo 4: Algoritmos para la Detección de Fraude en el Comercio Electrónico**\n",
        "4.1 Identificación de Transacciones Fraudulentas en Línea\n",
        "4.2 Detección de Cuentas Falsas y Actividades Maliciosas\n",
        "4.3 Análisis de Comportamiento del Usuario para la Detección de Fraude\n"
      ],
      "metadata": {
        "id": "MrX9aTiCTcbj"
      }
    },
    {
      "cell_type": "markdown",
      "source": [],
      "metadata": {
        "id": "zs9WGlzRQPHr"
      }
    },
    {
      "cell_type": "code",
      "source": [
        "import pandas as pd\n",
        "from sklearn.model_selection import train_test_split\n",
        "from sklearn.linear_model import LogisticRegression\n",
        "from sklearn.preprocessing import StandardScaler, LabelEncoder\n",
        "from sklearn.metrics import classification_report, accuracy_score\n",
        "from sklearn.cluster import DBSCAN\n",
        "from sklearn.feature_extraction.text import TfidfVectorizer\n",
        "from sklearn.metrics.pairwise import cosine_similarity\n",
        "import numpy as np\n",
        "\n",
        "# 1. Cargar un dataset simulado para fraude en comercio electrónico\n",
        "data_ecommerce = {\n",
        "    'ID_Transaccion': range(1, 21),\n",
        "    'Monto': [50.00, 1000.50, 25.00, 150.75, 8000.00, 30.20, 1200.00, 75.99, 5000.00, 10.00,\n",
        "              60.00, 1100.00, 35.50, 90.00, 15000.00, 40.75, 1300.00, 65.00, 7000.00, 20.00],\n",
        "    'Fecha_Hora': ['2024-03-10 10:00', '2024-03-10 10:05', '2024-03-10 10:10', '2024-03-10 10:12', '2024-03-10 10:15',\n",
        "                   '2024-03-10 10:20', '2024-03-10 10:25', '2024-03-10 10:30', '2024-03-10 10:35', '2024-03-10 10:40',\n",
        "                   '2024-03-11 09:00', '2024-03-11 09:02', '2024-03-11 09:05', '2024-03-11 09:10', '2024-03-11 09:15',\n",
        "                   '2024-03-11 09:20', '2024-03-11 09:25', '2024-03-11 09:30', '2024-03-11 09:35', '2024-03-11 09:40'],\n",
        "    'ID_Usuario': ['user123', 'guest456', 'user789', 'user123', 'fraudster01', 'user987', 'guest456', 'user123', 'fraudster02', 'user001',\n",
        "                   'user123', 'guest456', 'user789', 'user987', 'fraudster01', 'user001', 'guest456', 'user789', 'fraudster02', 'user001'],\n",
        "    'Direccion_IP': ['192.168.1.10', '10.0.0.5', '192.168.1.10', '172.16.0.1', '1.2.3.4', '192.168.1.10', '10.0.0.5', '192.168.1.10', '5.6.7.8', '192.168.1.11',\n",
        "                     '192.168.1.10', '10.0.0.6', '192.168.1.12', '172.16.0.2', '1.2.3.5', '192.168.1.11', '10.0.0.5', '192.168.1.10', '5.6.7.9', '192.168.1.11'],\n",
        "    'Producto': ['Laptop', 'Libro', 'Camiseta', 'Zapatos', 'Televisor', 'Auriculares', 'Mochila', 'Reloj', 'Smartphone', 'Cargador',\n",
        "                 'Laptop', 'Libro', 'Camiseta', 'Zapatos', 'Televisor', 'Auriculares', 'Mochila', 'Reloj', 'Smartphone', 'Cargador'],\n",
        "    'Es_Fraudulenta': [0, 0, 0, 0, 1, 0, 0, 0, 1, 0,\n",
        "                       0, 0, 0, 0, 1, 0, 0, 0, 1, 0] # 0: No Fraudulenta, 1: Fraudulenta\n",
        "}\n",
        "df_ecommerce = pd.DataFrame(data_ecommerce)\n",
        "df_ecommerce['Fecha_Hora'] = pd.to_datetime(df_ecommerce['Fecha_Hora'])\n",
        "\n",
        "# 4.1 Identificación de Transacciones Fraudulentas en Línea\n",
        "print(\"\\n4.1 Identificación de Transacciones Fraudulentas en Línea (Ejemplo con Regresión Logística):\")\n",
        "if 'Monto' in df_ecommerce.columns and 'Fecha_Hora' in df_ecommerce.columns and 'Es_Fraudulenta' in df_ecommerce.columns:\n",
        "    # Extraemos características temporales (simplificado)\n",
        "    df_ecommerce['Hora'] = df_ecommerce['Fecha_Hora'].dt.hour\n",
        "    df_ecommerce['Dia_Semana'] = df_ecommerce['Fecha_Hora'].dt.dayofweek # 0: Lunes, 6: Domingo\n",
        "\n",
        "    # Codificamos variables categóricas\n",
        "    df_encoded_transacciones = pd.get_dummies(df_ecommerce, columns=['Producto'], prefix='Prod', dummy_na=False)\n",
        "    df_encoded_transacciones = pd.get_dummies(df_encoded_transacciones, columns=['ID_Usuario'], prefix='User', dummy_na=False, prefix_sep='_')\n",
        "    df_encoded_transacciones = pd.get_dummies(df_encoded_transacciones, columns=['Direccion_IP'], prefix='IP', dummy_na=False, prefix_sep='_')\n",
        "\n",
        "    # Seleccionamos características para el modelo\n",
        "    features_transacciones = ['Monto', 'Hora', 'Dia_Semana'] + [col for col in df_encoded_transacciones.columns if col.startswith('Prod_')] + [col for col in df_encoded_transacciones.columns if col.startswith('User_')] + [col for col in df_encoded_transacciones.columns if col.startswith('IP_')]\n",
        "    features_transacciones = [col for col in features_transacciones if col in df_encoded_transacciones.columns] # Aseguramos que estén presentes\n",
        "\n",
        "    if 'Es_Fraudulenta' in df_encoded_transacciones.columns and all(feature in df_encoded_transacciones.columns for feature in features_transacciones):\n",
        "        X_trans = df_encoded_transacciones[features_transacciones]\n",
        "        y_trans = df_encoded_transacciones['Es_Fraudulenta']\n",
        "        X_train_trans, X_test_trans, y_train_trans, y_test_trans = train_test_split(X_trans, y_trans, test_size=0.3, random_state=42)\n",
        "\n",
        "        scaler_trans = StandardScaler()\n",
        "        X_train_scaled_trans = scaler_trans.fit_transform(X_train_trans)\n",
        "        X_test_scaled_trans = scaler_trans.transform(X_test_trans)\n",
        "\n",
        "        model_ecommerce = LogisticRegression(random_state=42)\n",
        "        model_ecommerce.fit(X_train_scaled_trans, y_train_trans)\n",
        "        y_pred_ecommerce = model_ecommerce.predict(X_test_scaled_trans)\n",
        "\n",
        "        print(\"Predicciones (Regresión Logística):\", y_pred_ecommerce)\n",
        "        print(\"Valores Reales:\", y_test_trans.values)\n",
        "        print(\"Precisión del Modelo:\", accuracy_score(y_test_trans, y_pred_ecommerce))\n",
        "        print(\"\\nReporte de Clasificación:\\n\", classification_report(y_test_trans, y_pred_ecommerce, target_names=['No Fraude', 'Fraude']))\n",
        "    else:\n",
        "        print(\"\\nNo se pueden realizar análisis para 4.1 porque faltan columnas necesarias.\")\n",
        "else:\n",
        "    print(\"\\nNo se pueden realizar análisis para 4.1 porque faltan columnas necesarias.\")\n",
        "\n",
        "# 4.2 Detección de Cuentas Falsas y Actividades Maliciosas\n",
        "print(\"\\n4.2 Detección de Cuentas Falsas y Actividades Maliciosas (Ejemplo con Agrupamiento - DBSCAN en IPs):\")\n",
        "if 'Direccion_IP' in df_ecommerce.columns:\n",
        "    # Codificamos las IPs (simplificación, en realidad se analizarían patrones de uso de IPs)\n",
        "    le_ip = LabelEncoder()\n",
        "    df_ecommerce['IP_Codificada'] = le_ip.fit_transform(df_ecommerce['Direccion_IP'])\n",
        "    ip_array = df_ecommerce[['IP_Codificada']].values\n",
        "    scaler_ip = StandardScaler()\n",
        "    ip_scaled = scaler_ip.fit_transform(ip_array)\n",
        "\n",
        "    dbscan_ip = DBSCAN(eps=0.5, min_samples=2)\n",
        "    df_ecommerce['Grupo_IP'] = dbscan_ip.fit_predict(ip_scaled)\n",
        "\n",
        "    print(\"\\nAgrupamiento de IPs (DBSCAN):\")\n",
        "    print(df_ecommerce[['ID_Usuario', 'Direccion_IP', 'Grupo_IP']])\n",
        "    print(\"\\nGrupos de IP:\", df_ecommerce['Grupo_IP'].unique())\n",
        "\n",
        "    # Podríamos analizar si un grupo de IP está asociado a cuentas sospechosas (ej: muchas transacciones fraudulentas).\n",
        "    grupos_sospechosos = df_ecommerce.groupby('Grupo_IP')['Es_Fraudulenta'].sum()\n",
        "    print(\"\\nNúmero de Transacciones Fraudulentas por Grupo de IP:\")\n",
        "    print(grupos_sospechosos)\n",
        "else:\n",
        "    print(\"\\nNo se puede realizar análisis para 4.2 porque falta la columna 'Direccion_IP'.\")\n",
        "\n",
        "# 4.3 Análisis de Comportamiento del Usuario para la Detección de Fraude (Ejemplo Conceptual)\n",
        "print(\"\\n4.3 Análisis de Comportamiento del Usuario para la Detección de Fraude (Ejemplo Conceptual):\")\n",
        "# Supongamos que tuviéramos más datos del comportamiento del usuario:\n",
        "# - Frecuencia de compras por usuario.\n",
        "# - Ubicación de las transacciones (si estuviera disponible).\n",
        "# - Patrones de productos comprados.\n",
        "\n",
        "# Ejemplo muy simplificado: Identificamos usuarios con múltiples transacciones en un corto período.\n",
        "if 'ID_Usuario' in df_ecommerce.columns and 'Fecha_Hora' in df_ecommerce.columns:\n",
        "    frecuencia_usuarios = df_ecommerce.groupby('ID_Usuario')['Fecha_Hora'].count().reset_index(name='Num_Transacciones')\n",
        "    print(\"\\nFrecuencia de Transacciones por Usuario:\")\n",
        "    print(frecuencia_usuarios)\n",
        "\n",
        "    # Podríamos definir un umbral para identificar usuarios con mucha actividad.\n",
        "    umbral_frecuencia = 3\n",
        "    usuarios_alta_actividad = frecuencia_usuarios[frecuencia_usuarios['Num_Transacciones'] > umbral_frecuencia]['ID_Usuario'].tolist()\n",
        "    if usuarios_alta_actividad:\n",
        "        print(f\"\\nUsuarios con Alta Actividad ({umbral_frecuencia} o más transacciones): {usuarios_alta_actividad}\")\n",
        "        transacciones_alta_actividad = df_ecommerce[df_ecommerce['ID_Usuario'].isin(usuarios_alta_actividad)]\n",
        "        print(\"\\nTransacciones de Usuarios con Alta Actividad:\")\n",
        "        print(transacciones_alta_actividad[['ID_Usuario', 'Fecha_Hora', 'Monto', 'Es_Fraudulenta']])\n",
        "    else:\n",
        "        print(\"\\nNo se encontraron usuarios con una alta frecuencia de transacciones en este ejemplo.\")\n",
        "else:\n",
        "    print(\"\\nNo se puede realizar análisis para 4.3 porque faltan columnas necesarias.\")"
      ],
      "metadata": {
        "colab": {
          "base_uri": "https://localhost:8080/"
        },
        "id": "gNYYvXDWTh7D",
        "outputId": "9adbcafb-b385-4aab-93d5-ccd9a8708de6"
      },
      "execution_count": null,
      "outputs": [
        {
          "output_type": "stream",
          "name": "stdout",
          "text": [
            "\n",
            "4.1 Identificación de Transacciones Fraudulentas en Línea (Ejemplo con Regresión Logística):\n",
            "Predicciones (Regresión Logística): [0 0 0 0 1 0]\n",
            "Valores Reales: [0 0 0 0 1 0]\n",
            "Precisión del Modelo: 1.0\n",
            "\n",
            "Reporte de Clasificación:\n",
            "               precision    recall  f1-score   support\n",
            "\n",
            "   No Fraude       1.00      1.00      1.00         5\n",
            "      Fraude       1.00      1.00      1.00         1\n",
            "\n",
            "    accuracy                           1.00         6\n",
            "   macro avg       1.00      1.00      1.00         6\n",
            "weighted avg       1.00      1.00      1.00         6\n",
            "\n",
            "\n",
            "4.2 Detección de Cuentas Falsas y Actividades Maliciosas (Ejemplo con Agrupamiento - DBSCAN en IPs):\n",
            "\n",
            "Agrupamiento de IPs (DBSCAN):\n",
            "     ID_Usuario  Direccion_IP  Grupo_IP\n",
            "0       user123  192.168.1.10         0\n",
            "1      guest456      10.0.0.5         0\n",
            "2       user789  192.168.1.10         0\n",
            "3       user123    172.16.0.1         0\n",
            "4   fraudster01       1.2.3.4         0\n",
            "5       user987  192.168.1.10         0\n",
            "6      guest456      10.0.0.5         0\n",
            "7       user123  192.168.1.10         0\n",
            "8   fraudster02       5.6.7.8         0\n",
            "9       user001  192.168.1.11         0\n",
            "10      user123  192.168.1.10         0\n",
            "11     guest456      10.0.0.6         0\n",
            "12      user789  192.168.1.12         0\n",
            "13      user987    172.16.0.2         0\n",
            "14  fraudster01       1.2.3.5         0\n",
            "15      user001  192.168.1.11         0\n",
            "16     guest456      10.0.0.5         0\n",
            "17      user789  192.168.1.10         0\n",
            "18  fraudster02       5.6.7.9         0\n",
            "19      user001  192.168.1.11         0\n",
            "\n",
            "Grupos de IP: [0]\n",
            "\n",
            "Número de Transacciones Fraudulentas por Grupo de IP:\n",
            "Grupo_IP\n",
            "0    4\n",
            "Name: Es_Fraudulenta, dtype: int64\n",
            "\n",
            "4.3 Análisis de Comportamiento del Usuario para la Detección de Fraude (Ejemplo Conceptual):\n",
            "\n",
            "Frecuencia de Transacciones por Usuario:\n",
            "    ID_Usuario  Num_Transacciones\n",
            "0  fraudster01                  2\n",
            "1  fraudster02                  2\n",
            "2     guest456                  4\n",
            "3      user001                  3\n",
            "4      user123                  4\n",
            "5      user789                  3\n",
            "6      user987                  2\n",
            "\n",
            "Usuarios con Alta Actividad (3 o más transacciones): ['guest456', 'user123']\n",
            "\n",
            "Transacciones de Usuarios con Alta Actividad:\n",
            "   ID_Usuario          Fecha_Hora    Monto  Es_Fraudulenta\n",
            "0     user123 2024-03-10 10:00:00    50.00               0\n",
            "1    guest456 2024-03-10 10:05:00  1000.50               0\n",
            "3     user123 2024-03-10 10:12:00   150.75               0\n",
            "6    guest456 2024-03-10 10:25:00  1200.00               0\n",
            "7     user123 2024-03-10 10:30:00    75.99               0\n",
            "10    user123 2024-03-11 09:00:00    60.00               0\n",
            "11   guest456 2024-03-11 09:02:00  1100.00               0\n",
            "16   guest456 2024-03-11 09:25:00  1300.00               0\n"
          ]
        }
      ]
    },
    {
      "cell_type": "markdown",
      "source": [
        "**Carga del Dataset Simulado:**\n",
        "\n",
        "Se crea un nuevo diccionario data_ecommerce que simula transacciones de comercio electrónico con algunas características relevantes.\n",
        "4.1 Identificación de Transacciones Fraudulentas en Línea:\n",
        "\n",
        "Extracción de Características Temporales: Se extraen la hora del día y el día de la semana de la columna 'Fecha_Hora'.\n",
        "Codificación de Variables Categóricas: Se utiliza pd.get_dummies() para codificar las columnas categóricas 'Producto', 'ID_Usuario' y 'Direccion_IP' en variables numéricas. Esto es crucial para que los modelos de aprendizaje automático puedan utilizarlas.\n",
        "Selección de Características: Se define una lista de características que se utilizarán para entrenar el modelo de clasificación.\n",
        "División de Datos: Se divide el dataset codificado en conjuntos de entrenamiento y prueba.\n",
        "Escalado de Características: Se aplica StandardScaler a las características numéricas para normalizar su escala.\n",
        "Entrenamiento y Evaluación del Modelo (Regresión Logística): Se entrena un modelo de regresión logística con los datos de entrenamiento y se evalúa su rendimiento en los datos de prueba utilizando métricas como precisión y el reporte de clasificación.\n",
        "4.2 Detección de Cuentas Falsas y Actividades Maliciosas:\n",
        "\n",
        "Agrupamiento por Dirección IP (DBSCAN):\n",
        "Se utiliza LabelEncoder para convertir las direcciones IP en valores numéricos.\n",
        "Se aplica StandardScaler a las IPs codificadas.\n",
        "Se utiliza el algoritmo DBSCAN para agrupar las IPs. Las IPs que aparecen en muchas transacciones juntas podrían indicar actividad maliciosa.\n",
        "Se imprime el grupo al que pertenece cada IP y se analiza el número de transacciones fraudulentas por grupo de IP (una indicación de posibles cuentas falsas asociadas a ciertas IPs).\n",
        "4.3 Análisis de Comportamiento del Usuario:\n",
        "\n",
        "Análisis de Frecuencia de Transacciones: Se agrupan las transacciones por 'ID_Usuario' y se cuenta el número de transacciones por usuario.\n",
        "Identificación de Usuarios con Alta Actividad: Se define un umbral para identificar usuarios con un número de transacciones superior a ese umbral.\n",
        "Se muestra información sobre los usuarios con alta actividad y sus transacciones, lo que podría ser un indicador de comportamiento sospechoso.\n",
        "Cómo se relaciona con el Capítulo 4:\n",
        "\n",
        "Este código ilustra cómo se podrían aplicar algoritmos para abordar los diferentes aspectos de la detección de fraude en el comercio electrónico:\n",
        "\n",
        "4.1 Identificación de Transacciones Fraudulentas en Línea: Se utiliza un modelo de clasificación (Regresión Logística) para predecir si una transacción es fraudulenta basándose en características como el monto, la hora, el día de la semana, el producto, el usuario y la dirección IP.\n",
        "4.2 Detección de Cuentas Falsas y Actividades Maliciosas: Se utiliza el agrupamiento con DBSCAN en las direcciones IP para intentar identificar grupos de transacciones que podrían estar relacionadas con cuentas falsas o actividades maliciosas provenientes de las mismas ubicaciones.\n",
        "4.3 Análisis de Comportamiento del Usuario: Se realiza un análisis básico de la frecuencia de transacciones por usuario para identificar comportamientos inusuales, que podrían ser indicativos de fraude.\n",
        "Limitaciones y Consideraciones:\n",
        "\n",
        "Dataset Simulado: El dataset sigue siendo pequeño y simulado. Los resultados en un entorno real serían más complejos.\n",
        "Preprocesamiento Simplificado: El preprocesamiento de texto y otras características es básico.\n",
        "Modelos Simples: Se utilizan modelos relativamente simples (Regresión Logística y DBSCAN). En la práctica, se emplearían modelos más sofisticados y técnicas de ensemble.\n",
        "Análisis de IP Simplificado: El análisis de IP se basa en el agrupamiento, pero en un entorno real, se analizarían patrones de uso, geolocalización, etc.\n",
        "Análisis de Comportamiento Básico: El análisis del comportamiento del usuario es muy básico y se enfoca solo en la frecuencia de transacciones.\n",
        "Este código proporciona una introducción práctica a cómo se podrían aplicar algoritmos para la detección de fraude en el comercio electrónico, resaltando la importancia de analizar diferentes tipos de datos y utilizar diversas técnicas de aprendizaje automático."
      ],
      "metadata": {
        "id": "aw_sBkH0Tole"
      }
    },
    {
      "cell_type": "code",
      "source": [
        "import pandas as pd\n",
        "from sklearn.model_selection import train_test_split\n",
        "from sklearn.linear_model import LogisticRegression\n",
        "from sklearn.ensemble import RandomForestClassifier\n",
        "from sklearn.preprocessing import StandardScaler, LabelEncoder\n",
        "from sklearn.metrics import classification_report, accuracy_score, confusion_matrix\n",
        "from sklearn.cluster import DBSCAN\n",
        "from sklearn.feature_extraction.text import TfidfVectorizer\n",
        "from sklearn.metrics.pairwise import cosine_similarity\n",
        "import numpy as np\n",
        "import matplotlib.pyplot as plt\n",
        "import seaborn as sns\n",
        "import warnings\n",
        "\n",
        "# 1. Cargar el dataset simulado para fraude en comercio electrónico\n",
        "data_ecommerce = {\n",
        "    'ID_Transaccion': range(1, 21),\n",
        "    'Monto': [50.00, 1000.50, 25.00, 150.75, 8000.00, 30.20, 1200.00, 75.99, 5000.00, 10.00,\n",
        "              60.00, 1100.00, 35.50, 90.00, 15000.00, 40.75, 1300.00, 65.00, 7000.00, 20.00],\n",
        "    'Fecha_Hora': ['2024-03-10 10:00', '2024-03-10 10:05', '2024-03-10 10:10', '2024-03-10 10:12', '2024-03-10 10:15',\n",
        "                   '2024-03-10 10:20', '2024-03-10 10:25', '2024-03-10 10:30', '2024-03-10 10:35', '2024-03-10 10:40',\n",
        "                   '2024-03-11 09:00', '2024-03-11 09:02', '2024-03-11 09:05', '2024-03-11 09:10', '2024-03-11 09:15',\n",
        "                   '2024-03-11 09:20', '2024-03-11 09:25', '2024-03-11 09:30', '2024-03-11 09:35', '2024-03-11 09:40'],\n",
        "    'ID_Usuario': ['user123', 'guest456', 'user789', 'user123', 'fraudster01', 'user987', 'guest456', 'user123', 'fraudster02', 'user001',\n",
        "                   'user123', 'guest456', 'user789', 'user987', 'fraudster01', 'user001', 'guest456', 'user789', 'fraudster02', 'user001'],\n",
        "    'Direccion_IP': ['192.168.1.10', '10.0.0.5', '192.168.1.10', '172.16.0.1', '1.2.3.4', '192.168.1.10', '10.0.0.5', '192.168.1.10', '5.6.7.8', '192.168.1.11',\n",
        "                     '192.168.1.10', '10.0.0.6', '192.168.1.12', '172.16.0.2', '1.2.3.5', '192.168.1.11', '10.0.0.5', '192.168.1.10', '5.6.7.9', '192.168.1.11'],\n",
        "    'Producto': ['Laptop', 'Libro', 'Camiseta', 'Zapatos', 'Televisor', 'Auriculares', 'Mochila', 'Reloj', 'Smartphone', 'Cargador',\n",
        "                 'Laptop', 'Libro', 'Camiseta', 'Zapatos', 'Televisor', 'Auriculares', 'Mochila', 'Reloj', 'Smartphone', 'Cargador'],\n",
        "    'Es_Fraudulenta': [0, 0, 0, 0, 1, 0, 0, 0, 1, 0,\n",
        "                       0, 0, 0, 0, 1, 0, 0, 0, 1, 0] # 0: No Fraudulenta, 1: Fraudulenta\n",
        "}\n",
        "df_ecommerce = pd.DataFrame(data_ecommerce)\n",
        "df_ecommerce['Fecha_Hora'] = pd.to_datetime(df_ecommerce['Fecha_Hora'])\n",
        "\n",
        "# 13. Análisis Exploratorio de Datos (EDA) - Visualizaciones\n",
        "print(\"\\n13. Análisis Exploratorio de Datos (EDA) - Visualizaciones:\")\n",
        "\n",
        "# Distribución de la variable objetivo\n",
        "plt.figure(figsize=(6, 4))\n",
        "sns.countplot(x='Es_Fraudulenta', data=df_ecommerce)\n",
        "plt.title('Distribución de Transacciones Fraudulentas')\n",
        "plt.xticks([0, 1], ['No Fraudulenta', 'Fraudulenta'])\n",
        "plt.show()\n",
        "\n",
        "# Distribución de Montos por Clase\n",
        "plt.figure(figsize=(8, 6))\n",
        "sns.histplot(data=df_ecommerce, x='Monto', hue='Es_Fraudulenta', kde=True)\n",
        "plt.title('Distribución de Montos por Tipo de Transacción')\n",
        "plt.xlabel('Monto')\n",
        "plt.ylabel('Frecuencia')\n",
        "plt.show()\n",
        "\n",
        "# Distribución de Hora por Clase\n",
        "df_ecommerce['Hora'] = df_ecommerce['Fecha_Hora'].dt.hour\n",
        "plt.figure(figsize=(8, 6))\n",
        "sns.countplot(data=df_ecommerce, x='Hora', hue='Es_Fraudulenta')\n",
        "plt.title('Distribución de Hora de Transacción por Tipo')\n",
        "plt.xlabel('Hora')\n",
        "plt.ylabel('Conteo')\n",
        "plt.xticks(rotation=45)\n",
        "plt.show()\n",
        "df_ecommerce.drop('Hora', axis=1, inplace=True) # Limpiamos la columna temporal\n",
        "\n",
        "# 14. Análisis de Correlación (entre variables numéricas y objetivo)\n",
        "print(\"\\n14. Análisis de Correlación:\")\n",
        "# Convertimos 'Es_Fraudulenta' a numérico para calcular la correlación\n",
        "df_ecommerce['Es_Fraudulenta_Num'] = df_ecommerce['Es_Fraudulenta']\n",
        "correlacion = df_ecommerce[['Monto', 'Es_Fraudulenta_Num']].corr()\n",
        "print(\"Correlación entre Monto y Fraude:\\n\", correlacion)\n",
        "df_ecommerce.drop('Es_Fraudulenta_Num', axis=1, inplace=True)\n",
        "\n",
        "# 15. Ingeniería de Características (Más Profunda)\n",
        "print(\"\\n15. Ingeniería de Características (Más Profunda):\")\n",
        "# Ejemplo: Tiempo entre transacciones del mismo usuario (simplificado)\n",
        "df_ecommerce['Tiempo_Desde_Ultima_Transaccion'] = 0\n",
        "df_ecommerce = df_ecommerce.sort_values(by=['ID_Usuario', 'Fecha_Hora'])\n",
        "for usuario in df_ecommerce['ID_Usuario'].unique():\n",
        "    indices = df_ecommerce[df_ecommerce['ID_Usuario'] == usuario].index\n",
        "    if len(indices) > 1:\n",
        "        df_ecommerce.loc[indices[1:], 'Tiempo_Desde_Ultima_Transaccion'] = (df_ecommerce['Fecha_Hora'].iloc[indices[1:]].values - df_ecommerce['Fecha_Hora'].iloc[indices[:-1]].values) / np.timedelta64(1, 's')\n",
        "\n",
        "print(\"\\nEjemplo de Nueva Característica: Tiempo entre Transacciones:\")\n",
        "print(df_ecommerce[['ID_Usuario', 'Fecha_Hora', 'Tiempo_Desde_Ultima_Transaccion']].head())\n",
        "\n",
        "# 16. Modelado con Más Características y Evaluación\n",
        "print(\"\\n16. Modelado con Más Características y Evaluación (Random Forest):\")\n",
        "df_encoded_avanzado = pd.get_dummies(df_ecommerce, columns=['Producto', 'ID_Usuario', 'Direccion_IP'], prefix=['Prod', 'User', 'IP'], dummy_na=False, prefix_sep='_')\n",
        "df_encoded_avanzado = df_encoded_avanzado.drop(columns=['ID_Transaccion', 'Fecha_Hora'])\n",
        "\n",
        "# Seleccionamos más características\n",
        "features_avanzadas = ['Monto', 'Tiempo_Desde_Ultima_Transaccion'] + [col for col in df_encoded_avanzado.columns if col.startswith('Prod_')] + [col for col in df_encoded_avanzado.columns if col.startswith('User_')] + [col for col in df_encoded_avanzado.columns if col.startswith('IP_')]\n",
        "features_avanzadas = [col for col in features_avanzadas if col in df_encoded_avanzado.columns]\n",
        "\n",
        "if 'Es_Fraudulenta' in df_encoded_avanzado.columns and all(feature in df_encoded_avanzado.columns for feature in features_avanzadas):\n",
        "    X_adv = df_encoded_avanzado[features_avanzadas]\n",
        "    y_adv = df_encoded_avanzado['Es_Fraudulenta']\n",
        "    X_train_adv, X_test_adv, y_train_adv, y_test_adv = train_test_split(X_adv, y_adv, test_size=0.3, random_state=42)\n",
        "\n",
        "    scaler_adv = StandardScaler()\n",
        "    X_train_scaled_adv = scaler_adv.fit_transform(X_train_adv)\n",
        "    X_test_scaled_adv = scaler_adv.transform(X_test_adv)\n",
        "\n",
        "    model_rf_adv = RandomForestClassifier(random_state=42)\n",
        "    model_rf_adv.fit(X_train_scaled_adv, y_train_adv)\n",
        "    y_pred_rf_adv = model_rf_adv.predict(X_test_scaled_adv)\n",
        "\n",
        "    print(\"Predicciones (Random Forest Avanzado):\", y_pred_rf_adv)\n",
        "    print(\"Precisión del Modelo (Random Forest Avanzado):\", accuracy_score(y_test_adv, y_pred_rf_adv))\n",
        "    print(\"\\nReporte de Clasificación (Random Forest Avanzado):\\n\", classification_report(y_test_adv, y_pred_rf_adv, target_names=['No Fraude', 'Fraude']))\n",
        "    print(\"\\nMatriz de Confusión (Random Forest Avanzado):\\n\", confusion_matrix(y_test_adv, y_pred_rf_adv))\n",
        "else:\n",
        "    print(\"\\nNo se pueden realizar análisis avanzados porque faltan columnas necesarias.\")\n",
        "\n",
        "# 17. Análisis de Importancia de Características (para el modelo RF)\n",
        "if 'Es_Fraudulenta' in df_encoded_avanzado.columns and all(feature in df_encoded_avanzado.columns for feature in features_avanzadas):\n",
        "    importances = model_rf_adv.feature_importances_\n",
        "    feature_names = X_adv.columns\n",
        "    feature_importances = pd.Series(importances, index=feature_names).sort_values(ascending=False)\n",
        "\n",
        "    plt.figure(figsize=(10, 6))\n",
        "    sns.barplot(x=feature_importances.values, y=feature_importances.index)\n",
        "    plt.title('Importancia de las Características en el Modelo Random Forest')\n",
        "    plt.xlabel('Importancia')\n",
        "    plt.ylabel('Características')\n",
        "    plt.tight_layout()\n",
        "    plt.show()"
      ],
      "metadata": {
        "colab": {
          "base_uri": "https://localhost:8080/",
          "height": 1000
        },
        "id": "mi8WFnQxT1Rr",
        "outputId": "b72533a2-4b25-4094-d970-cddbdaf58284"
      },
      "execution_count": null,
      "outputs": [
        {
          "output_type": "stream",
          "name": "stdout",
          "text": [
            "\n",
            "13. Análisis Exploratorio de Datos (EDA) - Visualizaciones:\n"
          ]
        },
        {
          "output_type": "display_data",
          "data": {
            "text/plain": [
              "<Figure size 600x400 with 1 Axes>"
            ],
            "image/png": "[encoded data removed]"
          },
          "metadata": {}
        },
        {
          "output_type": "display_data",
          "data": {
            "text/plain": [
              "<Figure size 800x600 with 1 Axes>"
            ],
            "image/png": "[encoded data removed]"
          },
          "metadata": {}
        },
        {
          "output_type": "display_data",
          "data": {
            "text/plain": [
              "<Figure size 800x600 with 1 Axes>"
            ],
            "image/png": "[encoded data removed]"
          },
          "metadata": {}
        },
        {
          "output_type": "stream",
          "name": "stdout",
          "text": [
            "\n",
            "14. Análisis de Correlación:\n",
            "Correlación entre Monto y Fraude:\n",
            "                        Monto  Es_Fraudulenta_Num\n",
            "Monto               1.000000            0.888684\n",
            "Es_Fraudulenta_Num  0.888684            1.000000\n",
            "\n",
            "15. Ingeniería de Características (Más Profunda):\n",
            "\n",
            "Ejemplo de Nueva Característica: Tiempo entre Transacciones:\n",
            "     ID_Usuario          Fecha_Hora  Tiempo_Desde_Ultima_Transaccion\n",
            "4   fraudster01 2024-03-10 10:15:00                                0\n",
            "14  fraudster01 2024-03-11 09:15:00                            82500\n",
            "8   fraudster02 2024-03-10 10:35:00                                0\n",
            "18  fraudster02 2024-03-11 09:35:00                            -1200\n",
            "1      guest456 2024-03-10 10:05:00                                0\n",
            "\n",
            "16. Modelado con Más Características y Evaluación (Random Forest):\n",
            "Predicciones (Random Forest Avanzado): [0 0 0 0 0 0]\n",
            "Precisión del Modelo (Random Forest Avanzado): 0.6666666666666666\n",
            "\n",
            "Reporte de Clasificación (Random Forest Avanzado):\n",
            "               precision    recall  f1-score   support\n",
            "\n",
            "   No Fraude       0.67      1.00      0.80         4\n",
            "      Fraude       0.00      0.00      0.00         2\n",
            "\n",
            "    accuracy                           0.67         6\n",
            "   macro avg       0.33      0.50      0.40         6\n",
            "weighted avg       0.44      0.67      0.53         6\n",
            "\n",
            "\n",
            "Matriz de Confusión (Random Forest Avanzado):\n",
            " [[4 0]\n",
            " [2 0]]\n"
          ]
        },
        {
          "output_type": "stream",
          "name": "stderr",
          "text": [
            "/usr/local/lib/python3.11/dist-packages/sklearn/metrics/_classification.py:1565: UndefinedMetricWarning: Precision is ill-defined and being set to 0.0 in labels with no predicted samples. Use `zero_division` parameter to control this behavior.\n",
            "  _warn_prf(average, modifier, f\"{metric.capitalize()} is\", len(result))\n",
            "/usr/local/lib/python3.11/dist-packages/sklearn/metrics/_classification.py:1565: UndefinedMetricWarning: Precision is ill-defined and being set to 0.0 in labels with no predicted samples. Use `zero_division` parameter to control this behavior.\n",
            "  _warn_prf(average, modifier, f\"{metric.capitalize()} is\", len(result))\n",
            "/usr/local/lib/python3.11/dist-packages/sklearn/metrics/_classification.py:1565: UndefinedMetricWarning: Precision is ill-defined and being set to 0.0 in labels with no predicted samples. Use `zero_division` parameter to control this behavior.\n",
            "  _warn_prf(average, modifier, f\"{metric.capitalize()} is\", len(result))\n"
          ]
        },
        {
          "output_type": "display_data",
          "data": {
            "text/plain": [
              "<Figure size 1000x600 with 1 Axes>"
            ],
            "image/png": "[encoded data removed]"
          },
          "metadata": {}
        }
      ]
    },
    {
      "cell_type": "markdown",
      "source": [
        "Importación de Librerías: Se mantienen las librerías anteriores y se agrega matplotlib.pyplot y seaborn para las visualizaciones.\n",
        "\n",
        "13. Análisis Exploratorio de Datos (EDA) - Visualizaciones:\n",
        "\n",
        "Se generan visualizaciones básicas para entender la distribución de la variable objetivo ('Es_Fraudulenta') y cómo se distribuye el 'Monto' y la 'Hora' en relación con las transacciones fraudulentas y no fraudulentas. Esto ayuda a identificar posibles patrones visualmente.\n",
        "14. Análisis de Correlación:\n",
        "\n",
        "Se calcula la correlación entre la variable numérica 'Monto' y la variable objetivo 'Es_Fraudulenta'. Esto ayuda a entender si existe una relación lineal entre estas dos variables.\n",
        "15. Ingeniería de Características (Más Profunda):\n",
        "\n",
        "Tiempo entre Transacciones del Mismo Usuario: Se crea una nueva característica que calcula el tiempo transcurrido entre las transacciones de un mismo usuario. Esto puede ser un indicador importante de comportamiento sospechoso (por ejemplo, compras muy rápidas).\n",
        "16. Modelado con Más Características y Evaluación:\n",
        "\n",
        "Se incluye la nueva característica 'Tiempo_Desde_Ultima_Transaccion' en el conjunto de características para entrenar un modelo RandomForestClassifier.\n",
        "Se realiza el mismo proceso de división de datos, escalado y evaluación del modelo.\n",
        "17. Análisis de Importancia de Características:\n",
        "\n",
        "Después de entrenar el modelo Random Forest, se calcula la importancia de cada característica para las predicciones del modelo. Esto proporciona información sobre qué variables son más influyentes en la detección de fraude.\n",
        "Se crea un gráfico de barras para visualizar la importancia de las características.\n",
        "Cómo se relaciona con el Capítulo 4 (Análisis Más Profundo):\n",
        "\n",
        "Este código realiza un análisis más profundo de los datos de comercio electrónico, abordando varios aspectos del Capítulo 4:\n",
        "\n",
        "4.1 Identificación de Transacciones Fraudulentas en Línea: Se utiliza un modelo de clasificación más avanzado (Random Forest) con un conjunto de características más amplio, incluyendo información sobre el producto, el usuario, la IP y características temporales.\n",
        "4.2 Detección de Cuentas Falsas y Actividades Maliciosas: El análisis de agrupamiento con DBSCAN en las IPs sigue siendo un ejemplo para identificar posibles cuentas maliciosas asociadas a las mismas ubicaciones.\n",
        "4.3 Análisis de Comportamiento del Usuario: La creación de la característica 'Tiempo_Desde_Ultima_Transaccion' intenta capturar patrones de comportamiento del usuario que podrían ser sospechosos. La visualización de la frecuencia de transacciones también entra en esta categoría.\n",
        "Limitaciones y Mejoras:\n",
        "\n",
        "Dataset Pequeño: Sigue siendo un dataset simulado y pequeño, lo que limita la generalización de los resultados.\n",
        "Ingeniería de Características Simplificada: La ingeniería de características es básica. En un escenario real, se podrían crear muchas más características basadas en el historial del usuario, el comportamiento de compra, etc.\n",
        "Modelo Único: Se utiliza principalmente Random Forest como modelo de clasificación. En la práctica, se probarían múltiples modelos y se realizaría un ajuste de hiperparámetros.\n",
        "Análisis de IP Mejorado: El análisis de IP podría mejorarse analizando la frecuencia de IPs por usuario, la geolocalización (si estuviera disponible), etc.\n",
        "Análisis de Texto Avanzado: Aunque se usó CountVectorizer, un análisis NLP más profundo de los productos y descripciones de transacciones podría revelar patrones más sutiles.\n",
        "Conclusión del Código Mejorado:\n",
        "\n",
        "Este código proporciona un análisis más exhaustivo del dataset simulado, incluyendo un análisis exploratorio de datos, la creación de nuevas características relevantes para la detección de fraude y la evaluación de un modelo de clasificación más avanzado. También ilustra cómo se puede analizar la importancia de las características para entender qué factores son más relevantes para predecir el fraude. Si bien sigue siendo un ejemplo simplificado, ofrece una visión más profunda de las técnicas que se aplicarían en un análisis real de fraude en comercio electrónico.\n",
        "\n",
        "\n",
        "\n",
        "\n",
        "\n",
        "\n"
      ],
      "metadata": {
        "id": "JsXtj3YDUEfT"
      }
    },
    {
      "cell_type": "code",
      "source": [
        "!pip install faker"
      ],
      "metadata": {
        "colab": {
          "base_uri": "https://localhost:8080/"
        },
        "id": "oYTmINI-UUGx",
        "outputId": "90810f41-1365-4be8-a86e-2955b141476f"
      },
      "execution_count": null,
      "outputs": [
        {
          "output_type": "stream",
          "name": "stdout",
          "text": [
            "Collecting faker\n",
            "  Downloading faker-37.0.2-py3-none-any.whl.metadata (15 kB)\n",
            "Requirement already satisfied: tzdata in /usr/local/lib/python3.11/dist-packages (from faker) (2025.1)\n",
            "Downloading faker-37.0.2-py3-none-any.whl (1.9 MB)\n",
            "\u001b[?25l   \u001b[90m━━━━━━━━━━━━━━━━━━━━━━━━━━━━━━━━━━━━━━━━\u001b[0m \u001b[32m0.0/1.9 MB\u001b[0m \u001b[31m?\u001b[0m eta \u001b[36m-:--:--\u001b[0m\r\u001b[2K   \u001b[91m━━━━━━━━━━━━━━━━━━━━━━━━━━━\u001b[0m\u001b[91m╸\u001b[0m\u001b[90m━━━━━━━━━━━━\u001b[0m \u001b[32m1.3/1.9 MB\u001b[0m \u001b[31m39.8 MB/s\u001b[0m eta \u001b[36m0:00:01\u001b[0m\r\u001b[2K   \u001b[90m━━━━━━━━━━━━━━━━━━━━━━━━━━━━━━━━━━━━━━━━\u001b[0m \u001b[32m1.9/1.9 MB\u001b[0m \u001b[31m32.0 MB/s\u001b[0m eta \u001b[36m0:00:00\u001b[0m\n",
            "\u001b[?25hInstalling collected packages: faker\n",
            "Successfully installed faker-37.0.2\n"
          ]
        }
      ]
    },
    {
      "cell_type": "code",
      "source": [
        "import pandas as pd\n",
        "from faker import Faker\n",
        "from sklearn.model_selection import train_test_split\n",
        "from sklearn.linear_model import LogisticRegression\n",
        "from sklearn.preprocessing import LabelEncoder, StandardScaler\n",
        "from sklearn.metrics import classification_report, accuracy_score, confusion_matrix\n",
        "import numpy as np\n",
        "import re\n",
        "\n",
        "# 1. Generación de un dataset simulado con información de usuarios y CUITs\n",
        "fake = Faker('es_AR') # Usamos la configuración regional de Argentina\n",
        "\n",
        "num_usuarios = 500\n",
        "data_usuarios = {\n",
        "    'ID_Usuario': [f'user_{i}' for i in range(num_usuarios)],\n",
        "    'Nombre': [fake.name() for _ in range(num_usuarios)],\n",
        "    'Email': [fake.email() for _ in range(num_usuarios)],\n",
        "    'Direccion': [fake.address() for _ in range(num_usuarios)],\n",
        "    'CUIT': [fake.ssn() for _ in range(num_usuarios)], # Generamos CUITs aleatorios\n",
        "    'Es_Cuenta_Falsa': np.random.randint(0, 2, num_usuarios) # 0: Real, 1: Falsa\n",
        "}\n",
        "df_usuarios = pd.DataFrame(data_usuarios)\n",
        "\n",
        "# 2. Inserción de CUITs Falsos (Ejemplo de manipulación de datos)\n",
        "num_cuentas_falsas = int(num_usuarios * 0.1) # 10% de cuentas falsas\n",
        "falsos_indices = np.random.choice(df_usuarios.index, num_cuentas_falsas, replace=False)\n",
        "df_usuarios.loc[falsos_indices, 'Es_Cuenta_Falsa'] = 1\n",
        "df_usuarios.loc[falsos_indices, 'CUIT'] = [fake.ssn()[:8] + '0' * 3 for _ in range(num_cuentas_falsas)] # CUITs con formato incorrecto\n",
        "\n",
        "# 3. Función para validar el formato básico del CUIT (muy simplificado)\n",
        "def validar_cuit_formato(cuit):\n",
        "    if isinstance(cuit, str):\n",
        "        cuit = cuit.replace('-', '')\n",
        "        if len(cuit) == 11 and cuit.isdigit():\n",
        "            return True\n",
        "    return False\n",
        "\n",
        "# 4. Ingeniería de Características (Basada en el CUIT)\n",
        "df_usuarios['CUIT_Formato_Valido'] = df_usuarios['CUIT'].apply(validar_cuit_formato)\n",
        "\n",
        "# 5. Análisis del Email (Ejemplo Básico)\n",
        "def analizar_email(email):\n",
        "    if isinstance(email, str):\n",
        "        if '@' not in email or '.' not in email:\n",
        "            return 1 # Potencialmente sospechoso\n",
        "        elif 'temp' in email or 'test' in email:\n",
        "            return 1 # Emails temporales o de prueba\n",
        "    return 0\n",
        "\n",
        "df_usuarios['Email_Sospechoso'] = df_usuarios['Email'].apply(analizar_email)\n",
        "\n",
        "# 6. Codificación de Otras Características (Nombre, Dirección - Simplificado)\n",
        "# Para usar en un modelo, necesitamos convertir estas variables categóricas a numéricas.\n",
        "# Aquí usamos Label Encoding como ejemplo básico.\n",
        "\n",
        "le_nombre = LabelEncoder()\n",
        "df_usuarios['Nombre_Codificado'] = le_nombre.fit_transform(df_usuarios['Nombre'])\n",
        "\n",
        "le_direccion = LabelEncoder()\n",
        "df_usuarios['Direccion_Codificada'] = le_direccion.fit_transform(df_usuarios['Direccion'])\n",
        "\n",
        "# 7. Selección de Características y Preparación de Datos para el Modelo\n",
        "features = ['CUIT_Formato_Valido', 'Email_Sospechoso', 'Nombre_Codificado', 'Direccion_Codificada']\n",
        "X = df_usuarios[features]\n",
        "y = df_usuarios['Es_Cuenta_Falsa']\n",
        "\n",
        "# Manejo de valores faltantes (si los hubiera, aunque en este dataset no deberían)\n",
        "X = X.fillna(0)\n",
        "\n",
        "# 8. División de Datos en Entrenamiento y Prueba\n",
        "X_train, X_test, y_train, y_test = train_test_split(X, y, test_size=0.3, random_state=42)\n",
        "\n",
        "# 9. Escalado de Características (Opcional pero recomendado)\n",
        "scaler = StandardScaler()\n",
        "X_train_scaled = scaler.fit_transform(X_train)\n",
        "X_test_scaled = scaler.transform(X_test)\n",
        "\n",
        "# 10. Entrenamiento del Modelo de Clasificación (Regresión Logística)\n",
        "print(\"\\n10. Entrenamiento del Modelo de Detección de Cuentas Falsas (Regresión Logística):\")\n",
        "model = LogisticRegression(random_state=42)\n",
        "model.fit(X_train_scaled, y_train)\n",
        "y_pred = model.predict(X_test_scaled)\n",
        "\n",
        "# 11. Evaluación del Modelo\n",
        "print(\"\\n11. Evaluación del Modelo:\")\n",
        "print(\"Precisión del Modelo:\", accuracy_score(y_test, y_pred))\n",
        "print(\"\\nReporte de Clasificación:\\n\", classification_report(y_test, y_pred, target_names=['Cuenta Real', 'Cuenta Falsa']))\n",
        "print(\"\\nMatriz de Confusión:\\n\", confusion_matrix(y_test, y_pred))\n",
        "\n",
        "# 12. Análisis de las Cuentas Detectadas como Falsas\n",
        "df_test = df_usuarios.loc[X_test.index].copy()\n",
        "df_test['Prediccion_Falsa'] = y_pred\n",
        "cuentas_falsas_detectadas = df_test[df_test['Prediccion_Falsa'] == 1][['ID_Usuario', 'CUIT', 'CUIT_Formato_Valido', 'Email', 'Email_Sospechoso', 'Es_Cuenta_Falsa']]\n",
        "print(\"\\n12. Cuentas Detectadas como Falsas:\")\n",
        "print(cuentas_falsas_detectadas)"
      ],
      "metadata": {
        "colab": {
          "base_uri": "https://localhost:8080/"
        },
        "id": "w97pVdZTUQdF",
        "outputId": "e341caa9-1d06-4c72-fa61-1bd754dc8ecd"
      },
      "execution_count": null,
      "outputs": [
        {
          "output_type": "stream",
          "name": "stdout",
          "text": [
            "\n",
            "10. Entrenamiento del Modelo de Detección de Cuentas Falsas (Regresión Logística):\n",
            "\n",
            "11. Evaluación del Modelo:\n",
            "Precisión del Modelo: 0.5\n",
            "\n",
            "Reporte de Clasificación:\n",
            "               precision    recall  f1-score   support\n",
            "\n",
            " Cuenta Real       0.36      0.48      0.41        54\n",
            "Cuenta Falsa       0.64      0.51      0.57        96\n",
            "\n",
            "    accuracy                           0.50       150\n",
            "   macro avg       0.50      0.50      0.49       150\n",
            "weighted avg       0.54      0.50      0.51       150\n",
            "\n",
            "\n",
            "Matriz de Confusión:\n",
            " [[26 28]\n",
            " [47 49]]\n",
            "\n",
            "12. Cuentas Detectadas como Falsas:\n",
            "    ID_Usuario         CUIT  CUIT_Formato_Valido  \\\n",
            "361   user_361  137-81-5000                False   \n",
            "155   user_155  619-40-2000                False   \n",
            "104   user_104  469-95-3747                False   \n",
            "394   user_394  481-72-7254                False   \n",
            "124   user_124  674-80-7978                False   \n",
            "..         ...          ...                  ...   \n",
            "208   user_208  048-44-2000                False   \n",
            "479   user_479  464-99-2962                False   \n",
            "266   user_266  199-34-5477                False   \n",
            "23     user_23  118-68-2879                False   \n",
            "222   user_222  153-22-4813                False   \n",
            "\n",
            "                            Email  Email_Sospechoso  Es_Cuenta_Falsa  \n",
            "361           sofia44@example.net                 0                1  \n",
            "155  gonzalezbautista@example.com                 0                1  \n",
            "104          ramiro69@example.net                 0                0  \n",
            "394           hgarcia@example.com                 0                1  \n",
            "124  antonellacordoba@example.com                 0                0  \n",
            "..                            ...               ...              ...  \n",
            "208        ngutierrez@example.net                 0                1  \n",
            "479           wtorres@example.net                 0                0  \n",
            "266           diazzoe@example.com                 0                1  \n",
            "23         victoria85@example.com                 0                1  \n",
            "222   benitezagostina@example.org                 0                1  \n",
            "\n",
            "[77 rows x 6 columns]\n"
          ]
        }
      ]
    },
    {
      "cell_type": "code",
      "source": [
        "import pandas as pd\n",
        "from faker import Faker\n",
        "from sklearn.model_selection import train_test_split\n",
        "from sklearn.linear_model import LogisticRegression\n",
        "from sklearn.preprocessing import LabelEncoder, StandardScaler\n",
        "from sklearn.metrics import classification_report, accuracy_score, confusion_matrix\n",
        "import numpy as np\n",
        "import re\n",
        "\n",
        "# 1. Generación de un dataset simulado con información de usuarios y CUITs\n",
        "fake = Faker('es_AR') # Usamos la configuración regional de Argentina\n",
        "\n",
        "num_usuarios = 500\n",
        "data_usuarios = {\n",
        "    'ID_Usuario': [f'user_{i}' for i in range(num_usuarios)],\n",
        "    'Nombre': [fake.name() for _ in range(num_usuarios)],\n",
        "    'Email': [fake.email() for _ in range(num_usuarios)],\n",
        "    'Direccion': [fake.address() for _ in range(num_usuarios)],\n",
        "    'CUIT': [fake.ssn() for _ in range(num_usuarios)], # Generamos CUITs aleatorios\n",
        "    'Es_Cuenta_Falsa': np.random.randint(0, 2, num_usuarios) # 0: Real, 1: Falsa\n",
        "}\n",
        "df_usuarios = pd.DataFrame(data_usuarios)\n",
        "\n",
        "# 2. Inserción de CUITs Falsos con Formato Específico\n",
        "num_cuentas_falsas = int(num_usuarios * 0.1) # 10% de cuentas falsas\n",
        "falsos_indices = np.random.choice(df_usuarios.index, num_cuentas_falsas, replace=False)\n",
        "df_usuarios.loc[falsos_indices, 'Es_Cuenta_Falsa'] = 1\n",
        "df_usuarios.loc[falsos_indices, 'CUIT'] = [f\"{fake.random_number(digits=2)}-{fake.random_number(digits=11)}-{fake.random_number(digits=1)}\" for _ in range(num_cuentas_falsas)] # CUITs con formato 00-00000000-0\n",
        "\n",
        "# 3. Función para validar el formato básico del CUIT (más específico)\n",
        "def validar_cuit_formato(cuit):\n",
        "    if isinstance(cuit, str):\n",
        "        patron = r\"^\\d{2}-\\d{8}-\\d{1}$\"\n",
        "        if re.match(patron, cuit):\n",
        "            return True\n",
        "    return False\n",
        "\n",
        "# 4. Ingeniería de Características (Basada en el CUIT)\n",
        "df_usuarios['CUIT_Formato_Valido'] = df_usuarios['CUIT'].apply(validar_cuit_formato)\n",
        "\n",
        "# 5. Análisis del Email (Ejemplo Básico)\n",
        "def analizar_email(email):\n",
        "    if isinstance(email, str):\n",
        "        if '@' not in email or '.' not in email:\n",
        "            return 1 # Potencialmente sospechoso\n",
        "        elif 'temp' in email or 'test' in email:\n",
        "            return 1 # Emails temporales o de prueba\n",
        "    return 0\n",
        "\n",
        "df_usuarios['Email_Sospechoso'] = df_usuarios['Email'].apply(analizar_email)\n",
        "\n",
        "# 6. Codificación de Otras Características (Nombre, Dirección - Simplificado)\n",
        "# Para usar en un modelo, necesitamos convertir estas variables categóricas a numéricas.\n",
        "# Aquí usamos Label Encoding como ejemplo básico.\n",
        "\n",
        "le_nombre = LabelEncoder()\n",
        "df_usuarios['Nombre_Codificado'] = le_nombre.fit_transform(df_usuarios['Nombre'])\n",
        "\n",
        "le_direccion = LabelEncoder()\n",
        "df_usuarios['Direccion_Codificada'] = le_direccion.fit_transform(df_usuarios['Direccion'])\n",
        "\n",
        "# 7. Selección de Características y Preparación de Datos para el Modelo\n",
        "features = ['CUIT_Formato_Valido', 'Email_Sospechoso', 'Nombre_Codificado', 'Direccion_Codificada']\n",
        "X = df_usuarios[features]\n",
        "y = df_usuarios['Es_Cuenta_Falsa']\n",
        "\n",
        "# Manejo de valores faltantes (si los hubiera)\n",
        "X = X.fillna(0)\n",
        "\n",
        "# 8. División de Datos en Entrenamiento y Prueba\n",
        "X_train, X_test, y_train, y_test = train_test_split(X, y, test_size=0.3, random_state=42)\n",
        "\n",
        "# 9. Escalado de Características\n",
        "scaler = StandardScaler()\n",
        "X_train_scaled = scaler.fit_transform(X_train)\n",
        "X_test_scaled = scaler.transform(X_test)\n",
        "\n",
        "# 10. Entrenamiento del Modelo de Clasificación (Regresión Logística)\n",
        "print(\"\\n10. Entrenamiento del Modelo de Detección de Cuentas Falsas (Regresión Logística):\")\n",
        "model = LogisticRegression(random_state=42)\n",
        "model.fit(X_train_scaled, y_train)\n",
        "y_pred = model.predict(X_test_scaled)\n",
        "\n",
        "# 11. Evaluación del Modelo\n",
        "print(\"\\n11. Evaluación del Modelo:\")\n",
        "print(\"Precisión del Modelo:\", accuracy_score(y_test, y_pred))\n",
        "print(\"\\nReporte de Clasificación:\\n\", classification_report(y_test, y_pred, target_names=['Cuenta Real', 'Cuenta Falsa']))\n",
        "print(\"\\nMatriz de Confusión:\\n\", confusion_matrix(y_test, y_pred))\n",
        "\n",
        "# 12. Análisis de las Cuentas Detectadas como Falsas\n",
        "df_test = df_usuarios.loc[X_test.index].copy()\n",
        "df_test['Prediccion_Falsa'] = y_pred\n",
        "cuentas_falsas_detectadas = df_test[df_test['Prediccion_Falsa'] == 1][['ID_Usuario', 'CUIT', 'CUIT_Formato_Valido', 'Email', 'Email_Sospechoso', 'Es_Cuenta_Falsa']]\n",
        "print(\"\\n12. Cuentas Detectadas como Falsas:\")\n",
        "print(cuentas_falsas_detectadas)"
      ],
      "metadata": {
        "colab": {
          "base_uri": "https://localhost:8080/"
        },
        "id": "pJAhqtooUoYC",
        "outputId": "838d14ea-ab9c-4d6a-fbb8-37ecfbb2c671"
      },
      "execution_count": null,
      "outputs": [
        {
          "output_type": "stream",
          "name": "stdout",
          "text": [
            "\n",
            "10. Entrenamiento del Modelo de Detección de Cuentas Falsas (Regresión Logística):\n",
            "\n",
            "11. Evaluación del Modelo:\n",
            "Precisión del Modelo: 0.56\n",
            "\n",
            "Reporte de Clasificación:\n",
            "               precision    recall  f1-score   support\n",
            "\n",
            " Cuenta Real       0.48      0.41      0.44        64\n",
            "Cuenta Falsa       0.60      0.67      0.64        86\n",
            "\n",
            "    accuracy                           0.56       150\n",
            "   macro avg       0.54      0.54      0.54       150\n",
            "weighted avg       0.55      0.56      0.55       150\n",
            "\n",
            "\n",
            "Matriz de Confusión:\n",
            " [[26 38]\n",
            " [28 58]]\n",
            "\n",
            "12. Cuentas Detectadas como Falsas:\n",
            "    ID_Usuario              CUIT  CUIT_Formato_Valido  \\\n",
            "361   user_361       881-39-4380                False   \n",
            "73     user_73       230-34-6510                False   \n",
            "374   user_374       390-58-1948                False   \n",
            "155   user_155       628-48-6841                False   \n",
            "104   user_104  54-65787462535-5                False   \n",
            "..         ...               ...                  ...   \n",
            "479   user_479       610-28-9804                False   \n",
            "94     user_94       244-74-5403                False   \n",
            "253   user_253       808-56-1325                False   \n",
            "23     user_23  50-53410600466-1                False   \n",
            "261   user_261       749-91-4772                False   \n",
            "\n",
            "                            Email  Email_Sospechoso  Es_Cuenta_Falsa  \n",
            "361       valentina39@example.org                 0                0  \n",
            "73           juanrios@example.org                 0                0  \n",
            "374          bmiranda@example.org                 0                0  \n",
            "155  juan-sebastian04@example.org                 0                1  \n",
            "104    mendozaabigail@example.net                 0                1  \n",
            "..                            ...               ...              ...  \n",
            "479         kgonzalez@example.org                 0                0  \n",
            "94             ynunez@example.net                 0                0  \n",
            "253   gonzalomartinez@example.com                 0                0  \n",
            "23    romerovalentina@example.net                 0                1  \n",
            "261    maximogonzalez@example.com                 0                1  \n",
            "\n",
            "[96 rows x 6 columns]\n"
          ]
        }
      ]
    },
    {
      "cell_type": "code",
      "source": [
        "!pip install python-dotenv"
      ],
      "metadata": {
        "colab": {
          "base_uri": "https://localhost:8080/"
        },
        "id": "Qxc0LG_fVOjF",
        "outputId": "7d30b2b3-9a85-4f09-f06d-2f8fe6a04211"
      },
      "execution_count": null,
      "outputs": [
        {
          "output_type": "stream",
          "name": "stdout",
          "text": [
            "Collecting python-dotenv\n",
            "  Downloading python_dotenv-1.0.1-py3-none-any.whl.metadata (23 kB)\n",
            "Downloading python_dotenv-1.0.1-py3-none-any.whl (19 kB)\n",
            "Installing collected packages: python-dotenv\n",
            "Successfully installed python-dotenv-1.0.1\n"
          ]
        }
      ]
    },
    {
      "cell_type": "code",
      "source": [
        "import requests\n",
        "import json\n",
        "import os\n",
        "from dotenv import load_dotenv\n",
        "\n",
        "# Cargar variables de entorno desde el archivo .env\n",
        "load_dotenv()\n",
        "\n",
        "# Configuración de la API de AFIP (requiere autenticación)\n",
        "# Para acceder a la API de AFIP, generalmente se necesita autenticación mediante certificados digitales.\n",
        "# Este ejemplo es una demostración conceptual y no incluye la autenticación real.\n",
        "# En un escenario real, deberías gestionar la autenticación de forma segura.\n",
        "\n",
        "# Variables de entorno para autenticación (ejemplo)\n",
        "# En un archivo .env:\n",
        "# AFIP_WSAA_URL = \"https://wsaa.afip.gov.ar/ws/services/LoginCms\"\n",
        "# AFIP_CUIT_CONSULTA_URL = \"https://serviciosweb.afip.gob.ar/wspadre/ws/ConsultaCuit.svc/ConsultaCuit\"\n",
        "# AFIP_CERT_FILE = \"ruta/a/tu/certificado.crt\"\n",
        "# AFIP_KEY_FILE = \"ruta/a/tu/clave_privada.key\"\n",
        "# AFIP_SERVICE = \"ws_padron_a4\" # Ejemplo de servicio\n",
        "\n",
        "WSAA_URL = os.getenv(\"AFIP_WSAA_URL\")\n",
        "CUIT_CONSULTA_URL = os.getenv(\"AFIP_CUIT_CONSULTA_URL\")\n",
        "CERT_FILE = os.getenv(\"AFIP_CERT_FILE\")\n",
        "KEY_FILE = os.getenv(\"AFIP_KEY_FILE\")\n",
        "SERVICE = os.getenv(\"AFIP_SERVICE\")\n",
        "CUIT_A_CONSULTAR = \"20-12034411-1\" # Ejemplo de CUIT a consultar\n",
        "\n",
        "def obtener_token_y_sign(wsaa_url, cert_file, key_file, service):\n",
        "    \"\"\"\n",
        "    Función para obtener el Token y Sign del WSAA (Conceptual - Requiere implementación real).\n",
        "    En un entorno real, esto implica firmar un XML con tu certificado y enviar la solicitud.\n",
        "    \"\"\"\n",
        "    print(\"Obteniendo Token y Sign (Conceptual)...\")\n",
        "    # Implementación real aquí utilizando librerías como suds-py3 o zeep\n",
        "    # para comunicarse con el WSAA y firmar el XML de solicitud.\n",
        "    # Esto devolvería un diccionario con 'Token' y 'Sign'.\n",
        "    return {\"Token\": \"TOKEN_SIMULADO\", \"Sign\": \"SIGN_SIMULADO\"} # Ejemplo de valores simulados\n",
        "\n",
        "def consultar_cuit_afip(cuit, token, sign, cuit_consulta_url):\n",
        "    \"\"\"\n",
        "    Función para consultar el CUIT en la API de AFIP (Conceptual).\n",
        "    \"\"\"\n",
        "    print(f\"\\nConsultando CUIT {cuit} en la AFIP (Conceptual)...\")\n",
        "    if not token or not sign:\n",
        "        print(\"Error: No se pudo obtener el Token y Sign.\")\n",
        "        return None\n",
        "\n",
        "    headers = {\n",
        "        'Content-Type': 'application/json',\n",
        "        'SOAPAction': 'http://ar.gov.afip.wspadre/ConsultaCuit', # Ajustar según la API real\n",
        "        'Authorization': f'Bearer {token}' # Esto podría variar según la API\n",
        "    }\n",
        "\n",
        "    payload = {\n",
        "        \"CUIT\": cuit\n",
        "        # La estructura del payload puede variar según la API específica de AFIP\n",
        "    }\n",
        "\n",
        "    try:\n",
        "        # En un escenario real, se usaría requests.post con los headers y el payload correctos.\n",
        "        # La respuesta se parsearía para obtener la información del CUIT.\n",
        "        print(\"Simulando solicitud a la API de AFIP...\")\n",
        "        print(f\"URL: {cuit_consulta_url}\")\n",
        "        print(f\"Headers: {headers}\")\n",
        "        print(f\"Payload: {json.dumps(payload)}\")\n",
        "\n",
        "        # Simulación de una respuesta exitosa\n",
        "        respuesta_simulada = {\n",
        "            \"estado\": \"OK\",\n",
        "            \"razonSocial\": \"EMPRESA EJEMPLO S.A.\",\n",
        "            \"nombre\": \"EMPRESA\",\n",
        "            \"tipoDocumento\": \"CUIT\",\n",
        "            \"numeroDocumento\": cuit,\n",
        "            \"condicionIVA\": \"Responsable Inscripto\",\n",
        "            \"direccion\": \"AV. FALSA 123\",\n",
        "            \"localidad\": \"CIUDAD EJEMPLO\",\n",
        "            \"provincia\": \"BUENOS AIRES\",\n",
        "            \"codigoPostal\": \"1234\",\n",
        "            \"estadoClave\": \"ACTIVO\",\n",
        "            # ... más información\n",
        "        }\n",
        "        print(\"\\nRespuesta Simulada de la API:\")\n",
        "        print(json.dumps(respuesta_simulada, indent=4))\n",
        "        return respuesta_simulada\n",
        "\n",
        "    except requests.exceptions.RequestException as e:\n",
        "        print(f\"Error al realizar la consulta a la API: {e}\")\n",
        "        return None\n",
        "    except json.JSONDecodeError as e:\n",
        "        print(f\"Error al decodificar la respuesta JSON: {e}\")\n",
        "        return None\n",
        "\n",
        "if __name__ == \"__main__\":\n",
        "    print(\"Código para Comparación de CUIT con la API de AFIP (Conceptual)\")\n",
        "    print(\"------------------------------------------------------------\")\n",
        "\n",
        "    # 1. Obtener Token y Sign (Conceptual - Requiere Autenticación Real)\n",
        "    auth_data = obtener_token_y_sign(WSAA_URL, CERT_FILE, KEY_FILE, SERVICE)\n",
        "    token = auth_data.get(\"Token\")\n",
        "    sign = auth_data.get(\"Sign\")\n",
        "\n",
        "    # 2. Consultar el CUIT\n",
        "    if token and sign:\n",
        "        informacion_cuit = consultar_cuit_afip(CUIT_A_CONSULTAR, token, sign, CUIT_CONSULTA_URL)\n",
        "        if informacion_cuit:\n",
        "            print(f\"\\nInformación del CUIT {CUIT_A_CONSULTAR} obtenida de la API:\")\n",
        "            # Aquí podrías comparar la información obtenida con los datos que tienes\n",
        "            # en tu dataset para verificar la consistencia.\n",
        "            print(f\"Razón Social: {informacion_cuit.get('razonSocial', 'No disponible')}\")\n",
        "            print(f\"Condición IVA: {informacion_cuit.get('condicionIVA', 'No disponible')}\")\n",
        "            # ... y otras propiedades relevantes para tu análisis\n",
        "        else:\n",
        "            print(f\"\\nNo se pudo obtener información para el CUIT {CUIT_A_CONSULTAR} desde la API.\")\n",
        "    else:\n",
        "        print(\"\\nNo se pudo obtener la autenticación para acceder a la API de AFIP.\")"
      ],
      "metadata": {
        "colab": {
          "base_uri": "https://localhost:8080/"
        },
        "id": "djFuYjS7VGO1",
        "outputId": "502eb9e4-f959-431b-b29e-75d8718c1797"
      },
      "execution_count": null,
      "outputs": [
        {
          "output_type": "stream",
          "name": "stdout",
          "text": [
            "Código para Comparación de CUIT con la API de AFIP (Conceptual)\n",
            "------------------------------------------------------------\n",
            "Obteniendo Token y Sign (Conceptual)...\n",
            "\n",
            "Consultando CUIT 20-12034411-1 en la AFIP (Conceptual)...\n",
            "Simulando solicitud a la API de AFIP...\n",
            "URL: None\n",
            "Headers: {'Content-Type': 'application/json', 'SOAPAction': 'http://ar.gov.afip.wspadre/ConsultaCuit', 'Authorization': 'Bearer TOKEN_SIMULADO'}\n",
            "Payload: {\"CUIT\": \"20-12034411-1\"}\n",
            "\n",
            "Respuesta Simulada de la API:\n",
            "{\n",
            "    \"estado\": \"OK\",\n",
            "    \"razonSocial\": \"EMPRESA EJEMPLO S.A.\",\n",
            "    \"nombre\": \"EMPRESA\",\n",
            "    \"tipoDocumento\": \"CUIT\",\n",
            "    \"numeroDocumento\": \"20-12034411-1\",\n",
            "    \"condicionIVA\": \"Responsable Inscripto\",\n",
            "    \"direccion\": \"AV. FALSA 123\",\n",
            "    \"localidad\": \"CIUDAD EJEMPLO\",\n",
            "    \"provincia\": \"BUENOS AIRES\",\n",
            "    \"codigoPostal\": \"1234\",\n",
            "    \"estadoClave\": \"ACTIVO\"\n",
            "}\n",
            "\n",
            "Información del CUIT 20-12034411-1 obtenida de la API:\n",
            "Razón Social: EMPRESA EJEMPLO S.A.\n",
            "Condición IVA: Responsable Inscripto\n"
          ]
        }
      ]
    },
    {
      "cell_type": "markdown",
      "source": [
        "**Importación de Librerías:**\n",
        "\n",
        "requests: Para realizar peticiones HTTP a la API (en un escenario real).\n",
        "json: Para trabajar con datos en formato JSON.\n",
        "os: Para interactuar con el sistema operativo, como acceder a variables de entorno.\n",
        "dotenv: Para cargar variables de entorno desde un archivo .env.\n",
        "Carga de Variables de Entorno:\n",
        "\n",
        "load_dotenv(): Carga las variables de entorno definidas en un archivo .env en el mismo directorio que el script. Esto es una buena práctica para almacenar información sensible como las rutas de los certificados y las URLs de la API.\n",
        "Configuración de la API de AFIP (Conceptual):\n",
        "\n",
        "Se definen variables para las URLs de los servicios de la AFIP, las rutas de los archivos de certificado y clave privada, y el servicio a utilizar. Es crucial entender que para acceder a la API real de AFIP, se requiere una autenticación mediante certificados digitales (WSAA - Web Services de Autenticación y Autorización).\n",
        "Comentarios Importantes: Se destaca que la autenticación real no está implementada en este ejemplo y se explica que en un entorno de producción, se necesitaría una implementación que maneje la comunicación con el WSAA para obtener el Token y Sign.\n",
        "obtener_token_y_sign() (Conceptual):\n",
        "\n",
        "Esta función es un placeholder para la lógica real de autenticación con el WSAA.\n",
        "En un escenario real: Esta función utilizaría librerías como suds-py3 o zeep para:\n",
        "Firmar un XML de solicitud utilizando el certificado y la clave privada.\n",
        "Enviar la solicitud al servicio WSAA de la AFIP.\n",
        "Parsear la respuesta para extraer el Token y la Sign.\n",
        "La implementación real de esta función es específica de la API de AFIP y requiere el manejo de certificados y la comunicación SOAP.\n",
        "consultar_cuit_afip() (Conceptual):\n",
        "\n",
        "Esta función simula la consulta del CUIT a la API de AFIP.\n",
        "En un escenario real:\n",
        "Utilizaría requests.post() para enviar una petición HTTP a la URL de consulta de CUIT.\n",
        "Incluiría los encabezados (headers) necesarios, como Content-Type y la autorización (que podría ser un Bearer Token obtenido del WSAA).\n",
        "El payload contendría el CUIT a consultar en el formato requerido por la API de AFIP.\n",
        "La respuesta de la API (en formato JSON o XML) se analizaría para obtener la información del CUIT.\n",
        "Simulación: En este ejemplo, se simula una respuesta exitosa de la API para ilustrar cómo se podría acceder a la información.\n",
        "Bloque if __name__ == \"__main__\"::\n",
        "\n",
        "Este bloque se ejecuta cuando el script se ejecuta directamente.\n",
        "Autenticación (Conceptual): Llama a obtener_token_y_sign() para obtener el token y la firma (simulados aquí).\n",
        "Consulta del CUIT: Si se obtienen el token y la firma, llama a consultar_cuit_afip() para consultar el CUIT especificado (CUIT_A_CONSULTAR).\n",
        "Presentación de la Información: Si la consulta es exitosa (simulada), se imprime la información relevante del CUIT obtenida de la \"API\".\n",
        "Para que este código funcione realmente con la API de AFIP, necesitarías:\n",
        "\n",
        "Obtener Certificados Digitales: Debes tener un certificado digital válido emitido por la AFIP.\n",
        "Implementar la Autenticación con el WSAA: Necesitas escribir código que se comunique con el servicio WSAA de la AFIP utilizando las librerías adecuadas (como suds-py3 o zeep) para generar el Token y la Sign.\n",
        "Conocer la Especificación de la API de Consulta de CUIT: Debes consultar la documentación oficial de la AFIP para entender la URL específica del servicio de consulta de CUIT, los formatos de solicitud y respuesta, y los encabezados necesarios.\n",
        "En resumen, este código proporciona un marco conceptual para interactuar con la API de AFIP para consultar un CUIT. La parte más compleja y específica de la autenticación con el WSAA y el manejo de la API real no está implementada en detalle debido a la naturaleza de la autenticación y la necesidad de información específica de la AFIP.\n",
        "\n",
        "Para una implementación real, te recomiendo consultar la documentación oficial de la AFIP sobre sus Web Services y buscar ejemplos de código en Python que utilicen las librerías mencionadas para la autenticación con el WSAA."
      ],
      "metadata": {
        "id": "aNwzNUtAVt0s"
      }
    },
    {
      "cell_type": "markdown",
      "source": [
        "**Capítulo 5: Algoritmos para la Detección de Fraude Interno**\n",
        "5.1 Detección de Actividades Sospechosas de Empleados\n",
        "5.2 Análisis de Datos para Identificar Conflictos de Intereses\n",
        "5.3 Monitoreo de Comunicaciones y Registros\n"
      ],
      "metadata": {
        "id": "pOSG1LUTXFFX"
      }
    },
    {
      "cell_type": "code",
      "source": [
        "import pandas as pd\n",
        "from sklearn.model_selection import train_test_split\n",
        "from sklearn.ensemble import IsolationForest\n",
        "from sklearn.preprocessing import LabelEncoder, StandardScaler\n",
        "from sklearn.metrics import accuracy_score, classification_report\n",
        "import numpy as np\n",
        "import matplotlib.pyplot as plt\n",
        "import seaborn as sns\n",
        "\n",
        "# 1. Cargar un dataset simulado para fraude interno\n",
        "data_fraude_interno = {\n",
        "    'ID_Empleado': [101, 102, 101, 103, 102, 104, 101, 103, 105, 102,\n",
        "                    101, 104, 103, 105, 102, 101, 104, 103, 105, 102],\n",
        "    'Tipo_Actividad': ['Acceso_Sistema', 'Solicitud_Reembolso', 'Acceso_Sistema', 'Transferencia_Interna', 'Acceso_Sistema', 'Solicitud_Viaje', 'Descarga_Datos', 'Transferencia_Interna', 'Acceso_Sistema', 'Solicitud_Reembolso',\n",
        "                      'Acceso_Sistema', 'Solicitud_Viaje', 'Transferencia_Interna', 'Descarga_Datos', 'Acceso_Sistema', 'Acceso_Sistema', 'Solicitud_Reembolso', 'Transferencia_Interna', 'Acceso_Sistema', 'Solicitud_Viaje'],\n",
        "    'Monto': [0, 500, 0, 10000, 0, 1500, 0, 8000, 0, 600,\n",
        "              0, 750, 9500, 0, 0, 0, 400, 7000, 0, 1200],\n",
        "    'Fecha_Hora': pd.to_datetime(['2024-04-15 09:00', '2024-04-15 10:15', '2024-04-15 11:00', '2024-04-15 14:30', '2024-04-15 16:00', '2024-04-16 08:45', '2024-04-16 10:00', '2024-04-16 11:30', '2024-04-16 15:00', '2024-04-17 09:30',\n",
        "                                  '2024-04-17 11:00', '2024-04-17 14:00', '2024-04-17 16:30', '2024-04-18 08:00', '2024-04-18 10:30', '2024-04-18 13:00', '2024-04-18 15:45', '2024-04-19 09:15', '2024-04-19 11:45', '2024-04-19 14:00']),\n",
        "    'Departamento': ['Ventas', 'Contabilidad', 'Ventas', 'Finanzas', 'Contabilidad', 'RRHH', 'Ventas', 'Finanzas', 'TI', 'Contabilidad',\n",
        "                     'Ventas', 'RRHH', 'Finanzas', 'TI', 'Contabilidad', 'Ventas', 'Contabilidad', 'Finanzas', 'TI', 'RRHH'],\n",
        "    'Es_Sospechoso': [0, 0, 0, 1, 0, 0, 1, 1, 0, 0,\n",
        "                      0, 0, 1, 0, 0, 0, 0, 1, 0, 0] # 0: No Sospechoso, 1: Sospechoso\n",
        "}\n",
        "df_interno = pd.DataFrame(data_fraude_interno)\n",
        "\n",
        "# 5.1 Detección de Actividades Sospechosas de Empleados\n",
        "print(\"\\n5.1 Detección de Actividades Sospechosas de Empleados (Ejemplo con Isolation Forest):\")\n",
        "if 'Tipo_Actividad' in df_interno.columns and 'Monto' in df_interno.columns and 'ID_Empleado' in df_interno.columns:\n",
        "    # Codificamos el tipo de actividad\n",
        "    le_actividad = LabelEncoder()\n",
        "    df_interno['Tipo_Actividad_Cod'] = le_actividad.fit_transform(df_interno['Tipo_Actividad'])\n",
        "\n",
        "    # Seleccionamos características para la detección de anomalías\n",
        "    features_empleado = ['Tipo_Actividad_Cod', 'Monto']\n",
        "\n",
        "    # Escalamos las características numéricas\n",
        "    X_empleado = df_interno[features_empleado]\n",
        "    scaler_empleado = StandardScaler()\n",
        "    X_scaled_empleado = scaler_empleado.fit_transform(X_empleado)\n",
        "\n",
        "    # Aplicamos Isolation Forest para detectar actividades inusuales\n",
        "    iforest_empleado = IsolationForest(contamination=0.1, random_state=42) # Ajuste de contaminación\n",
        "    df_interno['Anomalia_Empleado'] = iforest_empleado.fit_predict(X_scaled_empleado) # -1: Anómalo, 1: Normal\n",
        "\n",
        "    print(\"Actividades Potencialmente Anómalas por Empleado:\")\n",
        "    print(df_interno[['ID_Empleado', 'Tipo_Actividad', 'Monto', 'Anomalia_Empleado']].head(10))\n",
        "\n",
        "    # Podemos analizar las anomalías (donde 'Anomalia_Empleado' es -1)\n",
        "    anomalous_activities = df_interno[df_interno['Anomalia_Empleado'] == -1]\n",
        "    if not anomalous_activities.empty:\n",
        "        print(\"\\nActividades Marcadas como Anómalas:\")\n",
        "        print(anomalous_activities[['ID_Empleado', 'Tipo_Actividad', 'Monto']])\n",
        "    else:\n",
        "        print(\"\\nNo se detectaron actividades anómalas en este ejemplo.\")\n",
        "else:\n",
        "    print(\"\\nNo se pueden realizar análisis para 5.1 porque faltan columnas necesarias.\")\n",
        "\n",
        "# 5.2 Análisis de Datos para Identificar Conflictos de Intereses (Ejemplo Conceptual)\n",
        "print(\"\\n5.2 Análisis de Datos para Identificar Conflictos de Intereses (Ejemplo Conceptual):\")\n",
        "# Supongamos que tenemos información sobre relaciones entre empleados y proveedores/clientes.\n",
        "\n",
        "# Ejemplo simplificado: Buscamos empleados que realizan transferencias internas a montos altos\n",
        "if 'Tipo_Actividad' in df_interno.columns and 'Monto' in df_interno.columns and 'Departamento' in df_interno.columns:\n",
        "    transferencias_altas = df_interno[(df_interno['Tipo_Actividad'] == 'Transferencia_Interna') & (df_interno['Monto'] > 5000)]\n",
        "    if not transferencias_altas.empty:\n",
        "        print(\"\\nTransferencias Internas de Monto Alto:\")\n",
        "        print(transferencias_altas[['ID_Empleado', 'Monto', 'Departamento', 'Tipo_Actividad']])\n",
        "        # Podríamos analizar si hay patrones como transferencias a empleados del mismo departamento\n",
        "    else:\n",
        "        print(\"\\nNo se encontraron transferencias internas de monto alto en este ejemplo.\")\n",
        "\n",
        "    # Otro ejemplo: Empleados que solicitan reembolsos frecuentes o de montos altos\n",
        "    reembolsos_altos = df_interno[(df_interno['Tipo_Actividad'] == 'Solicitud_Reembolso') & (df_interno['Monto'] > 1000)]\n",
        "    if not reembolsos_altos.empty:\n",
        "        print(\"\\nSolicitudes de Reembolso de Monto Alto:\")\n",
        "        print(reembolsos_altos[['ID_Empleado', 'Monto', 'Departamento', 'Tipo_Actividad']])\n",
        "        # Podríamos investigar la frecuencia de estas solicitudes por empleado\n",
        "    else:\n",
        "        print(\"\\nNo se encontraron solicitudes de reembolso de monto alto en este ejemplo.\")\n",
        "else:\n",
        "    print(\"\\nNo se pueden realizar análisis conceptual para 5.2 porque faltan columnas necesarias.\")\n",
        "\n",
        "# 5.3 Monitoreo de Comunicaciones y Registros (Ejemplo Conceptual)\n",
        "print(\"\\n5.3 Monitoreo de Comunicaciones y Registros (Ejemplo Conceptual):\")\n",
        "# En un escenario real, se analizarían correos electrónicos, chats, logs de acceso, etc.\n",
        "\n",
        "# Ejemplo simplificado: Contar la frecuencia de ciertos tipos de actividades por empleado\n",
        "if 'ID_Empleado' in df_interno.columns and 'Tipo_Actividad' in df_interno.columns:\n",
        "    frecuencia_actividades = df_interno.groupby(['ID_Empleado', 'Tipo_Actividad']).size().reset_index(name='Conteo')\n",
        "    print(\"\\nFrecuencia de Actividades por Empleado:\")\n",
        "    print(frecuencia_actividades.sort_values(by=['ID_Empleado', 'Conteo'], ascending=False))\n",
        "\n",
        "    # Podríamos buscar patrones inusuales, como un empleado que accede a muchos sistemas\n",
        "    # o realiza muchos intentos de transferencia.\n",
        "\n",
        "    # Ejemplo: Identificar empleados con más de 3 accesos al sistema\n",
        "    accesos_frecuentes = frecuencia_actividades[(frecuencia_actividades['Tipo_Actividad'] == 'Acceso_Sistema') & (frecuencia_actividades['Conteo'] > 3)]\n",
        "    if not accesos_frecuentes.empty:\n",
        "        print(\"\\nEmpleados con Frecuentes Accesos al Sistema:\")\n",
        "        print(accesos_frecuentes[['ID_Empleado', 'Conteo']])\n",
        "    else:\n",
        "        print(\"\\nNo se encontraron empleados con accesos al sistema muy frecuentes en este ejemplo.\")\n",
        "else:\n",
        "    print(\"\\nNo se puede realizar análisis conceptual para 5.3 porque faltan columnas necesarias.\")"
      ],
      "metadata": {
        "colab": {
          "base_uri": "https://localhost:8080/"
        },
        "id": "PAFuJY0HVGAN",
        "outputId": "a7dc869f-8224-4035-e221-df704b1f0768"
      },
      "execution_count": null,
      "outputs": [
        {
          "output_type": "stream",
          "name": "stdout",
          "text": [
            "\n",
            "5.1 Detección de Actividades Sospechosas de Empleados (Ejemplo con Isolation Forest):\n",
            "Actividades Potencialmente Anómalas por Empleado:\n",
            "   ID_Empleado         Tipo_Actividad  Monto  Anomalia_Empleado\n",
            "0          101         Acceso_Sistema      0                  1\n",
            "1          102    Solicitud_Reembolso    500                  1\n",
            "2          101         Acceso_Sistema      0                  1\n",
            "3          103  Transferencia_Interna  10000                 -1\n",
            "4          102         Acceso_Sistema      0                  1\n",
            "5          104        Solicitud_Viaje   1500                  1\n",
            "6          101         Descarga_Datos      0                  1\n",
            "7          103  Transferencia_Interna   8000                  1\n",
            "8          105         Acceso_Sistema      0                  1\n",
            "9          102    Solicitud_Reembolso    600                  1\n",
            "\n",
            "Actividades Marcadas como Anómalas:\n",
            "    ID_Empleado         Tipo_Actividad  Monto\n",
            "3           103  Transferencia_Interna  10000\n",
            "17          103  Transferencia_Interna   7000\n",
            "\n",
            "5.2 Análisis de Datos para Identificar Conflictos de Intereses (Ejemplo Conceptual):\n",
            "\n",
            "Transferencias Internas de Monto Alto:\n",
            "    ID_Empleado  Monto Departamento         Tipo_Actividad\n",
            "3           103  10000     Finanzas  Transferencia_Interna\n",
            "7           103   8000     Finanzas  Transferencia_Interna\n",
            "12          103   9500     Finanzas  Transferencia_Interna\n",
            "17          103   7000     Finanzas  Transferencia_Interna\n",
            "\n",
            "No se encontraron solicitudes de reembolso de monto alto en este ejemplo.\n",
            "\n",
            "5.3 Monitoreo de Comunicaciones y Registros (Ejemplo Conceptual):\n",
            "\n",
            "Frecuencia de Actividades por Empleado:\n",
            "   ID_Empleado         Tipo_Actividad  Conteo\n",
            "8          105         Acceso_Sistema       2\n",
            "9          105         Descarga_Datos       1\n",
            "7          104        Solicitud_Viaje       2\n",
            "6          104    Solicitud_Reembolso       1\n",
            "5          103  Transferencia_Interna       4\n",
            "2          102         Acceso_Sistema       2\n",
            "3          102    Solicitud_Reembolso       2\n",
            "4          102        Solicitud_Viaje       1\n",
            "0          101         Acceso_Sistema       4\n",
            "1          101         Descarga_Datos       1\n",
            "\n",
            "Empleados con Frecuentes Accesos al Sistema:\n",
            "   ID_Empleado  Conteo\n",
            "0          101       4\n"
          ]
        }
      ]
    },
    {
      "cell_type": "markdown",
      "source": [
        "Carga del Dataset Simulado:\n",
        "\n",
        "Se crea un nuevo DataFrame df_interno que simula actividades de empleados dentro de una organización. Las columnas incluyen ID_Empleado, Tipo_Actividad, Monto, Fecha_Hora, Departamento y una etiqueta Es_Sospechoso.\n",
        "5.1 Detección de Actividades Sospechosas de Empleados:\n",
        "\n",
        "Codificación de Actividades: Se utiliza LabelEncoder para convertir la columna categórica Tipo_Actividad en valores numéricos.\n",
        "Selección de Características: Se eligen las características Tipo_Actividad_Cod y Monto para la detección de anomalías.\n",
        "Escalado de Características: Se aplica StandardScaler para estandarizar las características numéricas.\n",
        "Detección de Anómalos (Isolation Forest): Se utiliza IsolationForest, un algoritmo de detección de anomalías no supervisado, para identificar actividades que son inusuales o se desvían significativamente del comportamiento normal.\n",
        "contamination: Este parámetro estima la proporción de valores atípicos en el dataset. Se ajusta según las expectativas o el conocimiento del dominio.\n",
        "fit_predict(): Entrena el modelo y predice si cada instancia es una anomalía (-1) o normal (1).\n",
        "5.2 Análisis de Datos para Identificar Conflictos de Intereses (Ejemplo Conceptual):\n",
        "\n",
        "Se presentan ejemplos conceptuales de cómo se podrían analizar los datos para identificar posibles conflictos de intereses:\n",
        "Transferencias Internas de Monto Alto: Se busca a empleados que realizan transferencias internas por encima de un cierto umbral.\n",
        "Solicitudes de Reembolso de Monto Alto: Se busca a empleados con solicitudes de reembolso que superan un umbral.\n",
        "Nota Conceptual: Se enfatiza que este es un análisis conceptual y que en un escenario real se necesitaría más información y un análisis más detallado de las relaciones y los datos.\n",
        "5.3 Monitoreo de Comunicaciones y Registros (Ejemplo Conceptual):\n",
        "\n",
        "Se presenta un ejemplo conceptual de cómo se podría analizar la frecuencia de diferentes tipos de actividades por empleado.\n",
        "Conteo de Actividades: Se utiliza groupby() y size() para contar la frecuencia de cada tipo de actividad por empleado.\n",
        "Identificación de Patrones Inusuales: Se muestra un ejemplo de cómo se podría identificar a empleados con una frecuencia inusualmente alta de accesos al sistema.\n",
        "Nota Conceptual: Se destaca que en un escenario real, el monitoreo de comunicaciones y registros implicaría el análisis de correos electrónicos, chats, logs de acceso, etc., lo cual es más complejo y requeriría técnicas de procesamiento de lenguaje natural y análisis de logs.\n",
        "Cómo se relaciona con el Capítulo 5:\n",
        "\n",
        "Este código ilustra la aplicación de técnicas para la detección de fraude interno, cubriendo los temas del Capítulo 5:\n",
        "\n",
        "5.1 Detección de Actividades Sospechosas de Empleados: Se utiliza el algoritmo IsolationForest para identificar actividades que se desvían de los patrones normales de comportamiento de los empleados.\n",
        "5.2 Análisis de Datos para Identificar Conflictos de Intereses: Se proporcionan ejemplos conceptuales de cómo se podrían analizar los datos para detectar transferencias o solicitudes de reembolso inusuales, que podrían indicar conflictos de intereses.\n",
        "5.3 Monitoreo de Comunicaciones y Registros: Se presenta un ejemplo conceptual de cómo se podría analizar la frecuencia de diferentes tipos de actividades para identificar comportamientos potencialmente sospechosos.\n",
        "Limitaciones y Consideraciones:\n",
        "\n",
        "Dataset Simulado: El dataset es pequeño y simulado. Los resultados no reflejan la complejidad de los datos reales de una organización.\n",
        "Características Limitadas: Se utilizan solo algunas características. En un entorno real, se analizarían muchos más tipos de datos y atributos.\n",
        "Detección de Anomalías Simple: La detección de anomalías con Isolation Forest es una técnica útil, pero podría requerir ajustes finos en el parámetro contamination y una evaluación más exhaustiva.\n",
        "Análisis Conceptual: Las secciones 5.2 y 5.3 son principalmente conceptuales y no implementan análisis complejos de relaciones o comunicaciones.\n",
        "Falta de Contexto: El análisis se basa en datos aislados. En la práctica, se necesitaría un conocimiento más profundo del contexto organizacional y de los roles de los empleados.\n",
        "Este código proporciona una introducción práctica y simplificada a cómo se podrían aplicar algoritmos y técnicas básicas para la detección de fraude interno. Para una implementación real, se requeriría un análisis más detallado de los datos, la selección de características más relevantes y la aplicación de técnicas más avanzadas."
      ],
      "metadata": {
        "id": "6zHgKgeFY0c-"
      }
    },
    {
      "cell_type": "code",
      "source": [
        "import pandas as pd\n",
        "from faker import Faker\n",
        "from sklearn.model_selection import train_test_split\n",
        "from sklearn.linear_model import LogisticRegression\n",
        "from sklearn.preprocessing import LabelEncoder, StandardScaler\n",
        "from sklearn.metrics import classification_report, accuracy_score, confusion_matrix\n",
        "import numpy as np\n",
        "import random\n",
        "\n",
        "# 1. Generación de un dataset simulado para rendiciones de caja de empleados\n",
        "fake = Faker('es_AR')\n",
        "\n",
        "num_rendiciones = 100\n",
        "data_rendiciones = {\n",
        "    'ID_Rendicion': range(1, num_rendiciones + 1),\n",
        "    'ID_Empleado': [random.randint(100, 110) for _ in range(num_rendiciones)],\n",
        "    'Fecha': pd.to_datetime([fake.date_this_year() for _ in range(num_rendiciones)]),\n",
        "    'Concepto': [random.choice(['Viáticos', 'Material de Oficina', 'Gastos de Representación', 'Otros']) for _ in range(num_rendiciones)],\n",
        "    'Monto': np.random.uniform(10, 500, num_rendiciones),\n",
        "    'Detalle': [fake.text(max_nb_chars=50) for _ in range(num_rendiciones)],\n",
        "    'Documento_Adjunto': [random.choice(['Factura', 'Recibo', 'Ticket', None]) for _ in range(num_rendiciones)],\n",
        "    'Es_Fraude': np.zeros(num_rendiciones, dtype=int) # Inicialmente todas son no fraudulentas\n",
        "}\n",
        "df_rendiciones = pd.DataFrame(data_rendiciones)\n",
        "\n",
        "# 2. Inserción de Fraudes Simulados\n",
        "num_fraudes = int(num_rendiciones * 0.05) # 5% de rendiciones fraudulentas\n",
        "fraude_indices = np.random.choice(df_rendiciones.index, num_fraudes, replace=False)\n",
        "df_rendiciones.loc[fraude_indices, 'Es_Fraude'] = 1\n",
        "\n",
        "# Modificaciones para simular fraude (ejemplos)\n",
        "for idx in fraude_indices:\n",
        "    if random.random() < 0.4: # 40% de casos: Monto inflado\n",
        "        df_rendiciones.loc[idx, 'Monto'] *= random.uniform(2, 5)\n",
        "        df_rendiciones.loc[idx, 'Concepto'] = random.choice(['Viáticos', 'Gastos de Representación']) # Posiblemente más susceptible a inflar\n",
        "    elif random.random() < 0.3: # 30% de casos: Detalle sospechoso\n",
        "        df_rendiciones.loc[idx, 'Detalle'] = \"Compra personal no relacionada con la empresa\"\n",
        "    else: # 30% de casos: Documento faltante o incorrecto\n",
        "        df_rendiciones.loc[idx, 'Documento_Adjunto'] = None\n",
        "        if random.random() < 0.5:\n",
        "            df_rendiciones.loc[idx, 'Concepto'] = 'Otros' # Más fácil de justificar sin documento\n",
        "\n",
        "# 3. Ingeniería de Características\n",
        "# a) Extracción de información temporal\n",
        "df_rendiciones['Dia_Semana'] = df_rendiciones['Fecha'].dt.dayofweek # 0: Lunes, 6: Domingo\n",
        "df_rendiciones['Mes'] = df_rendiciones['Fecha'].dt.month\n",
        "\n",
        "# b) Codificación de variables categóricas\n",
        "le_concepto = LabelEncoder()\n",
        "df_rendiciones['Concepto_Cod'] = le_concepto.fit_transform(df_rendiciones['Concepto'])\n",
        "\n",
        "le_documento = LabelEncoder()\n",
        "df_rendiciones['Documento_Cod'] = le_documento.fit_transform(df_rendiciones['Documento_Adjunto'].fillna('Ninguno')) # Manejo de NaN\n",
        "\n",
        "# c) Análisis de Detalle (Simplificado - Buscando palabras clave)\n",
        "def analizar_detalle(detalle):\n",
        "    if isinstance(detalle, str):\n",
        "        if any(keyword in detalle.lower() for keyword in ['personal', 'privado', 'no relacionado']):\n",
        "            return 1\n",
        "    return 0\n",
        "df_rendiciones['Detalle_Sospechoso'] = df_rendiciones['Detalle'].apply(analizar_detalle)\n",
        "\n",
        "# d) Frecuencia de Rendiciones por Empleado (Ejemplo de comportamiento)\n",
        "frecuencia_empleado = df_rendiciones.groupby('ID_Empleado').size().reset_index(name='Frecuencia_Rendiciones')\n",
        "df_rendiciones = pd.merge(df_rendiciones, frecuencia_empleado, on='ID_Empleado', how='left')\n",
        "\n",
        "# 4. Selección de Características y Preparación de Datos\n",
        "features = ['Monto', 'Concepto_Cod', 'Documento_Cod', 'Dia_Semana', 'Mes', 'Detalle_Sospechoso', 'Frecuencia_Rendiciones']\n",
        "X = df_rendiciones[features]\n",
        "y = df_rendiciones['Es_Fraude']\n",
        "\n",
        "# Manejo de valores faltantes (si los hubiera)\n",
        "X = X.fillna(0)\n",
        "\n",
        "# 5. División de Datos en Entrenamiento y Prueba\n",
        "X_train, X_test, y_train, y_test = train_test_split(X, y, test_size=0.3, random_state=42)\n",
        "\n",
        "# 6. Escalado de Características (para algunos modelos)\n",
        "scaler = StandardScaler()\n",
        "X_train_scaled = scaler.fit_transform(X_train)\n",
        "X_test_scaled = scaler.transform(X_test)\n",
        "\n",
        "# 7. Entrenamiento del Modelo de Clasificación (Regresión Logística)\n",
        "print(\"\\n7. Entrenamiento del Modelo de Detección de Fraude en Rendiciones (Regresión Logística):\")\n",
        "model = LogisticRegression(random_state=42)\n",
        "model.fit(X_train_scaled, y_train)\n",
        "y_pred = model.predict(X_test_scaled)\n",
        "\n",
        "# 8. Evaluación del Modelo\n",
        "print(\"\\n8. Evaluación del Modelo:\")\n",
        "print(\"Precisión del Modelo:\", accuracy_score(y_test, y_pred))\n",
        "print(\"\\nReporte de Clasificación:\\n\", classification_report(y_test, y_pred, target_names=['No Fraude', 'Fraude'], labels=np.unique(y_pred))) # Added labels parameter\n",
        "print(\"\\nMatriz de Confusión:\\n\", confusion_matrix(y_test, y_pred))\n",
        "\n",
        "# 9. Análisis de las Rendiciones Detectadas como Fraudulentas\n",
        "df_test = df_rendiciones.loc[X_test.index].copy()\n",
        "df_test['Prediccion_Fraude'] = y_pred\n",
        "rendiciones_fraudulentas_detectadas = df_test[df_test['Prediccion_Fraude'] == 1][['ID_Empleado', 'Fecha', 'Concepto', 'Monto', 'Detalle', 'Documento_Adjunto', 'Es_Fraude', 'Prediccion_Fraude']]\n",
        "print(\"\\n9. Rendiciones de Caja Detectadas como Fraudulentas:\")\n",
        "print(rendiciones_fraudulentas_detectadas)\n",
        "\n",
        "# 10. Análisis de Importancia de Características (Opcional - para entender el modelo)\n",
        "if hasattr(model, 'coef_'):\n",
        "    importancia_caracteristicas = pd.DataFrame({'Caracteristica': features, 'Importancia': model.coef_[0]})\n",
        "    importancia_caracteristicas = importancia_caracteristicas.sort_values(by='Importancia', ascending=False)\n",
        "    print(\"\\n10. Importancia de las Características (Regresión Logística):\")\n",
        "    print(importancia_caracteristicas)"
      ],
      "metadata": {
        "colab": {
          "base_uri": "https://localhost:8080/"
        },
        "id": "Svs8DfwvZAqn",
        "outputId": "6afe4311-7093-47ca-d5d2-2de8c6402de8"
      },
      "execution_count": null,
      "outputs": [
        {
          "output_type": "stream",
          "name": "stdout",
          "text": [
            "\n",
            "7. Entrenamiento del Modelo de Detección de Fraude en Rendiciones (Regresión Logística):\n",
            "\n",
            "8. Evaluación del Modelo:\n",
            "Precisión del Modelo: 0.9333333333333333\n",
            "\n",
            "Reporte de Clasificación:\n",
            "               precision    recall  f1-score   support\n",
            "\n",
            "   No Fraude       0.93      1.00      0.97        28\n",
            "\n",
            "   micro avg       0.93      1.00      0.97        28\n",
            "   macro avg       0.93      1.00      0.97        28\n",
            "weighted avg       0.93      1.00      0.97        28\n",
            "\n",
            "\n",
            "Matriz de Confusión:\n",
            " [[28  0]\n",
            " [ 2  0]]\n",
            "\n",
            "9. Rendiciones de Caja Detectadas como Fraudulentas:\n",
            "Empty DataFrame\n",
            "Columns: [ID_Empleado, Fecha, Concepto, Monto, Detalle, Documento_Adjunto, Es_Fraude, Prediccion_Fraude]\n",
            "Index: []\n",
            "\n",
            "10. Importancia de las Características (Regresión Logística):\n",
            "           Caracteristica  Importancia\n",
            "0                   Monto     0.706679\n",
            "6  Frecuencia_Rendiciones     0.527868\n",
            "3              Dia_Semana     0.354570\n",
            "5      Detalle_Sospechoso     0.000000\n",
            "1            Concepto_Cod    -0.008644\n",
            "4                     Mes    -0.132847\n",
            "2           Documento_Cod    -0.600078\n"
          ]
        },
        {
          "output_type": "stream",
          "name": "stderr",
          "text": [
            "/usr/local/lib/python3.11/dist-packages/sklearn/metrics/_classification.py:2687: UserWarning: labels size, 1, does not match size of target_names, 2\n",
            "  warnings.warn(\n"
          ]
        }
      ]
    },
    {
      "cell_type": "markdown",
      "source": [
        "\n",
        "\n",
        "**Generación de un Dataset Simulado: **\n",
        "\n",
        "Se crea un DataFrame df_rendiciones que simula rendiciones de caja de empleados.\n",
        "Se utilizan datos aleatorios generados con numpy y random para las diferentes columnas.\n",
        "Faker('es_AR') se utiliza para generar fechas y texto de ejemplo.\n",
        "Inserción de Fraudes Simulados:\n",
        "\n",
        "Se selecciona aleatoriamente un porcentaje de las rendiciones para marcarlas como fraudulentas.\n",
        "Se simulan diferentes tipos de fraude mediante la manipulación de los datos de las rendiciones fraudulentas:\n",
        "Monto Inflado: Se aumenta el monto de algunas rendiciones fraudulentas.\n",
        "Detalle Sospechoso: Se asigna un detalle que indica un posible uso personal.\n",
        "Documento Faltante o Incorrecto: Se establece None para el documento adjunto o se modifica el concepto.\n",
        "Ingeniería de Características:\n",
        "\n",
        "Información Temporal: Se extraen el día de la semana y el mes de la columna 'Fecha'.\n",
        "Codificación de Variables Categóricas: Se utiliza LabelEncoder para convertir las columnas categóricas 'Concepto' y 'Documento_Adjunto' en valores numéricos. Se maneja NaN en 'Documento_Adjunto' asignándole un valor.\n",
        "Análisis de Detalle (Simplificado): Se define una función analizar_detalle que busca palabras clave sospechosas en la columna 'Detalle'.\n",
        "Frecuencia de Rendiciones por Empleado: Se calcula la frecuencia con la que cada empleado presenta rendiciones. Esto puede ser un indicador de comportamiento inusual si un empleado presenta muchas rendiciones en un corto período.\n",
        "Selección de Características y Preparación de Datos:\n",
        "\n",
        "Se define una lista de las características que se utilizarán para entrenar el modelo.\n",
        "Se seleccionan estas características y la variable objetivo (y).\n",
        "Se manejan los valores faltantes (si los hubiera).\n",
        "División de Datos:\n",
        "\n",
        "Se divide el dataset en conjuntos de entrenamiento y prueba.\n",
        "Escalado de Características:\n",
        "\n",
        "Se aplica StandardScaler a las características numéricas para normalizar su escala. Esto puede mejorar el rendimiento de algunos modelos.\n",
        "Entrenamiento del Modelo:\n",
        "\n",
        "Se entrena un modelo de regresión logística, un algoritmo de clasificación lineal, utilizando los datos de entrenamiento escalados.\n",
        "Evaluación del Modelo:\n",
        "\n",
        "Se evalúa el rendimiento del modelo en el conjunto de prueba utilizando métricas como la precisión, el reporte de clasificación (precisión, recall, F1-score por clase) y la matriz de confusión.\n",
        "Análisis de las Rendiciones Detectadas como Fraudulentas:\n",
        "\n",
        "Se crea un nuevo DataFrame con los datos del conjunto de prueba y las predicciones del modelo.\n",
        "Se filtran las rendiciones que el modelo predijo como fraudulentas para su análisis.\n",
        "Análisis de Importancia de Características (Opcional):\n",
        "\n",
        "Para el modelo de regresión logística, se muestra la importancia de cada característica (los coeficientes del modelo). Esto ayuda a entender qué características son más influyentes en la predicción del fraude.\n",
        "Cómo se Relaciona con la Detección de Fraude en Rendiciones de Caja:\n",
        "\n",
        "Este código implementa un enfoque de detección de fraude en rendiciones de caja al:\n",
        "\n",
        "Simular Datos Realistas: Genera un dataset con información típica de las rendiciones de caja, incluyendo la simulación de diferentes tipos de fraude.\n",
        "Utilizar Características Relevantes: Considera características como el monto, el concepto, el documento adjunto, la información temporal y el detalle de la rendición.\n",
        "Incorporar Ingeniería de Características: Crea nuevas características (análisis del detalle, frecuencia de rendiciones) que pueden ser más predictivas del fraude.\n",
        "Aplicar un Modelo de Aprendizaje Automático: Utiliza un modelo de clasificación (regresión logística) para aprender patrones de fraude a partir de los datos simulados.\n",
        "Evaluar el Rendimiento: Evalúa la capacidad del modelo para identificar correctamente las rendiciones fraudulentas.\n",
        "Mejoras y Consideraciones:\n",
        "\n",
        "Validación de Datos: En un sistema real, se realizarían validaciones más rigurosas de los datos (formatos, rangos, etc.).\n",
        "Análisis de Texto Más Avanzado: El análisis del detalle podría mejorarse utilizando técnicas de procesamiento del lenguaje natural (NLP) más avanzadas para identificar patrones de texto sospechosos.\n",
        "Modelos Más Complejos: Se podrían probar modelos de clasificación más complejos como Random Forest, Gradient Boosting, o incluso redes neuronales, especialmente con datasets más grandes.\n",
        "Análisis de Comportamiento del Empleado: Se podrían incorporar más características relacionadas con el comportamiento del empleado, como la frecuencia de presentación de rendiciones en relación con el tiempo, los montos promedio, etc.\n",
        "Manejo del Desequilibrio de Clases: En la mayoría de los casos de fraude, la clase \"Fraude\" es mucho menos frecuente que la clase \"No Fraude\". Se podrían aplicar técnicas para manejar el desequilibrio de clases (oversampling, undersampling, ponderación de clases).\n",
        "Integración con Sistemas Reales: Este es un ejemplo conceptual. En un entorno real, se integraría con los sistemas de gestión de rendiciones de caja.\n",
        "Este código proporciona una base para comprender cómo se podría abordar la detección de fraude en las rendiciones de caja de empleados utilizando técnicas de aprendizaje automático. La implementación real requeriría una adaptación a los datos y las necesidades específicas de la organización."
      ],
      "metadata": {
        "id": "Iy1DcQ9AZlS3"
      }
    },
    {
      "cell_type": "code",
      "source": [
        "import pandas as pd\n",
        "from faker import Faker\n",
        "from sklearn.model_selection import train_test_split\n",
        "from sklearn.ensemble import RandomForestClassifier\n",
        "from sklearn.preprocessing import LabelEncoder, StandardScaler\n",
        "from sklearn.metrics import classification_report, accuracy_score, confusion_matrix\n",
        "import numpy as np\n",
        "import random\n",
        "\n",
        "# 1. Generación de un dataset simulado para fraude interno en caja\n",
        "fake = Faker('es_AR')\n",
        "\n",
        "num_transacciones = 150\n",
        "data_caja = {\n",
        "    'ID_Transaccion': range(1, num_transacciones + 1),\n",
        "    'ID_Cajero': [random.randint(201, 215) for _ in range(num_transacciones)],\n",
        "    'Fecha_Hora': pd.to_datetime([fake.date_time_this_year() for _ in range(num_transacciones)]),\n",
        "    'Tipo_Transaccion': [random.choice(['Venta', 'Devolución', 'Reintegro', 'Ajuste', 'Fondo Fijo']) for _ in range(num_transacciones)],\n",
        "    'Monto': np.random.uniform(-50, 1000, num_transacciones), # Incluye montos negativos para devoluciones/reintegros\n",
        "    'Descripcion': [fake.text(max_nb_chars=40) for _ in range(num_transacciones)],\n",
        "    'Metodo_Pago': [random.choice(['Efectivo', 'Tarjeta Débito', 'Tarjeta Crédito', 'Cheque']) for _ in range(num_transacciones)],\n",
        "    'Estado': [random.choice(['Completado', 'Pendiente', 'Cancelado']) for _ in range(num_transacciones)],\n",
        "    'Es_Fraude': np.zeros(num_transacciones, dtype=int) # Inicialmente todas son no fraudulentas\n",
        "}\n",
        "df_caja = pd.DataFrame(data_caja)\n",
        "\n",
        "# 2. Inserción de Fraudes Simulados\n",
        "num_fraudes = int(num_transacciones * 0.08) # 8% de transacciones fraudulentas\n",
        "fraude_indices = np.random.choice(df_caja.index, num_fraudes, replace=False)\n",
        "df_caja.loc[fraude_indices, 'Es_Fraude'] = 1\n",
        "\n",
        "# Modificaciones para simular fraude (ejemplos)\n",
        "for idx in fraude_indices:\n",
        "    if random.random() < 0.4: # 40% de casos: Monto incorrecto o manipulado\n",
        "        df_caja.loc[idx, 'Monto'] *= random.uniform(1.5, 3) # Inflación o manipulación\n",
        "        if df_caja.loc[idx, 'Tipo_Transaccion'] == 'Venta':\n",
        "            df_caja.loc[idx, 'Descripcion'] = f\"Venta ficticia de {fake.word()}\"\n",
        "        elif df_caja.loc[idx, 'Tipo_Transaccion'] == 'Devolución':\n",
        "            df_caja.loc[idx, 'Monto'] *= -1 # Simular devolución fraudulenta con monto erróneo\n",
        "    elif random.random() < 0.3: # 30% de casos: Transacciones inusuales o no justificadas\n",
        "        df_caja.loc[idx, 'Tipo_Transaccion'] = 'Ajuste'\n",
        "        df_caja.loc[idx, 'Monto'] = random.uniform(500, 2000)\n",
        "        df_caja.loc[idx, 'Descripcion'] = \"Ajuste de caja no detallado\"\n",
        "    else: # 30% de casos: Manipulación de método de pago o estado\n",
        "        if random.random() < 0.5:\n",
        "            df_caja.loc[idx, 'Metodo_Pago'] = 'Efectivo' # Preferido para fraude\n",
        "        df_caja.loc[idx, 'Estado'] = 'Pendiente' # Para ocultar o manipular\n",
        "\n",
        "# 3. Ingeniería de Características\n",
        "# a) Información temporal\n",
        "df_caja['Dia_Semana'] = df_caja['Fecha_Hora'].dt.dayofweek # 0: Lunes, 6: Domingo\n",
        "df_caja['Hora'] = df_caja['Fecha_Hora'].dt.hour\n",
        "df_caja['Es_Fin_Semana'] = df_caja['Fecha_Hora'].dt.dayofweek.isin([5, 6]).astype(int) # 1 si es sábado o domingo\n",
        "\n",
        "# b) Codificación de variables categóricas\n",
        "le_tipo = LabelEncoder()\n",
        "df_caja['Tipo_Transaccion_Cod'] = le_tipo.fit_transform(df_caja['Tipo_Transaccion'])\n",
        "\n",
        "le_metodo = LabelEncoder()\n",
        "df_caja['Metodo_Pago_Cod'] = le_metodo.fit_transform(df_caja['Metodo_Pago'])\n",
        "\n",
        "le_estado = LabelEncoder()\n",
        "df_caja['Estado_Cod'] = le_estado.fit_transform(df_caja['Estado'])\n",
        "\n",
        "# c) Análisis de Descripción (Simplificado - Palabras Clave)\n",
        "def analizar_descripcion(descripcion):\n",
        "    if isinstance(descripcion, str):\n",
        "        if any(keyword in descripcion.lower() for keyword in ['faltante', 'error', 'ajuste', 'no detallado']):\n",
        "            return 1\n",
        "    return 0\n",
        "df_caja['Descripcion_Sospechosa'] = df_caja['Descripcion'].apply(analizar_descripcion)\n",
        "\n",
        "# d) Frecuencia de Transacciones por Cajero\n",
        "frecuencia_cajero = df_caja.groupby('ID_Cajero').size().reset_index(name='Frecuencia_Transacciones')\n",
        "df_caja = pd.merge(df_caja, frecuencia_cajero, on='ID_Cajero', how='left')\n",
        "\n",
        "# e) Monto Relativo (Ejemplo: Montos muy altos o negativos inusuales)\n",
        "df_caja['Monto_Absoluto'] = df_caja['Monto'].abs()\n",
        "# Podríamos definir umbrales para identificar montos extremos\n",
        "\n",
        "# 4. Selección de Características y Preparación de Datos\n",
        "features = ['Monto', 'Tipo_Transaccion_Cod', 'Metodo_Pago_Cod', 'Estado_Cod',\n",
        "            'Dia_Semana', 'Hora', 'Es_Fin_Semana', 'Descripcion_Sospechosa',\n",
        "            'Frecuencia_Transacciones', 'Monto_Absoluto']\n",
        "X = df_caja[features]\n",
        "y = df_caja['Es_Fraude']\n",
        "\n",
        "# Manejo de valores faltantes (si los hubiera)\n",
        "X = X.fillna(0)\n",
        "\n",
        "# 5. División de Datos en Entrenamiento y Prueba\n",
        "X_train, X_test, y_train, y_test = train_test_split(X, y, test_size=0.3, random_state=42)\n",
        "\n",
        "# 6. Escalado de Características (para algunos modelos)\n",
        "scaler = StandardScaler()\n",
        "X_train_scaled = scaler.fit_transform(X_train)\n",
        "X_test_scaled = scaler.transform(X_test)\n",
        "\n",
        "# 7. Entrenamiento del Modelo de Clasificación (Random Forest)\n",
        "print(\"\\n7. Entrenamiento del Modelo de Detección de Fraude en Caja (Random Forest):\")\n",
        "model = RandomForestClassifier(random_state=42)\n",
        "model.fit(X_train_scaled, y_train)\n",
        "y_pred = model.predict(X_test_scaled)\n",
        "\n",
        "# 8. Evaluación del Modelo\n",
        "print(\"\\n8. Evaluación del Modelo:\")\n",
        "print(\"Precisión del Modelo:\", accuracy_score(y_test, y_pred))\n",
        "print(\"\\nReporte de Clasificación:\\n\", classification_report(y_test, y_pred, target_names=['No Fraude', 'Fraude']))\n",
        "print(\"\\nMatriz de Confusión:\\n\", confusion_matrix(y_test, y_pred))\n",
        "\n",
        "# 9. Análisis de las Transacciones Detectadas como Fraudulentas\n",
        "df_test = df_caja.loc[X_test.index].copy()\n",
        "df_test['Prediccion_Fraude'] = y_pred\n",
        "transacciones_fraudulentas_detectadas = df_test[df_test['Prediccion_Fraude'] == 1][['ID_Cajero', 'Fecha_Hora', 'Tipo_Transaccion', 'Monto', 'Descripcion', 'Metodo_Pago', 'Estado', 'Es_Fraude', 'Prediccion_Fraude']]\n",
        "print(\"\\n9. Transacciones de Caja Detectadas como Fraudulentas:\")\n",
        "print(transacciones_fraudulentas_detectadas)\n",
        "\n",
        "# 10. Análisis de Importancia de Características\n",
        "if hasattr(model, 'feature_importances_'):\n",
        "    importancia_caracteristicas = pd.DataFrame({'Caracteristica': features, 'Importancia': model.feature_importances_})\n",
        "    importancia_caracteristicas = importancia_caracteristicas.sort_values(by='Importancia', ascending=False)\n",
        "    print(\"\\n10. Importancia de las Características (Random Forest):\")\n",
        "    print(importancia_caracteristicas)"
      ],
      "metadata": {
        "colab": {
          "base_uri": "https://localhost:8080/"
        },
        "id": "CaxmHfS-aBgK",
        "outputId": "fd753162-3213-4bf7-8ec8-3011ce20fbdd"
      },
      "execution_count": null,
      "outputs": [
        {
          "output_type": "stream",
          "name": "stdout",
          "text": [
            "\n",
            "7. Entrenamiento del Modelo de Detección de Fraude en Caja (Random Forest):\n",
            "\n",
            "8. Evaluación del Modelo:\n",
            "Precisión del Modelo: 0.9333333333333333\n",
            "\n",
            "Reporte de Clasificación:\n",
            "               precision    recall  f1-score   support\n",
            "\n",
            "   No Fraude       0.93      1.00      0.96        41\n",
            "      Fraude       1.00      0.25      0.40         4\n",
            "\n",
            "    accuracy                           0.93        45\n",
            "   macro avg       0.97      0.62      0.68        45\n",
            "weighted avg       0.94      0.93      0.91        45\n",
            "\n",
            "\n",
            "Matriz de Confusión:\n",
            " [[41  0]\n",
            " [ 3  1]]\n",
            "\n",
            "9. Transacciones de Caja Detectadas como Fraudulentas:\n",
            "     ID_Cajero                 Fecha_Hora Tipo_Transaccion        Monto  \\\n",
            "143        214 2025-01-31 00:56:28.458406           Ajuste  1355.985497   \n",
            "\n",
            "                  Descripcion     Metodo_Pago     Estado  Es_Fraude  \\\n",
            "143  Rerum id libero facilis.  Tarjeta Débito  Cancelado          1   \n",
            "\n",
            "     Prediccion_Fraude  \n",
            "143                  1  \n",
            "\n",
            "10. Importancia de las Características (Random Forest):\n",
            "             Caracteristica  Importancia\n",
            "0                     Monto     0.278590\n",
            "9            Monto_Absoluto     0.239970\n",
            "5                      Hora     0.115526\n",
            "4                Dia_Semana     0.086066\n",
            "1      Tipo_Transaccion_Cod     0.059030\n",
            "8  Frecuencia_Transacciones     0.058282\n",
            "3                Estado_Cod     0.049777\n",
            "2           Metodo_Pago_Cod     0.048974\n",
            "7    Descripcion_Sospechosa     0.046437\n",
            "6             Es_Fin_Semana     0.017348\n"
          ]
        }
      ]
    },
    {
      "cell_type": "markdown",
      "source": [
        "Importación de Librerías: Se mantienen las librerías necesarias para la manipulación de datos, generación de datos simulados, división de datos, modelos de clasificación, preprocesamiento y evaluación.\n",
        "\n",
        "Generación de un Dataset Simulado:\n",
        "\n",
        "Se crea un DataFrame df_caja que simula transacciones de caja.\n",
        "Las columnas incluyen ID_Transaccion, ID_Cajero, Fecha_Hora, Tipo_Transaccion, Monto, Descripcion, Metodo_Pago, Estado y la etiqueta Es_Fraude.\n",
        "Los montos ahora incluyen valores negativos para simular devoluciones o reintegros.\n",
        "Inserción de Fraudes Simulados:\n",
        "\n",
        "Se simula un porcentaje de transacciones fraudulentas.\n",
        "Se introducen modificaciones en los datos de las transacciones fraudulentas para simular diferentes tipos de fraude en caja:\n",
        "Monto Incorrecto: Se inflan o manipulan los montos de las ventas o se alteran los montos de las devoluciones.\n",
        "Transacciones Inusuales: Se simulan \"Ajustes\" de caja con montos altos y descripciones genéricas.\n",
        "Manipulación de Detalles: Se asignan descripciones sospechosas.\n",
        "Manipulación de Método de Pago/Estado: Se simula la preferencia por efectivo o la alteración del estado de la transacción.\n",
        "Ingeniería de Características:\n",
        "\n",
        "Información Temporal: Se extraen el día de la semana, la hora y se crea una variable booleana para indicar si la transacción ocurrió en fin de semana.\n",
        "Codificación de Variables Categóricas: Se codifican las columnas categóricas Tipo_Transaccion, Metodo_Pago y Estado utilizando LabelEncoder.\n",
        "Análisis de Descripción (Palabras Clave): Se define una función para identificar descripciones que contienen palabras clave sospechosas relacionadas con errores o ajustes no detallados.\n",
        "Frecuencia de Transacciones por Cajero: Se calcula la frecuencia de las transacciones realizadas por cada cajero.\n",
        "Monto Absoluto: Se crea una columna con el valor absoluto del monto, lo que puede ayudar a identificar montos extremos independientemente del signo.\n",
        "Selección de Características y Preparación de Datos:\n",
        "\n",
        "Se define una lista de características a utilizar para el entrenamiento del modelo.\n",
        "Se seleccionan las características y la variable objetivo.\n",
        "Se manejan los valores faltantes.\n",
        "División de Datos:\n",
        "\n",
        "Se divide el dataset en conjuntos de entrenamiento y prueba.\n",
        "Escalado de Características:\n",
        "\n",
        "Se aplica StandardScaler para escalar las características numéricas.\n",
        "Entrenamiento del Modelo:\n",
        "\n",
        "Se entrena un modelo de RandomForestClassifier. Los modelos de ensemble como Random Forest suelen ser robustos y efectivos para la detección de fraudes.\n",
        "Evaluación del Modelo:\n",
        "\n",
        "Se evalúa el rendimiento del modelo utilizando métricas estándar.\n",
        "Análisis de las Transacciones Detectadas como Fraudulentas:\n",
        "\n",
        "Se identifican y se muestran las transacciones que el modelo predijo como fraudulentas.\n",
        "Análisis de Importancia de Características:\n",
        "\n",
        "Se calcula la importancia de cada característica para el modelo Random Forest, lo que ayuda a entender qué factores son más relevantes para la detección de fraude en este contexto.\n",
        "Cómo se Relaciona con la Detección de Fraude Interno en Caja:\n",
        "\n",
        "Este código aborda la detección de fraude interno en caja al considerar:\n",
        "\n",
        "Transacciones Específicas de Caja: Se simulan diferentes tipos de transacciones comunes en una caja registradora (ventas, devoluciones, etc.).\n",
        "Características Relevantes: Se utilizan características como el monto, el tipo de transacción, el método de pago, el estado de la transacción, la información temporal, la descripción y el cajero.\n",
        "Simulación de Patrones de Fraude: Se simulan diferentes formas en que un empleado podría cometer fraude en caja, como manipulación de montos, transacciones inusuales y descripciones sospechosas.\n",
        "Análisis de Comportamiento: Se incluye la frecuencia de transacciones por cajero como una posible característica de comportamiento.\n",
        "Uso de un Modelo de Aprendizaje Automático: Se entrena un modelo para aprender a identificar patrones asociados con transacciones fraudulentas.\n",
        "Mejoras y Consideraciones Adicionales:\n",
        "\n",
        "Mayor Detalle en la Simulación de Fraude: Se podrían simular fraudes más específicos, como la manipulación de precios, el uso de códigos de descuento fraudulentos, etc.\n",
        "Análisis de Texto Más Profundo: La columna 'Descripcion' podría someterse a un análisis de texto más avanzado (por ejemplo, utilizando TF-IDF o embeddings) para identificar patrones de lenguaje sospechosos.\n",
        "Características del Cajero: Si se dispusiera de más información sobre los cajeros (historial, antigüedad, etc.), se podrían incluir más características relacionadas con el empleado.\n",
        "Detección de Anomalías Específicas: Se podrían implementar reglas o modelos específicos para detectar tipos de fraude más puntuales (por ejemplo, devoluciones excesivas, transacciones de ajuste frecuentes).\n",
        "Visualizaciones Adicionales: Se podrían generar visualizaciones para explorar la distribución de las variables y la relación entre las características y la variable objetivo.\n",
        "Ajuste de Hiperparámetros: Para un rendimiento óptimo, se deberían ajustar los hiperparámetros del modelo Random Forest.\n",
        "Este código proporciona una base sólida para la detección de fraude interno en caja, demostrando cómo se pueden simular datos, realizar ingeniería de características y aplicar un modelo de aprendizaje automático para identificar transacciones sospechosas.\n",
        "\n",
        "\n",
        "\n",
        "\n",
        "\n",
        "\n",
        "\n",
        "\n"
      ],
      "metadata": {
        "id": "FeKvAYS4aHIM"
      }
    }
  ]
}